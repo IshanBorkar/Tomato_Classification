{
 "cells": [
  {
   "cell_type": "markdown",
   "metadata": {},
   "source": [
    "### Import the packages"
   ]
  },
  {
   "cell_type": "code",
   "execution_count": 1,
   "metadata": {},
   "outputs": [],
   "source": [
    "import numpy as np\n",
    "import pandas as pd\n",
    "import glob\n",
    "import os\n",
    "import matplotlib.pyplot as pyplot\n",
    "import string\n",
    "import cv2\n",
    "from mlxtend.plotting import plot_decision_regions\n",
    "from mpl_toolkits.mplot3d import Axes3D\n",
    "\n",
    "from sklearn.decomposition import PCA\n",
    "from sklearn.preprocessing import StandardScaler\n",
    "from sklearn.neighbors import KNeighborsClassifier\n",
    "from sklearn.tree import DecisionTreeClassifier \n",
    "from sklearn.model_selection import train_test_split, cross_val_score\n",
    "from sklearn.utils.multiclass import unique_labels\n",
    "from sklearn import metrics\n",
    "from sklearn.svm import SVC\n",
    "import warnings\n",
    "warnings.filterwarnings('ignore')"
   ]
  },
  {
   "cell_type": "code",
   "execution_count": 2,
   "metadata": {},
   "outputs": [
    {
     "name": "stdout",
     "output_type": "stream",
     "text": [
      "['Testing', 'Training']\n"
     ]
    }
   ],
   "source": [
    "print(os.listdir(\"C://Users/Ishan.Borkar/Desktop/Tomato analysis/Kaggle/\"))\n",
    "dim = 500"
   ]
  },
  {
   "cell_type": "code",
   "execution_count": 3,
   "metadata": {},
   "outputs": [],
   "source": [
    "def getTomatoes(tomatoes, data_type, print_n=False, k_fold=False):\n",
    "    images = []\n",
    "    labels = []\n",
    "    val = ['Training', 'Testing']\n",
    "    if not k_fold:\n",
    "        path = \"C://Users/Ishan.Borkar/Desktop/Tomato analysis/Kaggle/\" + data_type + \"/\"\n",
    "        for i,f in enumerate(tomatoes):\n",
    "            p = path + f\n",
    "            j=0\n",
    "            for image_path in glob.glob(os.path.join(p, \"*.jpg\")):\n",
    "                image = cv2.imread(image_path, cv2.IMREAD_COLOR)\n",
    "                image = cv2.resize(image, (dim, dim))\n",
    "                image = cv2.cvtColor(image, cv2.COLOR_RGB2BGR)\n",
    "                images.append(image)\n",
    "                labels.append(i)\n",
    "                j+=1\n",
    "            if(print_n):\n",
    "                print(\"There are \" , j , \" \" , data_type, \" images of \" , tomatoes[i])\n",
    "        images = np.array(images)\n",
    "        labels = np.array(labels)\n",
    "        return images, labels\n",
    "    else:\n",
    "        for v in val:\n",
    "            path = \"C://Users/Ishan.Borkar/Desktop/Tomato analysis/Kaggle/\" + v + \"/\"\n",
    "            for i,f in enumerate(tomatoes):\n",
    "                p = path + f\n",
    "                j=0\n",
    "                for image_path in glob.glob(os.path.join(p, \"*.jpg\")):\n",
    "                    image = cv2.imread(image_path, cv2.IMREAD_COLOR)\n",
    "                    image = cv2.resize(image, (dim, dim))\n",
    "                    image = cv2.cvtColor(image, cv2.COLOR_RGB2BGR)\n",
    "                    images.append(image)\n",
    "                    labels.append(i)\n",
    "                    j+=1\n",
    "        images = np.array(images)\n",
    "        labels = np.array(labels)\n",
    "        return images, labels\n",
    "    \n",
    "def getAllTomatoes():\n",
    "    tomatoes = []\n",
    "    for tomato_path in glob.glob(\"C://Users/Ishan.Borkar/Desktop/Tomato analysis/Kaggle/Training/*\"):\n",
    "        tomato = tomato_path.split(\"/\")[-1]\n",
    "        tomatoes.append(tomato)\n",
    "    return tomatoes"
   ]
  },
  {
   "cell_type": "markdown",
   "metadata": {},
   "source": [
    "### Training data"
   ]
  },
  {
   "cell_type": "markdown",
   "metadata": {},
   "source": [
    "#### Initialize the tomatoes on the training data"
   ]
  },
  {
   "cell_type": "code",
   "execution_count": 4,
   "metadata": {},
   "outputs": [
    {
     "name": "stdout",
     "output_type": "stream",
     "text": [
      "['Mobile_captured_red_tomatoes', 'Mobile_captured_green_tomatoes']\n",
      "There are  150   Training  images of  Mobile_captured_red_tomatoes\n",
      "There are  150   Training  images of  Mobile_captured_green_tomatoes\n",
      "There are  100   Testing  images of  Mobile_captured_red_tomatoes\n",
      "There are  100   Testing  images of  Mobile_captured_green_tomatoes\n"
     ]
    }
   ],
   "source": [
    "tomatoes=['Mobile_captured_red_tomatoes','Mobile_captured_green_tomatoes']\n",
    "print(tomatoes)\n",
    "X_train, y_train =  getTomatoes(tomatoes, 'Training', print_n=True, k_fold=False)\n",
    "X_test, y_test = getTomatoes(tomatoes, 'Testing', print_n=True, k_fold=False)"
   ]
  },
  {
   "cell_type": "markdown",
   "metadata": {},
   "source": [
    "#### Use K-fold on the training data"
   ]
  },
  {
   "cell_type": "code",
   "execution_count": 5,
   "metadata": {},
   "outputs": [
    {
     "name": "stdout",
     "output_type": "stream",
     "text": [
      "X =  [[[[255 255 255]\n",
      "   [255 255 255]\n",
      "   [255 255 255]\n",
      "   ...\n",
      "   [255 255 255]\n",
      "   [255 255 255]\n",
      "   [255 255 255]]\n",
      "\n",
      "  [[255 255 255]\n",
      "   [255 255 255]\n",
      "   [255 255 255]\n",
      "   ...\n",
      "   [255 255 255]\n",
      "   [255 255 255]\n",
      "   [255 255 255]]\n",
      "\n",
      "  [[255 255 255]\n",
      "   [255 255 255]\n",
      "   [255 255 255]\n",
      "   ...\n",
      "   [255 255 255]\n",
      "   [255 255 255]\n",
      "   [255 255 255]]\n",
      "\n",
      "  ...\n",
      "\n",
      "  [[255 255 255]\n",
      "   [255 255 255]\n",
      "   [255 255 255]\n",
      "   ...\n",
      "   [255 255 255]\n",
      "   [255 255 255]\n",
      "   [255 255 255]]\n",
      "\n",
      "  [[255 255 255]\n",
      "   [255 255 255]\n",
      "   [255 255 255]\n",
      "   ...\n",
      "   [255 255 255]\n",
      "   [255 255 255]\n",
      "   [255 255 255]]\n",
      "\n",
      "  [[255 255 255]\n",
      "   [255 255 255]\n",
      "   [255 255 255]\n",
      "   ...\n",
      "   [255 255 255]\n",
      "   [255 255 255]\n",
      "   [255 255 255]]]\n",
      "\n",
      "\n",
      " [[[255 255 255]\n",
      "   [255 255 255]\n",
      "   [255 255 255]\n",
      "   ...\n",
      "   [255 255 255]\n",
      "   [255 255 255]\n",
      "   [255 255 255]]\n",
      "\n",
      "  [[255 255 255]\n",
      "   [255 255 255]\n",
      "   [255 255 255]\n",
      "   ...\n",
      "   [255 255 255]\n",
      "   [255 255 255]\n",
      "   [255 255 255]]\n",
      "\n",
      "  [[255 255 255]\n",
      "   [255 255 255]\n",
      "   [255 255 255]\n",
      "   ...\n",
      "   [255 255 255]\n",
      "   [255 255 255]\n",
      "   [255 255 255]]\n",
      "\n",
      "  ...\n",
      "\n",
      "  [[255 255 255]\n",
      "   [255 255 255]\n",
      "   [255 255 255]\n",
      "   ...\n",
      "   [255 255 255]\n",
      "   [255 255 255]\n",
      "   [255 255 255]]\n",
      "\n",
      "  [[255 255 255]\n",
      "   [255 255 255]\n",
      "   [255 255 255]\n",
      "   ...\n",
      "   [255 255 255]\n",
      "   [255 255 255]\n",
      "   [255 255 255]]\n",
      "\n",
      "  [[255 255 255]\n",
      "   [255 255 255]\n",
      "   [255 255 255]\n",
      "   ...\n",
      "   [255 255 255]\n",
      "   [255 255 255]\n",
      "   [255 255 255]]]\n",
      "\n",
      "\n",
      " [[[255 255 255]\n",
      "   [255 255 255]\n",
      "   [255 255 255]\n",
      "   ...\n",
      "   [255 255 255]\n",
      "   [255 255 255]\n",
      "   [255 255 255]]\n",
      "\n",
      "  [[255 255 255]\n",
      "   [255 255 255]\n",
      "   [255 255 255]\n",
      "   ...\n",
      "   [255 255 255]\n",
      "   [255 255 255]\n",
      "   [255 255 255]]\n",
      "\n",
      "  [[255 255 255]\n",
      "   [255 255 255]\n",
      "   [255 255 255]\n",
      "   ...\n",
      "   [255 255 255]\n",
      "   [255 255 255]\n",
      "   [255 255 255]]\n",
      "\n",
      "  ...\n",
      "\n",
      "  [[255 255 255]\n",
      "   [255 255 255]\n",
      "   [255 255 255]\n",
      "   ...\n",
      "   [255 255 255]\n",
      "   [255 255 255]\n",
      "   [255 255 255]]\n",
      "\n",
      "  [[255 255 255]\n",
      "   [255 255 255]\n",
      "   [255 255 255]\n",
      "   ...\n",
      "   [255 255 255]\n",
      "   [255 255 255]\n",
      "   [255 255 255]]\n",
      "\n",
      "  [[255 255 255]\n",
      "   [255 255 255]\n",
      "   [255 255 255]\n",
      "   ...\n",
      "   [255 255 255]\n",
      "   [255 255 255]\n",
      "   [255 255 255]]]\n",
      "\n",
      "\n",
      " ...\n",
      "\n",
      "\n",
      " [[[255 255 255]\n",
      "   [255 255 255]\n",
      "   [255 255 255]\n",
      "   ...\n",
      "   [255 255 255]\n",
      "   [255 255 255]\n",
      "   [255 255 255]]\n",
      "\n",
      "  [[255 255 255]\n",
      "   [255 255 255]\n",
      "   [255 255 255]\n",
      "   ...\n",
      "   [255 255 255]\n",
      "   [255 255 255]\n",
      "   [255 255 255]]\n",
      "\n",
      "  [[255 255 255]\n",
      "   [255 255 255]\n",
      "   [255 255 255]\n",
      "   ...\n",
      "   [255 255 255]\n",
      "   [255 255 255]\n",
      "   [255 255 255]]\n",
      "\n",
      "  ...\n",
      "\n",
      "  [[255 255 255]\n",
      "   [255 255 255]\n",
      "   [255 255 255]\n",
      "   ...\n",
      "   [255 255 255]\n",
      "   [255 255 255]\n",
      "   [255 255 255]]\n",
      "\n",
      "  [[255 255 255]\n",
      "   [255 255 255]\n",
      "   [255 255 255]\n",
      "   ...\n",
      "   [255 255 255]\n",
      "   [255 255 255]\n",
      "   [255 255 255]]\n",
      "\n",
      "  [[255 255 255]\n",
      "   [255 255 255]\n",
      "   [255 255 255]\n",
      "   ...\n",
      "   [255 255 255]\n",
      "   [255 255 255]\n",
      "   [255 255 255]]]\n",
      "\n",
      "\n",
      " [[[255 255 255]\n",
      "   [255 255 255]\n",
      "   [255 255 255]\n",
      "   ...\n",
      "   [255 255 255]\n",
      "   [255 255 255]\n",
      "   [255 255 255]]\n",
      "\n",
      "  [[255 255 255]\n",
      "   [255 255 255]\n",
      "   [255 255 255]\n",
      "   ...\n",
      "   [255 255 255]\n",
      "   [255 255 255]\n",
      "   [255 255 255]]\n",
      "\n",
      "  [[255 255 255]\n",
      "   [255 255 255]\n",
      "   [255 255 255]\n",
      "   ...\n",
      "   [255 255 255]\n",
      "   [255 255 255]\n",
      "   [255 255 255]]\n",
      "\n",
      "  ...\n",
      "\n",
      "  [[255 255 255]\n",
      "   [255 255 255]\n",
      "   [255 255 255]\n",
      "   ...\n",
      "   [255 255 255]\n",
      "   [255 255 255]\n",
      "   [255 255 255]]\n",
      "\n",
      "  [[255 255 255]\n",
      "   [255 255 255]\n",
      "   [255 255 255]\n",
      "   ...\n",
      "   [255 255 255]\n",
      "   [255 255 255]\n",
      "   [255 255 255]]\n",
      "\n",
      "  [[255 255 255]\n",
      "   [255 255 255]\n",
      "   [255 255 255]\n",
      "   ...\n",
      "   [255 255 255]\n",
      "   [255 255 255]\n",
      "   [255 255 255]]]\n",
      "\n",
      "\n",
      " [[[255 255 255]\n",
      "   [255 255 255]\n",
      "   [255 255 255]\n",
      "   ...\n",
      "   [255 255 255]\n",
      "   [255 255 255]\n",
      "   [255 255 255]]\n",
      "\n",
      "  [[255 255 255]\n",
      "   [255 255 255]\n",
      "   [255 255 255]\n",
      "   ...\n",
      "   [255 255 255]\n",
      "   [255 255 255]\n",
      "   [255 255 255]]\n",
      "\n",
      "  [[255 255 255]\n",
      "   [255 255 255]\n",
      "   [255 255 255]\n",
      "   ...\n",
      "   [255 255 255]\n",
      "   [255 255 255]\n",
      "   [255 255 255]]\n",
      "\n",
      "  ...\n",
      "\n",
      "  [[255 255 255]\n",
      "   [255 255 255]\n",
      "   [255 255 255]\n",
      "   ...\n",
      "   [255 255 255]\n",
      "   [255 255 255]\n",
      "   [255 255 255]]\n",
      "\n",
      "  [[255 255 255]\n",
      "   [255 255 255]\n",
      "   [255 255 255]\n",
      "   ...\n",
      "   [255 255 255]\n",
      "   [255 255 255]\n",
      "   [255 255 255]]\n",
      "\n",
      "  [[255 255 255]\n",
      "   [255 255 255]\n",
      "   [255 255 255]\n",
      "   ...\n",
      "   [255 255 255]\n",
      "   [255 255 255]\n",
      "   [255 255 255]]]]\n",
      "y =  [0 0 0 0 0 0 0 0 0 0 0 0 0 0 0 0 0 0 0 0 0 0 0 0 0 0 0 0 0 0 0 0 0 0 0 0 0\n",
      " 0 0 0 0 0 0 0 0 0 0 0 0 0 0 0 0 0 0 0 0 0 0 0 0 0 0 0 0 0 0 0 0 0 0 0 0 0\n",
      " 0 0 0 0 0 0 0 0 0 0 0 0 0 0 0 0 0 0 0 0 0 0 0 0 0 0 0 0 0 0 0 0 0 0 0 0 0\n",
      " 0 0 0 0 0 0 0 0 0 0 0 0 0 0 0 0 0 0 0 0 0 0 0 0 0 0 0 0 0 0 0 0 0 0 0 0 0\n",
      " 0 0 1 1 1 1 1 1 1 1 1 1 1 1 1 1 1 1 1 1 1 1 1 1 1 1 1 1 1 1 1 1 1 1 1 1 1\n",
      " 1 1 1 1 1 1 1 1 1 1 1 1 1 1 1 1 1 1 1 1 1 1 1 1 1 1 1 1 1 1 1 1 1 1 1 1 1\n",
      " 1 1 1 1 1 1 1 1 1 1 1 1 1 1 1 1 1 1 1 1 1 1 1 1 1 1 1 1 1 1 1 1 1 1 1 1 1\n",
      " 1 1 1 1 1 1 1 1 1 1 1 1 1 1 1 1 1 1 1 1 1 1 1 1 1 1 1 1 1 1 1 1 1 1 1 1 1\n",
      " 1 1 1 1 0 0 0 0 0 0 0 0 0 0 0 0 0 0 0 0 0 0 0 0 0 0 0 0 0 0 0 0 0 0 0 0 0\n",
      " 0 0 0 0 0 0 0 0 0 0 0 0 0 0 0 0 0 0 0 0 0 0 0 0 0 0 0 0 0 0 0 0 0 0 0 0 0\n",
      " 0 0 0 0 0 0 0 0 0 0 0 0 0 0 0 0 0 0 0 0 0 0 0 0 0 0 0 0 0 0 1 1 1 1 1 1 1\n",
      " 1 1 1 1 1 1 1 1 1 1 1 1 1 1 1 1 1 1 1 1 1 1 1 1 1 1 1 1 1 1 1 1 1 1 1 1 1\n",
      " 1 1 1 1 1 1 1 1 1 1 1 1 1 1 1 1 1 1 1 1 1 1 1 1 1 1 1 1 1 1 1 1 1 1 1 1 1\n",
      " 1 1 1 1 1 1 1 1 1 1 1 1 1 1 1 1 1 1 1]\n"
     ]
    }
   ],
   "source": [
    "X,y = getTomatoes(tomatoes, '', print_n=True, k_fold=True)\n",
    "print(\"X = \",X)\n",
    "print(\"y = \",y)"
   ]
  },
  {
   "cell_type": "markdown",
   "metadata": {},
   "source": [
    "#### Scaling the images using Standard Scaler on the training data"
   ]
  },
  {
   "cell_type": "code",
   "execution_count": 6,
   "metadata": {},
   "outputs": [
    {
     "name": "stdout",
     "output_type": "stream",
     "text": [
      "X =  [[0. 0. 0. ... 0. 0. 0.]\n",
      " [0. 0. 0. ... 0. 0. 0.]\n",
      " [0. 0. 0. ... 0. 0. 0.]\n",
      " ...\n",
      " [0. 0. 0. ... 0. 0. 0.]\n",
      " [0. 0. 0. ... 0. 0. 0.]\n",
      " [0. 0. 0. ... 0. 0. 0.]]\n"
     ]
    }
   ],
   "source": [
    "scaler = StandardScaler()\n",
    "X_train1 = scaler.fit_transform([i.flatten() for i in X_train])\n",
    "X_test = scaler.fit_transform([i.flatten() for i in X_test])\n",
    "X = scaler.fit_transform([i.flatten() for i in X])\n",
    "print(\"X = \",X)"
   ]
  },
  {
   "cell_type": "code",
   "execution_count": 7,
   "metadata": {},
   "outputs": [],
   "source": [
    "def plot_image_grid(images, nb_rows, nb_cols, figsize=(15,15)):\n",
    "    assert len(images) == nb_rows*nb_cols, \"Number of images should be the same as (nb_rows*nb_cols)\"\n",
    "    fig, axes = pyplot.subplots(nb_rows, nb_cols, figsize=figsize)\n",
    "    \n",
    "    n = 0\n",
    "    for i in range(0, nb_rows):\n",
    "        for j in range(0, nb_cols):\n",
    "            axes[i, j].axis('off')\n",
    "            axes[i, j].imshow(images[n])\n",
    "            n += 1   "
   ]
  },
  {
   "cell_type": "markdown",
   "metadata": {},
   "source": [
    "### 1) Trained Mobile Captured Red Tomatoes"
   ]
  },
  {
   "cell_type": "code",
   "execution_count": 8,
   "metadata": {},
   "outputs": [
    {
     "name": "stdout",
     "output_type": "stream",
     "text": [
      "Mobile_captured_red_tomatoes\n"
     ]
    },
    {
     "data": {
      "image/png": "[encoded data removed]",
      "text/plain": [
       "<Figure size 1080x1080 with 144 Axes>"
      ]
     },
     "metadata": {
      "needs_background": "light"
     },
     "output_type": "display_data"
    }
   ],
   "source": [
    "print(tomatoes[y_train[0]])\n",
    "plot_image_grid(X_train[0:144], 12, 12)"
   ]
  },
  {
   "cell_type": "markdown",
   "metadata": {},
   "source": [
    "### 2) Trained Mobile Captured Green Tomatoes"
   ]
  },
  {
   "cell_type": "code",
   "execution_count": 9,
   "metadata": {},
   "outputs": [
    {
     "name": "stdout",
     "output_type": "stream",
     "text": [
      "Mobile_captured_green_tomatoes\n"
     ]
    },
    {
     "data": {
      "image/png": "[encoded data removed]",
      "text/plain": [
       "<Figure size 1080x1080 with 144 Axes>"
      ]
     },
     "metadata": {
      "needs_background": "light"
     },
     "output_type": "display_data"
    }
   ],
   "source": [
    "print(tomatoes[y_train[150]])\n",
    "plot_image_grid(X_train[150:294], 12, 12)"
   ]
  },
  {
   "cell_type": "markdown",
   "metadata": {},
   "source": [
    "## 1) Using SVM for Classification on the training data"
   ]
  },
  {
   "cell_type": "markdown",
   "metadata": {},
   "source": [
    "#### Define the model and evaluate all the metrics"
   ]
  },
  {
   "cell_type": "code",
   "execution_count": 10,
   "metadata": {},
   "outputs": [],
   "source": [
    "tomatoes = ['Mobile_captured_red_tomatoes','Mobile_captured_green_tomatoes']\n",
    "\n",
    "#Get Images and Labels\n",
    "X, y =  getTomatoes(tomatoes, 'Training')\n",
    "X_test, y_test = getTomatoes(tomatoes, 'Testing')\n",
    "\n",
    "#Scale Data Images\n",
    "scaler = StandardScaler()\n",
    "X_train = scaler.fit_transform([i.flatten() for i in X])\n",
    "X_test = scaler.fit_transform([i.flatten() for i in X_test])"
   ]
  },
  {
   "cell_type": "markdown",
   "metadata": {},
   "source": [
    "## 1. Linear SVM"
   ]
  },
  {
   "cell_type": "code",
   "execution_count": 11,
   "metadata": {
    "scrolled": true
   },
   "outputs": [
    {
     "name": "stdout",
     "output_type": "stream",
     "text": [
      "Y_Predict = [0 0 0 0 0 0 0 0 0 0 0 0 0 0 0 0 0 0 0 0 0 0 0 0 0 0 0 0 0 0 0 0 0 0 0 0 0\n",
      " 0 0 0 0 0 0 0 0 0 0 0 0 0 0 0 0 0 0 0 0 0 0 0 0 0 0 0 0 0 0 0 0 0 0 0 0 0\n",
      " 0 0 0 0 0 0 0 0 0 0 0 0 0 0 0 0 0 0 0 0 0 0 0 0 0 0 1 1 1 1 1 1 1 1 1 1 1\n",
      " 1 1 1 1 1 1 1 1 1 1 1 1 1 1 1 1 1 1 1 1 1 1 1 1 1 1 1 1 1 1 1 1 1 1 1 1 1\n",
      " 1 1 1 1 1 1 1 1 1 1 1 1 1 1 1 1 1 1 1 1 1 1 1 1 1 1 1 1 1 1 1 1 1 1 1 1 1\n",
      " 1 1 1 1 1 1 1 1 1 1 1 1 1 1 1]\n",
      "Accuracy with Linear SVM = 100.0%\n",
      "Precision with Linear SVM = 100.0%\n",
      "Recall with Linear SVM = 100.0%\n",
      "F1_score with Linear SVM = 100.0%\n"
     ]
    },
    {
     "data": {
      "text/html": [
       "<div>\n",
       "<style scoped>\n",
       "    .dataframe tbody tr th:only-of-type {\n",
       "        vertical-align: middle;\n",
       "    }\n",
       "\n",
       "    .dataframe tbody tr th {\n",
       "        vertical-align: top;\n",
       "    }\n",
       "\n",
       "    .dataframe thead th {\n",
       "        text-align: right;\n",
       "    }\n",
       "</style>\n",
       "<table border=\"1\" class=\"dataframe\">\n",
       "  <thead>\n",
       "    <tr style=\"text-align: right;\">\n",
       "      <th>col_0</th>\n",
       "      <th>0</th>\n",
       "      <th>1</th>\n",
       "    </tr>\n",
       "    <tr>\n",
       "      <th>row_0</th>\n",
       "      <th></th>\n",
       "      <th></th>\n",
       "    </tr>\n",
       "  </thead>\n",
       "  <tbody>\n",
       "    <tr>\n",
       "      <th>0</th>\n",
       "      <td>100</td>\n",
       "      <td>0</td>\n",
       "    </tr>\n",
       "    <tr>\n",
       "      <th>1</th>\n",
       "      <td>0</td>\n",
       "      <td>100</td>\n",
       "    </tr>\n",
       "  </tbody>\n",
       "</table>\n",
       "</div>"
      ],
      "text/plain": [
       "col_0    0    1\n",
       "row_0          \n",
       "0      100    0\n",
       "1        0  100"
      ]
     },
     "execution_count": 11,
     "metadata": {},
     "output_type": "execute_result"
    }
   ],
   "source": [
    "# Linear SVM\n",
    "model = SVC(C=0.1,degree=1, random_state=0,gamma='auto', kernel='linear',probability=True)\n",
    "model.fit(X_train, y) \n",
    "y_predict = model.predict(X_test)\n",
    "print(\"Y_Predict =\",y_predict)\n",
    "accuracy = metrics.accuracy_score(y_predict, y_test) * 100\n",
    "print(\"Accuracy with Linear SVM = {0:.1f}%\".format(accuracy))\n",
    "precision = metrics.precision_score(y_predict, y_test,average='weighted') * 100\n",
    "print(\"Precision with Linear SVM = {0:.1f}%\".format(precision))\n",
    "recall = metrics.recall_score(y_predict, y_test,average='weighted') * 100\n",
    "print(\"Recall with Linear SVM = {0:.1f}%\".format(recall))\n",
    "f1_score = metrics.f1_score(y_predict, y_test,average='weighted') * 100\n",
    "print(\"F1_score with Linear SVM = {0:.1f}%\".format(f1_score))\n",
    "pd.crosstab(y_predict,y_test)"
   ]
  },
  {
   "cell_type": "code",
   "execution_count": 12,
   "metadata": {},
   "outputs": [
    {
     "name": "stdout",
     "output_type": "stream",
     "text": [
      "SVM: precision =  [1. 1. 1. 1.]\n",
      "SVM: recall =  [1.   0.5  0.05 0.  ]\n"
     ]
    }
   ],
   "source": [
    "## Precision-Recall Curve\n",
    "from sklearn.metrics import precision_recall_curve\n",
    "svm_probs = model.predict_proba(X_test)\n",
    "# keep probabilities for the positive outcome only\n",
    "svm_probs = svm_probs[:, 1]\n",
    "y_predict=model.predict(X_test)\n",
    "svm_precision, svm_recall, _ = precision_recall_curve(y_test, svm_probs)\n",
    "# summarize scores\n",
    "print(\"SVM: precision = \",svm_precision)\n",
    "print(\"SVM: recall = \",svm_recall)"
   ]
  },
  {
   "cell_type": "code",
   "execution_count": 13,
   "metadata": {},
   "outputs": [
    {
     "data": {
      "image/png": "[encoded data removed]",
      "text/plain": [
       "<Figure size 432x288 with 1 Axes>"
      ]
     },
     "metadata": {
      "needs_background": "light"
     },
     "output_type": "display_data"
    }
   ],
   "source": [
    "# plot the precision-recall curves\n",
    "no_skill = len(y_test[y_test==1]) / len(y_test)\n",
    "pyplot.plot([0, 1], [no_skill, no_skill], linestyle='--', label='No Skill')\n",
    "pyplot.plot(svm_recall, svm_precision, marker='.', label=' Linear SVM')\n",
    "# axis labels\n",
    "pyplot.xlabel('Recall')\n",
    "pyplot.ylabel('Precision')\n",
    "# show the legend\n",
    "pyplot.legend()\n",
    "# show the plot\n",
    "pyplot.show()"
   ]
  },
  {
   "cell_type": "code",
   "execution_count": 14,
   "metadata": {},
   "outputs": [
    {
     "name": "stdout",
     "output_type": "stream",
     "text": [
      "No Skill: ROC AUC = 0.5\n",
      "Linear SVM : ROC AUC = 1.0\n",
      "ns_fpr = [0. 1.]\n",
      "ns_tpr = [0. 1.]\n",
      "Linear_svm_fpr = [0.   0.   0.   0.   0.2  0.65 1.  ]\n",
      "Linear_svm_tpr = [0.   0.05 0.5  1.   1.   1.   1.  ]\n"
     ]
    }
   ],
   "source": [
    "# ROC AUC Curve\n",
    "from sklearn.metrics import roc_curve,roc_auc_score\n",
    "ns_probs = [0 for _ in range(len(y_test))]\n",
    "ns_auc=roc_auc_score(y_test,ns_probs)\n",
    "svm_auc=roc_auc_score(y_test,svm_probs)\n",
    "print('No Skill: ROC AUC =' ,ns_auc)\n",
    "print('Linear SVM : ROC AUC =',svm_auc)\n",
    "ns_fpr, ns_tpr, _ = roc_curve(y_test, ns_probs)\n",
    "svm_fpr, svm_tpr, _ = roc_curve(y_test, svm_probs)\n",
    "print('ns_fpr =',ns_fpr)\n",
    "print('ns_tpr =',ns_tpr)\n",
    "print('Linear_svm_fpr =',svm_fpr)\n",
    "print('Linear_svm_tpr =',svm_tpr)"
   ]
  },
  {
   "cell_type": "code",
   "execution_count": 15,
   "metadata": {},
   "outputs": [
    {
     "data": {
      "image/png": "[encoded data removed]",
      "text/plain": [
       "<Figure size 432x288 with 1 Axes>"
      ]
     },
     "metadata": {
      "needs_background": "light"
     },
     "output_type": "display_data"
    }
   ],
   "source": [
    "# plot the roc curve for the model\n",
    "pyplot.plot(ns_fpr, ns_tpr, linestyle='--', label='No Skill')\n",
    "pyplot.plot(svm_fpr, svm_tpr, marker='.', label='Linear SVM')\n",
    "# axis labels\n",
    "pyplot.xlabel('False Positive Rate')\n",
    "pyplot.ylabel('True Positive Rate')\n",
    "# show the legend\n",
    "pyplot.legend()\n",
    "# show the plot\n",
    "pyplot.show()"
   ]
  },
  {
   "cell_type": "markdown",
   "metadata": {},
   "source": [
    "## 2. RBF SVM"
   ]
  },
  {
   "cell_type": "code",
   "execution_count": 16,
   "metadata": {},
   "outputs": [
    {
     "name": "stdout",
     "output_type": "stream",
     "text": [
      "Y_Predict = [0 0 0 0 0 0 0 0 0 0 0 0 0 0 0 0 0 0 0 0 0 0 0 0 0 0 0 0 0 0 0 0 0 0 0 0 0\n",
      " 0 0 0 0 0 0 0 0 0 0 0 0 0 0 0 0 0 0 0 0 0 0 0 1 1 1 1 1 0 0 0 0 0 0 0 0 0\n",
      " 0 0 0 0 0 0 0 0 0 0 0 0 0 0 0 0 0 0 0 0 0 0 0 0 0 0 1 1 1 1 1 1 1 1 1 1 1\n",
      " 1 1 1 1 1 1 1 1 1 1 1 1 1 1 1 1 1 1 1 1 1 1 1 1 1 1 1 1 1 1 1 1 1 1 1 1 1\n",
      " 1 1 1 1 1 1 1 1 1 1 1 1 1 1 1 1 1 1 1 1 1 1 1 1 1 1 1 1 1 1 1 1 1 1 1 1 1\n",
      " 1 1 1 1 1 1 1 1 1 1 1 1 1 1 1]\n",
      "Accuracy with Kernel RBF SVM = 97.5%\n",
      "Precision with Kernel RBF SVM = 97.6%\n",
      "Recall with Kernel RBF SVM = 97.5%\n",
      "F1_score with Kernel RBF SVM = 97.5%\n"
     ]
    },
    {
     "data": {
      "text/html": [
       "<div>\n",
       "<style scoped>\n",
       "    .dataframe tbody tr th:only-of-type {\n",
       "        vertical-align: middle;\n",
       "    }\n",
       "\n",
       "    .dataframe tbody tr th {\n",
       "        vertical-align: top;\n",
       "    }\n",
       "\n",
       "    .dataframe thead th {\n",
       "        text-align: right;\n",
       "    }\n",
       "</style>\n",
       "<table border=\"1\" class=\"dataframe\">\n",
       "  <thead>\n",
       "    <tr style=\"text-align: right;\">\n",
       "      <th>col_0</th>\n",
       "      <th>0</th>\n",
       "      <th>1</th>\n",
       "    </tr>\n",
       "    <tr>\n",
       "      <th>row_0</th>\n",
       "      <th></th>\n",
       "      <th></th>\n",
       "    </tr>\n",
       "  </thead>\n",
       "  <tbody>\n",
       "    <tr>\n",
       "      <th>0</th>\n",
       "      <td>95</td>\n",
       "      <td>0</td>\n",
       "    </tr>\n",
       "    <tr>\n",
       "      <th>1</th>\n",
       "      <td>5</td>\n",
       "      <td>100</td>\n",
       "    </tr>\n",
       "  </tbody>\n",
       "</table>\n",
       "</div>"
      ],
      "text/plain": [
       "col_0   0    1\n",
       "row_0         \n",
       "0      95    0\n",
       "1       5  100"
      ]
     },
     "execution_count": 16,
     "metadata": {},
     "output_type": "execute_result"
    }
   ],
   "source": [
    "# Kernel RBF SVM\n",
    "model = SVC(C=0.1,degree=1, random_state=0,gamma='auto', kernel='rbf',probability=True)\n",
    "model.fit(X_train, y) \n",
    "y_predict = model.predict(X_test)\n",
    "print(\"Y_Predict =\",y_predict)\n",
    "accuracy = metrics.accuracy_score(y_predict, y_test) * 100\n",
    "print(\"Accuracy with Kernel RBF SVM = {0:.1f}%\".format(accuracy))\n",
    "precision = metrics.precision_score(y_predict, y_test,average='weighted') * 100\n",
    "print(\"Precision with Kernel RBF SVM = {0:.1f}%\".format(precision))\n",
    "recall = metrics.recall_score(y_predict, y_test,average='weighted') * 100\n",
    "print(\"Recall with Kernel RBF SVM = {0:.1f}%\".format(recall))\n",
    "f1_score = metrics.f1_score(y_predict, y_test,average='weighted') * 100\n",
    "print(\"F1_score with Kernel RBF SVM = {0:.1f}%\".format(f1_score))\n",
    "pd.crosstab(y_predict,y_test)"
   ]
  },
  {
   "cell_type": "code",
   "execution_count": 17,
   "metadata": {},
   "outputs": [
    {
     "name": "stdout",
     "output_type": "stream",
     "text": [
      "RBF SVM: precision =  [0.95238095 0.90909091 1.         1.         1.        ]\n",
      "RBF SVM: recall =  [1.   0.5  0.5  0.05 0.  ]\n"
     ]
    }
   ],
   "source": [
    "## Precision-Recall Curve\n",
    "from sklearn.metrics import precision_recall_curve\n",
    "svm_probs = model.predict_proba(X_test)\n",
    "# keep probabilities for the positive outcome only\n",
    "svm_probs = svm_probs[:, 1]\n",
    "y_predict=model.predict(X_test)\n",
    "svm_precision, svm_recall, _ = precision_recall_curve(y_test, svm_probs)\n",
    "# summarize scores\n",
    "print(\"RBF SVM: precision = \",svm_precision)\n",
    "print(\"RBF SVM: recall = \",svm_recall)"
   ]
  },
  {
   "cell_type": "code",
   "execution_count": 18,
   "metadata": {},
   "outputs": [
    {
     "data": {
      "image/png": "[encoded data removed]",
      "text/plain": [
       "<Figure size 432x288 with 1 Axes>"
      ]
     },
     "metadata": {
      "needs_background": "light"
     },
     "output_type": "display_data"
    }
   ],
   "source": [
    "# plot the precision-recall curves\n",
    "no_skill = len(y_test[y_test==1]) / len(y_test)\n",
    "pyplot.plot([0, 1], [no_skill, no_skill], linestyle='--', label='No Skill')\n",
    "pyplot.plot(svm_recall, svm_precision, marker='.', label='RBF SVM')\n",
    "# axis labels\n",
    "pyplot.xlabel('Recall')\n",
    "pyplot.ylabel('Precision')\n",
    "# show the legend\n",
    "pyplot.legend()\n",
    "# show the plot\n",
    "pyplot.show()"
   ]
  },
  {
   "cell_type": "code",
   "execution_count": 19,
   "metadata": {},
   "outputs": [
    {
     "name": "stdout",
     "output_type": "stream",
     "text": [
      "No Skill: ROC AUC = 0.5\n",
      "RBF SVM : ROC AUC = 0.9750000000000001\n",
      "ns_fpr = [0. 1.]\n",
      "ns_tpr = [0. 1.]\n",
      "RBF_svm_fpr = [0.   0.   0.   0.05 0.05 0.35 0.8  1.  ]\n",
      "RBF_svm_tpr = [0.   0.05 0.5  0.5  1.   1.   1.   1.  ]\n"
     ]
    }
   ],
   "source": [
    "# ROC AUC Curve\n",
    "from sklearn.metrics import roc_curve,roc_auc_score\n",
    "ns_probs = [0 for _ in range(len(y_test))]\n",
    "ns_auc=roc_auc_score(y_test,ns_probs)\n",
    "svm_auc=roc_auc_score(y_test,svm_probs)\n",
    "print('No Skill: ROC AUC =' ,ns_auc)\n",
    "print('RBF SVM : ROC AUC =',svm_auc)\n",
    "ns_fpr, ns_tpr, _ = roc_curve(y_test, ns_probs)\n",
    "svm_fpr, svm_tpr, _ = roc_curve(y_test, svm_probs)\n",
    "print('ns_fpr =',ns_fpr)\n",
    "print('ns_tpr =',ns_tpr)\n",
    "print('RBF_svm_fpr =',svm_fpr)\n",
    "print('RBF_svm_tpr =',svm_tpr)"
   ]
  },
  {
   "cell_type": "code",
   "execution_count": 20,
   "metadata": {
    "scrolled": true
   },
   "outputs": [
    {
     "data": {
      "image/png": "[encoded data removed]",
      "text/plain": [
       "<Figure size 432x288 with 1 Axes>"
      ]
     },
     "metadata": {
      "needs_background": "light"
     },
     "output_type": "display_data"
    }
   ],
   "source": [
    "# plot the roc curve for the model\n",
    "pyplot.plot(ns_fpr, ns_tpr, linestyle='--', label='No Skill')\n",
    "pyplot.plot(svm_fpr, svm_tpr, marker='.', label='RBF SVM')\n",
    "# axis labels\n",
    "pyplot.xlabel('False Positive Rate')\n",
    "pyplot.ylabel('True Positive Rate')\n",
    "# show the legend\n",
    "pyplot.legend()\n",
    "# show the plot\n",
    "pyplot.show()"
   ]
  },
  {
   "cell_type": "markdown",
   "metadata": {},
   "source": [
    "## 3. Poly SVM"
   ]
  },
  {
   "cell_type": "code",
   "execution_count": 21,
   "metadata": {},
   "outputs": [
    {
     "name": "stdout",
     "output_type": "stream",
     "text": [
      "Y_Predict = [0 0 0 0 0 0 0 0 0 0 0 0 0 0 0 0 0 0 0 0 0 0 0 0 0 0 0 0 0 0 0 0 0 0 0 0 0\n",
      " 0 0 0 0 0 0 0 0 1 1 1 1 1 1 1 1 1 1 0 0 0 0 0 1 1 1 1 1 1 1 1 1 1 1 1 1 1\n",
      " 1 1 1 1 1 1 1 1 1 1 1 0 0 0 0 0 0 0 0 0 0 0 0 0 0 0 1 1 1 1 1 1 1 1 1 1 1\n",
      " 1 1 1 1 1 1 1 1 1 1 1 1 1 1 1 1 1 1 1 1 1 1 1 1 1 1 1 1 1 1 1 1 1 1 1 1 1\n",
      " 1 1 1 1 1 1 1 1 1 1 1 1 1 1 1 1 1 1 1 1 1 1 1 1 1 1 1 1 1 1 1 1 1 1 1 1 1\n",
      " 1 1 1 1 1 1 1 1 1 1 1 1 1 1 1]\n",
      "Accuracy with Kernel Poly SVM = 82.5%\n",
      "Precision with Kernel Poly SVM = 88.6%\n",
      "Recall with Kernel Poly SVM = 82.5%\n",
      "F1_score with Kernel Poly SVM = 83.1%\n"
     ]
    },
    {
     "data": {
      "text/html": [
       "<div>\n",
       "<style scoped>\n",
       "    .dataframe tbody tr th:only-of-type {\n",
       "        vertical-align: middle;\n",
       "    }\n",
       "\n",
       "    .dataframe tbody tr th {\n",
       "        vertical-align: top;\n",
       "    }\n",
       "\n",
       "    .dataframe thead th {\n",
       "        text-align: right;\n",
       "    }\n",
       "</style>\n",
       "<table border=\"1\" class=\"dataframe\">\n",
       "  <thead>\n",
       "    <tr style=\"text-align: right;\">\n",
       "      <th>col_0</th>\n",
       "      <th>0</th>\n",
       "      <th>1</th>\n",
       "    </tr>\n",
       "    <tr>\n",
       "      <th>row_0</th>\n",
       "      <th></th>\n",
       "      <th></th>\n",
       "    </tr>\n",
       "  </thead>\n",
       "  <tbody>\n",
       "    <tr>\n",
       "      <th>0</th>\n",
       "      <td>65</td>\n",
       "      <td>0</td>\n",
       "    </tr>\n",
       "    <tr>\n",
       "      <th>1</th>\n",
       "      <td>35</td>\n",
       "      <td>100</td>\n",
       "    </tr>\n",
       "  </tbody>\n",
       "</table>\n",
       "</div>"
      ],
      "text/plain": [
       "col_0   0    1\n",
       "row_0         \n",
       "0      65    0\n",
       "1      35  100"
      ]
     },
     "execution_count": 21,
     "metadata": {},
     "output_type": "execute_result"
    }
   ],
   "source": [
    "# Kernel Poly SVM\n",
    "model = SVC(C=0.1,degree=1, random_state=0,gamma='auto', kernel='poly',probability=True)\n",
    "model.fit(X_train, y) \n",
    "y_predict = model.predict(X_test)\n",
    "print(\"Y_Predict =\",y_predict)\n",
    "accuracy = metrics.accuracy_score(y_predict, y_test) * 100\n",
    "print(\"Accuracy with Kernel Poly SVM = {0:.1f}%\".format(accuracy))\n",
    "precision = metrics.precision_score(y_predict, y_test,average='weighted') * 100\n",
    "print(\"Precision with Kernel Poly SVM = {0:.1f}%\".format(precision))\n",
    "recall = metrics.recall_score(y_predict, y_test,average='weighted') * 100\n",
    "print(\"Recall with Kernel Poly SVM = {0:.1f}%\".format(recall))\n",
    "f1_score = metrics.f1_score(y_predict, y_test,average='weighted') * 100\n",
    "print(\"F1_score with Kernel Poly SVM = {0:.1f}%\".format(f1_score))\n",
    "pd.crosstab(y_predict,y_test)"
   ]
  },
  {
   "cell_type": "code",
   "execution_count": 22,
   "metadata": {},
   "outputs": [
    {
     "name": "stdout",
     "output_type": "stream",
     "text": [
      "Poly SVM: precision =  [0.8        0.66666667 0.71428571 0.76923077 0.83333333 0.90909091\n",
      " 1.         1.         1.        ]\n",
      "Poly SVM: recall =  [1.   0.5  0.5  0.5  0.5  0.5  0.5  0.05 0.  ]\n"
     ]
    }
   ],
   "source": [
    "## Precision-Recall Curve\n",
    "from sklearn.metrics import precision_recall_curve\n",
    "svm_probs = model.predict_proba(X_test)\n",
    "# keep probabilities for the positive outcome only\n",
    "svm_probs = svm_probs[:, 1]\n",
    "y_predict=model.predict(X_test)\n",
    "svm_precision, svm_recall, _ = precision_recall_curve(y_test, svm_probs)\n",
    "# summarize scores\n",
    "print(\"Poly SVM: precision = \",svm_precision)\n",
    "print(\"Poly SVM: recall = \",svm_recall)"
   ]
  },
  {
   "cell_type": "code",
   "execution_count": 23,
   "metadata": {},
   "outputs": [
    {
     "data": {
      "image/png": "[encoded data removed]",
      "text/plain": [
       "<Figure size 432x288 with 1 Axes>"
      ]
     },
     "metadata": {
      "needs_background": "light"
     },
     "output_type": "display_data"
    }
   ],
   "source": [
    "# plot the precision-recall curves\n",
    "no_skill = len(y_test[y_test==1]) / len(y_test)\n",
    "pyplot.plot([0, 1], [no_skill, no_skill], linestyle='--', label='No Skill')\n",
    "pyplot.plot(svm_recall, svm_precision, marker='.', label='Poly SVM')\n",
    "# axis labels\n",
    "pyplot.xlabel('Recall')\n",
    "pyplot.ylabel('Precision')\n",
    "# show the legend\n",
    "pyplot.legend()\n",
    "# show the plot\n",
    "pyplot.show()"
   ]
  },
  {
   "cell_type": "code",
   "execution_count": 24,
   "metadata": {},
   "outputs": [
    {
     "name": "stdout",
     "output_type": "stream",
     "text": [
      "No Skill: ROC AUC = 0.5\n",
      "Poly SVM : ROC AUC = 0.875\n",
      "ns_fpr = [0. 1.]\n",
      "ns_tpr = [0. 1.]\n",
      "Poly_svm_fpr = [0.   0.   0.   0.25 0.25 0.5  0.95 1.  ]\n",
      "Poly_svm_tpr = [0.   0.05 0.5  0.5  1.   1.   1.   1.  ]\n"
     ]
    }
   ],
   "source": [
    "# ROC AUC Curve\n",
    "from sklearn.metrics import roc_curve,roc_auc_score\n",
    "ns_probs = [0 for _ in range(len(y_test))]\n",
    "ns_auc=roc_auc_score(y_test,ns_probs)\n",
    "svm_auc=roc_auc_score(y_test,svm_probs)\n",
    "print('No Skill: ROC AUC =' ,ns_auc)\n",
    "print('Poly SVM : ROC AUC =',svm_auc)\n",
    "ns_fpr, ns_tpr, _ = roc_curve(y_test, ns_probs)\n",
    "svm_fpr, svm_tpr, _ = roc_curve(y_test, svm_probs)\n",
    "print('ns_fpr =',ns_fpr)\n",
    "print('ns_tpr =',ns_tpr)\n",
    "print('Poly_svm_fpr =',svm_fpr)\n",
    "print('Poly_svm_tpr =',svm_tpr)"
   ]
  },
  {
   "cell_type": "code",
   "execution_count": 25,
   "metadata": {},
   "outputs": [
    {
     "data": {
      "image/png": "[encoded data removed]",
      "text/plain": [
       "<Figure size 432x288 with 1 Axes>"
      ]
     },
     "metadata": {
      "needs_background": "light"
     },
     "output_type": "display_data"
    }
   ],
   "source": [
    "# plot the roc curve for the model\n",
    "pyplot.plot(ns_fpr, ns_tpr, linestyle='--', label='No Skill')\n",
    "pyplot.plot(svm_fpr, svm_tpr, marker='.', label='Poly SVM')\n",
    "# axis labels\n",
    "pyplot.xlabel('False Positive Rate')\n",
    "pyplot.ylabel('True Positive Rate')\n",
    "# show the legend\n",
    "pyplot.legend()\n",
    "# show the plot\n",
    "pyplot.show()"
   ]
  },
  {
   "cell_type": "markdown",
   "metadata": {},
   "source": [
    "## 4. Sigmoid SVM"
   ]
  },
  {
   "cell_type": "code",
   "execution_count": 26,
   "metadata": {},
   "outputs": [
    {
     "name": "stdout",
     "output_type": "stream",
     "text": [
      "Y_Predict = [0 0 0 0 0 0 0 0 0 0 0 0 0 0 0 0 0 0 0 0 0 0 0 0 0 0 0 0 0 0 0 0 0 0 0 0 0\n",
      " 0 0 0 0 0 0 0 0 1 1 1 1 1 1 1 1 1 1 0 0 0 0 0 1 1 1 1 1 1 1 1 1 1 1 1 1 1\n",
      " 1 1 1 1 1 1 1 1 1 1 1 0 0 0 0 0 0 0 0 0 0 1 1 1 1 1 1 1 1 1 1 1 1 1 1 1 1\n",
      " 1 1 1 1 1 1 1 1 1 1 1 1 1 1 1 1 1 1 1 1 1 1 1 1 1 1 1 1 1 1 1 1 1 1 1 1 1\n",
      " 1 1 1 1 1 1 1 1 1 1 1 1 1 1 1 1 1 1 1 1 1 1 1 1 1 1 1 1 1 1 1 1 1 1 1 1 1\n",
      " 1 1 1 1 1 1 1 1 1 1 1 1 1 1 1]\n",
      "Accuracy with Sigmoid SVM = 80.0%\n",
      "Precision with Sigmoid SVM = 88.0%\n",
      "Recall with Sigmoid SVM = 80.0%\n",
      "F1_score with Sigmoid SVM = 80.8%\n"
     ]
    },
    {
     "data": {
      "text/html": [
       "<div>\n",
       "<style scoped>\n",
       "    .dataframe tbody tr th:only-of-type {\n",
       "        vertical-align: middle;\n",
       "    }\n",
       "\n",
       "    .dataframe tbody tr th {\n",
       "        vertical-align: top;\n",
       "    }\n",
       "\n",
       "    .dataframe thead th {\n",
       "        text-align: right;\n",
       "    }\n",
       "</style>\n",
       "<table border=\"1\" class=\"dataframe\">\n",
       "  <thead>\n",
       "    <tr style=\"text-align: right;\">\n",
       "      <th>col_0</th>\n",
       "      <th>0</th>\n",
       "      <th>1</th>\n",
       "    </tr>\n",
       "    <tr>\n",
       "      <th>row_0</th>\n",
       "      <th></th>\n",
       "      <th></th>\n",
       "    </tr>\n",
       "  </thead>\n",
       "  <tbody>\n",
       "    <tr>\n",
       "      <th>0</th>\n",
       "      <td>60</td>\n",
       "      <td>0</td>\n",
       "    </tr>\n",
       "    <tr>\n",
       "      <th>1</th>\n",
       "      <td>40</td>\n",
       "      <td>100</td>\n",
       "    </tr>\n",
       "  </tbody>\n",
       "</table>\n",
       "</div>"
      ],
      "text/plain": [
       "col_0   0    1\n",
       "row_0         \n",
       "0      60    0\n",
       "1      40  100"
      ]
     },
     "execution_count": 26,
     "metadata": {},
     "output_type": "execute_result"
    }
   ],
   "source": [
    "# Sigmoid SVM\n",
    "model = SVC(C=0.1,degree=1,random_state=0,gamma='auto',kernel='sigmoid',probability=True)\n",
    "model.fit(X_train, y) \n",
    "y_predict = model.predict(X_test)\n",
    "print(\"Y_Predict =\",y_predict)\n",
    "accuracy = metrics.accuracy_score(y_predict, y_test) * 100\n",
    "print(\"Accuracy with Sigmoid SVM = {0:.1f}%\".format(accuracy))\n",
    "precision = metrics.precision_score(y_predict, y_test,average='weighted') * 100\n",
    "print(\"Precision with Sigmoid SVM = {0:.1f}%\".format(precision))\n",
    "recall = metrics.recall_score(y_predict, y_test,average='weighted') * 100\n",
    "print(\"Recall with Sigmoid SVM = {0:.1f}%\".format(recall))\n",
    "f1_score = metrics.f1_score(y_predict, y_test,average='weighted') * 100\n",
    "print(\"F1_score with Sigmoid SVM = {0:.1f}%\".format(f1_score))\n",
    "pd.crosstab(y_predict,y_test)"
   ]
  },
  {
   "cell_type": "code",
   "execution_count": 27,
   "metadata": {},
   "outputs": [
    {
     "name": "stdout",
     "output_type": "stream",
     "text": [
      "Sigmoid SVM: precision =  [0.8        0.66666667 0.71428571 0.76923077 0.83333333 0.90909091\n",
      " 1.         1.         1.        ]\n",
      "Sigmoid SVM: recall =  [1.   0.5  0.5  0.5  0.5  0.5  0.5  0.05 0.  ]\n"
     ]
    }
   ],
   "source": [
    "## Precision-Recall Curve\n",
    "from sklearn.metrics import precision_recall_curve\n",
    "svm_probs = model.predict_proba(X_test)\n",
    "# keep probabilities for the positive outcome only\n",
    "svm_probs = svm_probs[:, 1]\n",
    "y_predict=model.predict(X_test)\n",
    "svm_precision, svm_recall, _ = precision_recall_curve(y_test, svm_probs)\n",
    "# summarize scores\n",
    "print(\"Sigmoid SVM: precision = \",svm_precision)\n",
    "print(\"Sigmoid SVM: recall = \",svm_recall)"
   ]
  },
  {
   "cell_type": "code",
   "execution_count": 28,
   "metadata": {},
   "outputs": [
    {
     "data": {
      "image/png": "[encoded data removed]",
      "text/plain": [
       "<Figure size 432x288 with 1 Axes>"
      ]
     },
     "metadata": {
      "needs_background": "light"
     },
     "output_type": "display_data"
    }
   ],
   "source": [
    "# plot the precision-recall curves\n",
    "no_skill = len(y_test[y_test==1]) / len(y_test)\n",
    "pyplot.plot([0, 1], [no_skill, no_skill], linestyle='--', label='No Skill')\n",
    "pyplot.plot(svm_recall, svm_precision, marker='.', label='Sigmoid SVM')\n",
    "# axis labels\n",
    "pyplot.xlabel('Recall')\n",
    "pyplot.ylabel('Precision')\n",
    "# show the legend\n",
    "pyplot.legend()\n",
    "# show the plot\n",
    "pyplot.show()"
   ]
  },
  {
   "cell_type": "code",
   "execution_count": 29,
   "metadata": {},
   "outputs": [
    {
     "name": "stdout",
     "output_type": "stream",
     "text": [
      "No Skill: ROC AUC = 0.5\n",
      "Sigmoid SVM : ROC AUC = 0.875\n",
      "ns_fpr = [0. 1.]\n",
      "ns_tpr = [0. 1.]\n",
      "Sigmoid_svm_fpr = [0.   0.   0.   0.25 0.25 0.5  0.95 1.  ]\n",
      "Sigmoid_svm_tpr = [0.   0.05 0.5  0.5  1.   1.   1.   1.  ]\n"
     ]
    }
   ],
   "source": [
    "# ROC AUC Curve\n",
    "from sklearn.metrics import roc_curve,roc_auc_score\n",
    "ns_probs = [0 for _ in range(len(y_test))]\n",
    "ns_auc=roc_auc_score(y_test,ns_probs)\n",
    "svm_auc=roc_auc_score(y_test,svm_probs)\n",
    "print('No Skill: ROC AUC =' ,ns_auc)\n",
    "print('Sigmoid SVM : ROC AUC =',svm_auc)\n",
    "ns_fpr, ns_tpr, _ = roc_curve(y_test, ns_probs)\n",
    "svm_fpr, svm_tpr, _ = roc_curve(y_test, svm_probs)\n",
    "print('ns_fpr =',ns_fpr)\n",
    "print('ns_tpr =',ns_tpr)\n",
    "print('Sigmoid_svm_fpr =',svm_fpr)\n",
    "print('Sigmoid_svm_tpr =',svm_tpr)"
   ]
  },
  {
   "cell_type": "code",
   "execution_count": 30,
   "metadata": {},
   "outputs": [
    {
     "data": {
      "image/png": "[encoded data removed]",
      "text/plain": [
       "<Figure size 432x288 with 1 Axes>"
      ]
     },
     "metadata": {
      "needs_background": "light"
     },
     "output_type": "display_data"
    }
   ],
   "source": [
    "# plot the roc curve for the model\n",
    "pyplot.plot(ns_fpr, ns_tpr, linestyle='--', label='No Skill')\n",
    "pyplot.plot(svm_fpr, svm_tpr, marker='.', label='Sigmoid SVM')\n",
    "# axis labels\n",
    "pyplot.xlabel('False Positive Rate')\n",
    "pyplot.ylabel('True Positive Rate')\n",
    "# show the legend\n",
    "pyplot.legend()\n",
    "# show the plot\n",
    "pyplot.show()"
   ]
  },
  {
   "cell_type": "markdown",
   "metadata": {},
   "source": [
    "## 2) Using PCA for SVM on the training data"
   ]
  },
  {
   "cell_type": "code",
   "execution_count": 31,
   "metadata": {},
   "outputs": [],
   "source": [
    "pca = PCA(n_components=1,random_state=0,svd_solver='full')\n",
    "# Convert the X_train data into 2D\n",
    "X_train_2D = pca.fit_transform(X_train)\n",
    "X_test_2D = pca.fit_transform(X_test)"
   ]
  },
  {
   "cell_type": "code",
   "execution_count": 32,
   "metadata": {},
   "outputs": [
    {
     "name": "stdout",
     "output_type": "stream",
     "text": [
      "Y_Predict = [0 0 0 0 0 0 0 0 0 0 0 0 0 0 0 0 0 0 0 0 0 0 0 0 0 0 0 0 0 0 0 0 0 0 0 0 0\n",
      " 0 0 0 0 0 0 0 0 1 1 1 1 1 1 1 1 1 1 1 1 1 1 1 1 1 1 1 1 1 1 1 1 1 1 1 1 1\n",
      " 1 1 1 1 1 1 1 1 1 1 1 1 1 1 1 1 1 1 1 1 1 1 1 1 1 1 1 1 1 1 1 1 1 1 1 1 1\n",
      " 1 1 1 1 1 1 1 1 1 1 1 1 1 1 1 1 1 1 1 1 1 1 1 1 1 1 1 1 1 1 1 1 1 1 1 1 1\n",
      " 1 1 1 1 1 1 1 1 1 1 1 1 1 1 1 1 1 1 1 1 1 1 1 1 1 1 1 1 1 1 1 1 1 1 1 1 1\n",
      " 1 1 1 1 1 1 1 1 1 1 1 1 1 1 1]\n",
      "Accuracy with Linear SVM after PCA = 72.5%\n",
      "Precision with Linear SVM after PCA = 87.6%\n",
      "Recall with Linear SVM after PCA = 72.5%\n",
      "F1_score with Linear SVM after PCA = 74.7%\n"
     ]
    },
    {
     "data": {
      "text/html": [
       "<div>\n",
       "<style scoped>\n",
       "    .dataframe tbody tr th:only-of-type {\n",
       "        vertical-align: middle;\n",
       "    }\n",
       "\n",
       "    .dataframe tbody tr th {\n",
       "        vertical-align: top;\n",
       "    }\n",
       "\n",
       "    .dataframe thead th {\n",
       "        text-align: right;\n",
       "    }\n",
       "</style>\n",
       "<table border=\"1\" class=\"dataframe\">\n",
       "  <thead>\n",
       "    <tr style=\"text-align: right;\">\n",
       "      <th>col_0</th>\n",
       "      <th>0</th>\n",
       "      <th>1</th>\n",
       "    </tr>\n",
       "    <tr>\n",
       "      <th>row_0</th>\n",
       "      <th></th>\n",
       "      <th></th>\n",
       "    </tr>\n",
       "  </thead>\n",
       "  <tbody>\n",
       "    <tr>\n",
       "      <th>0</th>\n",
       "      <td>45</td>\n",
       "      <td>0</td>\n",
       "    </tr>\n",
       "    <tr>\n",
       "      <th>1</th>\n",
       "      <td>55</td>\n",
       "      <td>100</td>\n",
       "    </tr>\n",
       "  </tbody>\n",
       "</table>\n",
       "</div>"
      ],
      "text/plain": [
       "col_0   0    1\n",
       "row_0         \n",
       "0      45    0\n",
       "1      55  100"
      ]
     },
     "execution_count": 32,
     "metadata": {},
     "output_type": "execute_result"
    }
   ],
   "source": [
    "# Linear SVM\n",
    "model = SVC(C=0.1,degree=1, random_state=0,gamma='auto', kernel='linear',probability=True)\n",
    "model.fit(X_train_2D, y_train) \n",
    "y_predict_2D = model.predict(X_test_2D)\n",
    "print(\"Y_Predict =\",y_predict_2D)\n",
    "accuracy = metrics.accuracy_score(y_predict_2D, y_test) * 100\n",
    "print(\"Accuracy with Linear SVM after PCA = {0:.1f}%\".format(accuracy))\n",
    "precision = metrics.precision_score(y_predict_2D, y_test,average='weighted') * 100\n",
    "print(\"Precision with Linear SVM after PCA = {0:.1f}%\".format(precision))\n",
    "recall = metrics.recall_score(y_predict_2D, y_test,average='weighted') * 100\n",
    "print(\"Recall with Linear SVM after PCA = {0:.1f}%\".format(recall))\n",
    "f1_score = metrics.f1_score(y_predict_2D, y_test,average='weighted') * 100\n",
    "print(\"F1_score with Linear SVM after PCA = {0:.1f}%\".format(f1_score))\n",
    "pd.crosstab(y_predict_2D,y_test)"
   ]
  },
  {
   "cell_type": "code",
   "execution_count": 33,
   "metadata": {},
   "outputs": [
    {
     "name": "stdout",
     "output_type": "stream",
     "text": [
      "Y_Predict = [0 0 0 0 0 0 0 0 0 0 0 0 0 0 0 0 0 0 0 0 0 0 0 0 0 0 0 0 0 0 0 0 0 0 0 0 0\n",
      " 0 0 0 0 0 0 0 0 0 0 0 0 0 0 0 0 0 0 0 0 0 0 0 0 0 0 0 0 0 0 0 0 0 0 0 0 0\n",
      " 0 0 0 0 0 0 0 0 0 0 0 0 0 0 0 0 0 0 0 0 0 0 0 0 0 0 0 0 0 0 0 0 0 0 0 0 0\n",
      " 0 0 0 0 0 0 0 0 0 0 0 0 0 0 0 0 0 0 0 0 0 0 0 0 0 0 0 0 0 0 0 0 0 0 0 0 0\n",
      " 0 0 0 0 0 0 0 0 0 0 0 0 0 0 0 0 0 0 0 0 0 0 0 0 0 0 0 0 0 0 0 0 0 0 0 0 0\n",
      " 0 0 0 0 0 0 0 0 0 0 0 0 0 0 0]\n",
      "Accuracy with Kernel RBF SVM after PCA = 50.0%\n",
      "Precision with Kernel RBF SVM after PCA = 100.0%\n",
      "Recall with Kernel RBF SVM after PCA = 50.0%\n",
      "F1_score with Kernel RBF SVM after PCA = 66.7%\n"
     ]
    },
    {
     "data": {
      "text/html": [
       "<div>\n",
       "<style scoped>\n",
       "    .dataframe tbody tr th:only-of-type {\n",
       "        vertical-align: middle;\n",
       "    }\n",
       "\n",
       "    .dataframe tbody tr th {\n",
       "        vertical-align: top;\n",
       "    }\n",
       "\n",
       "    .dataframe thead th {\n",
       "        text-align: right;\n",
       "    }\n",
       "</style>\n",
       "<table border=\"1\" class=\"dataframe\">\n",
       "  <thead>\n",
       "    <tr style=\"text-align: right;\">\n",
       "      <th>col_0</th>\n",
       "      <th>0</th>\n",
       "      <th>1</th>\n",
       "    </tr>\n",
       "    <tr>\n",
       "      <th>row_0</th>\n",
       "      <th></th>\n",
       "      <th></th>\n",
       "    </tr>\n",
       "  </thead>\n",
       "  <tbody>\n",
       "    <tr>\n",
       "      <th>0</th>\n",
       "      <td>100</td>\n",
       "      <td>100</td>\n",
       "    </tr>\n",
       "  </tbody>\n",
       "</table>\n",
       "</div>"
      ],
      "text/plain": [
       "col_0    0    1\n",
       "row_0          \n",
       "0      100  100"
      ]
     },
     "execution_count": 33,
     "metadata": {},
     "output_type": "execute_result"
    }
   ],
   "source": [
    "# Kernel RBF SVM\n",
    "model = SVC(C=0.1,degree=1, random_state=0,gamma='auto', kernel='rbf',probability=True)\n",
    "model.fit(X_train_2D, y_train) \n",
    "y_predict_2D = model.predict(X_test_2D)\n",
    "print(\"Y_Predict =\",y_predict_2D)\n",
    "accuracy = metrics.accuracy_score(y_predict_2D, y_test) * 100\n",
    "print(\"Accuracy with Kernel RBF SVM after PCA = {0:.1f}%\".format(accuracy))\n",
    "precision = metrics.precision_score(y_predict_2D, y_test,average='weighted') * 100\n",
    "print(\"Precision with Kernel RBF SVM after PCA = {0:.1f}%\".format(precision))\n",
    "recall = metrics.recall_score(y_predict_2D, y_test,average='weighted') * 100\n",
    "print(\"Recall with Kernel RBF SVM after PCA = {0:.1f}%\".format(recall))\n",
    "f1_score = metrics.f1_score(y_predict_2D, y_test,average='weighted') * 100\n",
    "print(\"F1_score with Kernel RBF SVM after PCA = {0:.1f}%\".format(f1_score))\n",
    "pd.crosstab(y_predict_2D,y_test)"
   ]
  },
  {
   "cell_type": "code",
   "execution_count": 34,
   "metadata": {},
   "outputs": [
    {
     "name": "stdout",
     "output_type": "stream",
     "text": [
      "Y_Predict = [0 0 0 0 0 0 0 0 0 0 0 0 0 0 0 0 0 0 0 0 0 0 0 0 0 0 0 0 0 0 0 0 0 0 0 0 0\n",
      " 0 0 0 0 0 0 0 0 1 1 1 1 1 1 1 1 1 1 1 1 1 1 1 1 1 1 1 1 1 1 1 1 1 1 1 1 1\n",
      " 1 1 1 1 1 1 1 1 1 1 1 1 1 1 1 1 1 1 1 1 1 1 1 1 1 1 1 1 1 1 1 1 1 1 1 1 1\n",
      " 1 1 1 1 1 1 1 1 1 1 1 1 1 1 1 1 1 1 1 1 1 1 1 1 1 1 1 1 1 1 1 1 1 1 1 1 1\n",
      " 1 1 1 1 1 1 1 1 1 1 1 1 1 1 1 1 1 1 1 1 1 1 1 1 1 1 1 1 1 1 1 1 1 1 1 1 1\n",
      " 1 1 1 1 1 1 1 1 1 1 1 1 1 1 1]\n",
      "Accuracy with Kernel Poly SVM after PCA = 72.5%\n",
      "Precision with Kernel Poly SVM after PCA = 87.6%\n",
      "Recall with Kernel Poly SVM after PCA = 72.5%\n",
      "F1_score with Kernel Poly SVM after PCA = 74.7%\n"
     ]
    },
    {
     "data": {
      "text/html": [
       "<div>\n",
       "<style scoped>\n",
       "    .dataframe tbody tr th:only-of-type {\n",
       "        vertical-align: middle;\n",
       "    }\n",
       "\n",
       "    .dataframe tbody tr th {\n",
       "        vertical-align: top;\n",
       "    }\n",
       "\n",
       "    .dataframe thead th {\n",
       "        text-align: right;\n",
       "    }\n",
       "</style>\n",
       "<table border=\"1\" class=\"dataframe\">\n",
       "  <thead>\n",
       "    <tr style=\"text-align: right;\">\n",
       "      <th>col_0</th>\n",
       "      <th>0</th>\n",
       "      <th>1</th>\n",
       "    </tr>\n",
       "    <tr>\n",
       "      <th>row_0</th>\n",
       "      <th></th>\n",
       "      <th></th>\n",
       "    </tr>\n",
       "  </thead>\n",
       "  <tbody>\n",
       "    <tr>\n",
       "      <th>0</th>\n",
       "      <td>45</td>\n",
       "      <td>0</td>\n",
       "    </tr>\n",
       "    <tr>\n",
       "      <th>1</th>\n",
       "      <td>55</td>\n",
       "      <td>100</td>\n",
       "    </tr>\n",
       "  </tbody>\n",
       "</table>\n",
       "</div>"
      ],
      "text/plain": [
       "col_0   0    1\n",
       "row_0         \n",
       "0      45    0\n",
       "1      55  100"
      ]
     },
     "execution_count": 34,
     "metadata": {},
     "output_type": "execute_result"
    }
   ],
   "source": [
    "# Kernel Poly SVM\n",
    "model = SVC(C=0.1,degree=1, random_state=0,gamma='auto', kernel='poly',probability=True)\n",
    "model.fit(X_train_2D, y_train) \n",
    "y_predict_2D = model.predict(X_test_2D)\n",
    "print(\"Y_Predict =\",y_predict_2D)\n",
    "accuracy = metrics.accuracy_score(y_predict_2D, y_test) * 100\n",
    "print(\"Accuracy with Kernel Poly SVM after PCA = {0:.1f}%\".format(accuracy))\n",
    "precision = metrics.precision_score(y_predict_2D, y_test,average='weighted') * 100\n",
    "print(\"Precision with Kernel Poly SVM after PCA = {0:.1f}%\".format(precision))\n",
    "recall = metrics.recall_score(y_predict_2D, y_test,average='weighted') * 100\n",
    "print(\"Recall with Kernel Poly SVM after PCA = {0:.1f}%\".format(recall))\n",
    "f1_score = metrics.f1_score(y_predict_2D, y_test,average='weighted') * 100\n",
    "print(\"F1_score with Kernel Poly SVM after PCA = {0:.1f}%\".format(f1_score))\n",
    "pd.crosstab(y_predict_2D,y_test)"
   ]
  },
  {
   "cell_type": "code",
   "execution_count": 35,
   "metadata": {},
   "outputs": [
    {
     "name": "stdout",
     "output_type": "stream",
     "text": [
      "Y_Predict = [0 0 0 0 0 0 0 0 0 0 0 0 0 0 0 0 0 0 0 0 0 0 0 0 0 0 0 0 0 0 0 0 0 0 0 0 0\n",
      " 0 0 0 0 0 0 0 0 1 1 1 1 1 1 1 1 1 1 1 1 1 1 1 1 1 1 1 1 1 1 1 1 1 1 1 1 1\n",
      " 1 1 1 1 1 1 1 1 1 1 1 1 1 1 1 1 1 1 1 1 1 1 1 1 1 1 1 1 1 1 1 1 1 1 1 1 1\n",
      " 1 1 1 1 1 1 1 1 1 1 1 1 1 1 1 1 1 1 1 1 1 1 1 1 1 1 1 1 1 1 1 1 1 1 1 1 1\n",
      " 1 1 1 1 1 1 1 1 1 1 1 1 1 1 1 1 1 1 1 1 1 1 1 1 1 1 1 1 1 1 1 1 1 1 1 1 1\n",
      " 1 1 1 1 1 1 1 1 1 1 1 1 1 1 1]\n",
      "Accuracy with Kernel sigmoid SVM after PCA = 72.5%\n",
      "Precision with Kernel sigmoid SVM after PCA = 87.6%\n",
      "Recall with Kernel sigmoid SVM after PCA = 72.5%\n",
      "F1_score with Kernel sigmoid SVM after PCA = 74.7%\n"
     ]
    },
    {
     "data": {
      "text/html": [
       "<div>\n",
       "<style scoped>\n",
       "    .dataframe tbody tr th:only-of-type {\n",
       "        vertical-align: middle;\n",
       "    }\n",
       "\n",
       "    .dataframe tbody tr th {\n",
       "        vertical-align: top;\n",
       "    }\n",
       "\n",
       "    .dataframe thead th {\n",
       "        text-align: right;\n",
       "    }\n",
       "</style>\n",
       "<table border=\"1\" class=\"dataframe\">\n",
       "  <thead>\n",
       "    <tr style=\"text-align: right;\">\n",
       "      <th>col_0</th>\n",
       "      <th>0</th>\n",
       "      <th>1</th>\n",
       "    </tr>\n",
       "    <tr>\n",
       "      <th>row_0</th>\n",
       "      <th></th>\n",
       "      <th></th>\n",
       "    </tr>\n",
       "  </thead>\n",
       "  <tbody>\n",
       "    <tr>\n",
       "      <th>0</th>\n",
       "      <td>45</td>\n",
       "      <td>0</td>\n",
       "    </tr>\n",
       "    <tr>\n",
       "      <th>1</th>\n",
       "      <td>55</td>\n",
       "      <td>100</td>\n",
       "    </tr>\n",
       "  </tbody>\n",
       "</table>\n",
       "</div>"
      ],
      "text/plain": [
       "col_0   0    1\n",
       "row_0         \n",
       "0      45    0\n",
       "1      55  100"
      ]
     },
     "execution_count": 35,
     "metadata": {},
     "output_type": "execute_result"
    }
   ],
   "source": [
    "# Kernel Sigmoid SVM\n",
    "model = SVC(C=0.1,degree=1, random_state=0,gamma='auto', kernel='sigmoid',probability=True)\n",
    "model.fit(X_train_2D, y_train) \n",
    "y_predict_2D = model.predict(X_test_2D)\n",
    "print(\"Y_Predict =\",y_predict_2D)\n",
    "accuracy = metrics.accuracy_score(y_predict_2D, y_test) * 100\n",
    "print(\"Accuracy with Kernel sigmoid SVM after PCA = {0:.1f}%\".format(accuracy))\n",
    "precision = metrics.precision_score(y_predict_2D, y_test,average='weighted') * 100\n",
    "print(\"Precision with Kernel sigmoid SVM after PCA = {0:.1f}%\".format(precision))\n",
    "recall = metrics.recall_score(y_predict_2D, y_test,average='weighted') * 100\n",
    "print(\"Recall with Kernel sigmoid SVM after PCA = {0:.1f}%\".format(recall))\n",
    "f1_score = metrics.f1_score(y_predict_2D, y_test,average='weighted') * 100\n",
    "print(\"F1_score with Kernel sigmoid SVM after PCA = {0:.1f}%\".format(f1_score))\n",
    "pd.crosstab(y_predict_2D,y_test)"
   ]
  },
  {
   "cell_type": "markdown",
   "metadata": {},
   "source": [
    "## 3) Hyperparameter Tuning"
   ]
  },
  {
   "cell_type": "markdown",
   "metadata": {},
   "source": [
    "#### GridSearch CV"
   ]
  },
  {
   "cell_type": "code",
   "execution_count": 36,
   "metadata": {},
   "outputs": [],
   "source": [
    "from sklearn.model_selection import GridSearchCV,RandomizedSearchCV"
   ]
  },
  {
   "cell_type": "code",
   "execution_count": 37,
   "metadata": {},
   "outputs": [],
   "source": [
    "grid = {'C': [0.1],  \n",
    "              'gamma': [1], \n",
    "              'kernel': ['rbf']} "
   ]
  },
  {
   "cell_type": "code",
   "execution_count": 38,
   "metadata": {},
   "outputs": [
    {
     "name": "stdout",
     "output_type": "stream",
     "text": [
      "Fitting 5 folds for each of 1 candidates, totalling 5 fits\n"
     ]
    },
    {
     "name": "stderr",
     "output_type": "stream",
     "text": [
      "[Parallel(n_jobs=1)]: Using backend SequentialBackend with 1 concurrent workers.\n",
      "[Parallel(n_jobs=1)]: Done   5 out of   5 | elapsed:  2.3min finished\n"
     ]
    },
    {
     "name": "stdout",
     "output_type": "stream",
     "text": [
      "{'C': 0.1, 'gamma': 1, 'kernel': 'rbf'}\n",
      "SVC(C=0.1, gamma=1)\n",
      "Predicted value = [0 0 0 0 0 0 0 0 0 0 0 0 0 0 0 0 0 0 0 0 0 0 0 0 0 0 0 0 0 0 0 0 0 0 0 0 0\n",
      " 0 0 0 0 0 0 0 0 0 0 0 0 0 0 0 0 0 0 0 0 0 0 0 0 0 0 0 0 0 0 0 0 0 0 0 0 0\n",
      " 0 0 0 0 0 0 0 0 0 0 0 0 0 0 0 0 0 0 0 0 0 0 0 0 0 0 0 0 0 0 0 0 0 0 0 0 0\n",
      " 0 0 0 0 0 0 0 0 0 0 0 0 0 0 0 0 0 0 0 0 0 0 0 0 0 0 0 0 0 0 0 0 0 0 0 0 0\n",
      " 0 0 0 0 0 0 0 0 0 0 0 0 0 0 0 0 0 0 0 0 0 0 0 0 0 0 0 0 0 0 0 0 0 0 0 0 0\n",
      " 0 0 0 0 0 0 0 0 0 0 0 0 0 0 0]\n",
      "Accuracy with RBF SVM = 50.0%\n",
      "Precision with RBF SVM = 100.0%\n",
      "Recall with RBF SVM = 50.0%\n",
      "F1_score with RBF SVM = 66.7%\n"
     ]
    },
    {
     "data": {
      "text/html": [
       "<div>\n",
       "<style scoped>\n",
       "    .dataframe tbody tr th:only-of-type {\n",
       "        vertical-align: middle;\n",
       "    }\n",
       "\n",
       "    .dataframe tbody tr th {\n",
       "        vertical-align: top;\n",
       "    }\n",
       "\n",
       "    .dataframe thead th {\n",
       "        text-align: right;\n",
       "    }\n",
       "</style>\n",
       "<table border=\"1\" class=\"dataframe\">\n",
       "  <thead>\n",
       "    <tr style=\"text-align: right;\">\n",
       "      <th>col_0</th>\n",
       "      <th>0</th>\n",
       "      <th>1</th>\n",
       "    </tr>\n",
       "    <tr>\n",
       "      <th>row_0</th>\n",
       "      <th></th>\n",
       "      <th></th>\n",
       "    </tr>\n",
       "  </thead>\n",
       "  <tbody>\n",
       "    <tr>\n",
       "      <th>0</th>\n",
       "      <td>100</td>\n",
       "      <td>100</td>\n",
       "    </tr>\n",
       "  </tbody>\n",
       "</table>\n",
       "</div>"
      ],
      "text/plain": [
       "col_0    0    1\n",
       "row_0          \n",
       "0      100  100"
      ]
     },
     "execution_count": 38,
     "metadata": {},
     "output_type": "execute_result"
    }
   ],
   "source": [
    "model_grid = GridSearchCV(SVC(), grid, verbose = 1) \n",
    "model_grid.fit(X_train, y_train) \n",
    "print(model_grid.best_params_)\n",
    "print(model_grid.best_estimator_)\n",
    "grid_predictions = model_grid.predict(X_test) \n",
    "print(\"Predicted value =\",grid_predictions)\n",
    "accuracy = metrics.accuracy_score(grid_predictions, y_test) * 100\n",
    "print(\"Accuracy with RBF SVM = {0:.1f}%\".format(accuracy))\n",
    "precision = metrics.precision_score(grid_predictions, y_test,average='weighted') * 100\n",
    "print(\"Precision with RBF SVM = {0:.1f}%\".format(precision))\n",
    "recall = metrics.recall_score(grid_predictions, y_test,average='weighted') * 100\n",
    "print(\"Recall with RBF SVM = {0:.1f}%\".format(recall))\n",
    "f1_score = metrics.f1_score(grid_predictions, y_test,average='weighted') * 100\n",
    "print(\"F1_score with RBF SVM = {0:.1f}%\".format(f1_score))\n",
    "pd.crosstab(grid_predictions,y_test)"
   ]
  },
  {
   "cell_type": "code",
   "execution_count": 39,
   "metadata": {},
   "outputs": [
    {
     "name": "stdout",
     "output_type": "stream",
     "text": [
      "0.9833333333333332\n"
     ]
    }
   ],
   "source": [
    "print(model_grid.best_score_)"
   ]
  },
  {
   "cell_type": "markdown",
   "metadata": {},
   "source": [
    "#### RandomizedSearch CV"
   ]
  },
  {
   "cell_type": "code",
   "execution_count": 40,
   "metadata": {},
   "outputs": [],
   "source": [
    "randomized = {'C': [0.1],  \n",
    "              'gamma': [1], \n",
    "              'kernel': ['rbf']} "
   ]
  },
  {
   "cell_type": "code",
   "execution_count": 41,
   "metadata": {
    "scrolled": true
   },
   "outputs": [
    {
     "name": "stdout",
     "output_type": "stream",
     "text": [
      "Fitting 5 folds for each of 1 candidates, totalling 5 fits\n"
     ]
    },
    {
     "name": "stderr",
     "output_type": "stream",
     "text": [
      "[Parallel(n_jobs=1)]: Using backend SequentialBackend with 1 concurrent workers.\n",
      "[Parallel(n_jobs=1)]: Done   5 out of   5 | elapsed:  2.1min finished\n"
     ]
    },
    {
     "name": "stdout",
     "output_type": "stream",
     "text": [
      "{'kernel': 'rbf', 'gamma': 1, 'C': 0.1}\n",
      "SVC(C=0.1, gamma=1)\n",
      "0.9833333333333332\n"
     ]
    }
   ],
   "source": [
    "model_randomized = RandomizedSearchCV(SVC(), randomized,verbose = 1) \n",
    "model_randomized.fit(X_train, y_train) \n",
    "print(model_randomized.best_params_)\n",
    "print(model_randomized.best_estimator_)\n",
    "print(model_randomized.best_score_)"
   ]
  },
  {
   "cell_type": "code",
   "execution_count": 42,
   "metadata": {},
   "outputs": [
    {
     "name": "stdout",
     "output_type": "stream",
     "text": [
      "Predicted value = [0 0 0 0 0 0 0 0 0 0 0 0 0 0 0 0 0 0 0 0 0 0 0 0 0 0 0 0 0 0 0 0 0 0 0 0 0\n",
      " 0 0 0 0 0 0 0 0 0 0 0 0 0 0 0 0 0 0 0 0 0 0 0 0 0 0 0 0 0 0 0 0 0 0 0 0 0\n",
      " 0 0 0 0 0 0 0 0 0 0 0 0 0 0 0 0 0 0 0 0 0 0 0 0 0 0 0 0 0 0 0 0 0 0 0 0 0\n",
      " 0 0 0 0 0 0 0 0 0 0 0 0 0 0 0 0 0 0 0 0 0 0 0 0 0 0 0 0 0 0 0 0 0 0 0 0 0\n",
      " 0 0 0 0 0 0 0 0 0 0 0 0 0 0 0 0 0 0 0 0 0 0 0 0 0 0 0 0 0 0 0 0 0 0 0 0 0\n",
      " 0 0 0 0 0 0 0 0 0 0 0 0 0 0 0]\n",
      "Accuracy with RBF SVM = 50.0%\n",
      "Precision with RBF SVM = 100.0%\n",
      "Recall with RBF SVM = 50.0%\n",
      "F1_score with RBF SVM = 66.7%\n"
     ]
    },
    {
     "data": {
      "text/html": [
       "<div>\n",
       "<style scoped>\n",
       "    .dataframe tbody tr th:only-of-type {\n",
       "        vertical-align: middle;\n",
       "    }\n",
       "\n",
       "    .dataframe tbody tr th {\n",
       "        vertical-align: top;\n",
       "    }\n",
       "\n",
       "    .dataframe thead th {\n",
       "        text-align: right;\n",
       "    }\n",
       "</style>\n",
       "<table border=\"1\" class=\"dataframe\">\n",
       "  <thead>\n",
       "    <tr style=\"text-align: right;\">\n",
       "      <th>col_0</th>\n",
       "      <th>0</th>\n",
       "      <th>1</th>\n",
       "    </tr>\n",
       "    <tr>\n",
       "      <th>row_0</th>\n",
       "      <th></th>\n",
       "      <th></th>\n",
       "    </tr>\n",
       "  </thead>\n",
       "  <tbody>\n",
       "    <tr>\n",
       "      <th>0</th>\n",
       "      <td>100</td>\n",
       "      <td>100</td>\n",
       "    </tr>\n",
       "  </tbody>\n",
       "</table>\n",
       "</div>"
      ],
      "text/plain": [
       "col_0    0    1\n",
       "row_0          \n",
       "0      100  100"
      ]
     },
     "execution_count": 42,
     "metadata": {},
     "output_type": "execute_result"
    }
   ],
   "source": [
    "randomized_predictions = model_randomized.predict(X_test) \n",
    "print(\"Predicted value =\",randomized_predictions)\n",
    "accuracy = metrics.accuracy_score(randomized_predictions, y_test) * 100\n",
    "print(\"Accuracy with RBF SVM = {0:.1f}%\".format(accuracy))\n",
    "precision = metrics.precision_score(randomized_predictions, y_test,average='weighted') * 100\n",
    "print(\"Precision with RBF SVM = {0:.1f}%\".format(precision))\n",
    "recall = metrics.recall_score(randomized_predictions, y_test,average='weighted') * 100\n",
    "print(\"Recall with RBF SVM = {0:.1f}%\".format(recall))\n",
    "f1_score = metrics.f1_score(randomized_predictions, y_test,average='weighted') * 100\n",
    "print(\"F1_score with RBF SVM = {0:.1f}%\".format(f1_score))\n",
    "pd.crosstab(randomized_predictions,y_test)"
   ]
  },
  {
   "cell_type": "markdown",
   "metadata": {},
   "source": [
    "## 4) Using KNN on the training data"
   ]
  },
  {
   "cell_type": "code",
   "execution_count": 43,
   "metadata": {},
   "outputs": [
    {
     "name": "stdout",
     "output_type": "stream",
     "text": [
      "Y_Predict = [0 0 0 0 0 0 0 0 0 0 0 0 0 0 0 0 0 0 0 0 0 0 0 0 0 0 0 0 0 0 0 0 0 0 0 0 0\n",
      " 0 0 0 0 0 0 0 0 0 0 0 0 0 0 0 0 0 0 0 0 0 0 0 0 0 0 0 0 0 0 0 0 0 1 1 1 1\n",
      " 1 0 0 0 0 0 0 0 0 0 0 0 0 0 0 0 0 0 0 0 0 0 0 0 0 0 1 1 1 1 1 1 1 1 1 1 1\n",
      " 1 1 1 1 1 1 1 1 1 1 1 1 1 1 1 1 1 1 1 1 1 1 1 1 1 1 1 1 1 1 1 1 1 1 1 1 1\n",
      " 1 1 1 1 1 1 1 1 1 1 1 1 1 1 1 1 1 1 1 1 1 1 1 1 1 1 1 1 1 1 1 1 1 1 1 1 1\n",
      " 1 1 1 1 1 1 1 1 1 1 1 1 1 1 1]\n",
      "Accuracy with K-NN = 97.5%\n",
      "Precision with K-NN = 97.6%\n",
      "Recall with K-NN = 97.5%\n",
      "F1_score with K-NN = 97.5%\n"
     ]
    },
    {
     "data": {
      "text/html": [
       "<div>\n",
       "<style scoped>\n",
       "    .dataframe tbody tr th:only-of-type {\n",
       "        vertical-align: middle;\n",
       "    }\n",
       "\n",
       "    .dataframe tbody tr th {\n",
       "        vertical-align: top;\n",
       "    }\n",
       "\n",
       "    .dataframe thead th {\n",
       "        text-align: right;\n",
       "    }\n",
       "</style>\n",
       "<table border=\"1\" class=\"dataframe\">\n",
       "  <thead>\n",
       "    <tr style=\"text-align: right;\">\n",
       "      <th>col_0</th>\n",
       "      <th>0</th>\n",
       "      <th>1</th>\n",
       "    </tr>\n",
       "    <tr>\n",
       "      <th>row_0</th>\n",
       "      <th></th>\n",
       "      <th></th>\n",
       "    </tr>\n",
       "  </thead>\n",
       "  <tbody>\n",
       "    <tr>\n",
       "      <th>0</th>\n",
       "      <td>95</td>\n",
       "      <td>0</td>\n",
       "    </tr>\n",
       "    <tr>\n",
       "      <th>1</th>\n",
       "      <td>5</td>\n",
       "      <td>100</td>\n",
       "    </tr>\n",
       "  </tbody>\n",
       "</table>\n",
       "</div>"
      ],
      "text/plain": [
       "col_0   0    1\n",
       "row_0         \n",
       "0      95    0\n",
       "1       5  100"
      ]
     },
     "execution_count": 43,
     "metadata": {},
     "output_type": "execute_result"
    }
   ],
   "source": [
    "model = KNeighborsClassifier(n_neighbors=5,weights='uniform',metric='minkowski')\n",
    "model.fit(X_train, y) \n",
    "y_predict = model.predict(X_test)\n",
    "print(\"Y_Predict =\",y_predict)\n",
    "accuracy = metrics.accuracy_score(y_predict, y_test) * 100\n",
    "print(\"Accuracy with K-NN = {0:.1f}%\".format(accuracy))\n",
    "precision = metrics.precision_score(y_predict, y_test,average='weighted') * 100\n",
    "print(\"Precision with K-NN = {0:.1f}%\".format(precision))\n",
    "recall = metrics.recall_score(y_predict, y_test,average='weighted') * 100\n",
    "print(\"Recall with K-NN = {0:.1f}%\".format(recall))\n",
    "f1_score = metrics.f1_score(y_predict, y_test,average='weighted') * 100\n",
    "print(\"F1_score with K-NN = {0:.1f}%\".format(f1_score))\n",
    "pd.crosstab(y_predict,y_test)"
   ]
  },
  {
   "cell_type": "code",
   "execution_count": 44,
   "metadata": {},
   "outputs": [
    {
     "name": "stdout",
     "output_type": "stream",
     "text": [
      "KNN: precision =  [0.95238095 1.        ]\n",
      "KNN: recall =  [1. 0.]\n"
     ]
    }
   ],
   "source": [
    "## Precision-Recall Curve\n",
    "from sklearn.metrics import precision_recall_curve\n",
    "knn_probs = model.predict_proba(X_test)\n",
    "# keep probabilities for the positive outcome only\n",
    "knn_probs = knn_probs[:, 1]\n",
    "y_predict=model.predict(X_test)\n",
    "knn_precision, knn_recall, _ = precision_recall_curve(y_test, knn_probs)\n",
    "# summarize scores\n",
    "print(\"KNN: precision = \",knn_precision)\n",
    "print(\"KNN: recall = \",knn_recall)"
   ]
  },
  {
   "cell_type": "code",
   "execution_count": 45,
   "metadata": {},
   "outputs": [
    {
     "data": {
      "image/png": "[encoded data removed]",
      "text/plain": [
       "<Figure size 432x288 with 1 Axes>"
      ]
     },
     "metadata": {
      "needs_background": "light"
     },
     "output_type": "display_data"
    }
   ],
   "source": [
    "# plot the precision-recall curves\n",
    "no_skill = len(y_test[y_test==1]) / len(y_test)\n",
    "pyplot.plot([0, 1], [no_skill, no_skill], linestyle='--', label='No Skill')\n",
    "pyplot.plot(knn_recall, knn_precision, marker='.', label='KNN')\n",
    "# axis labels\n",
    "pyplot.xlabel('Recall')\n",
    "pyplot.ylabel('Precision')\n",
    "# show the legend\n",
    "pyplot.legend()\n",
    "# show the plot\n",
    "pyplot.show()"
   ]
  },
  {
   "cell_type": "code",
   "execution_count": 46,
   "metadata": {},
   "outputs": [
    {
     "name": "stdout",
     "output_type": "stream",
     "text": [
      "No Skill: ROC AUC = 0.5\n",
      "KNN : ROC AUC = 0.975\n",
      "ns_fpr = [0. 1.]\n",
      "ns_tpr = [0. 1.]\n",
      "knn_fpr = [0.   0.05 1.  ]\n",
      "knn_tpr = [0. 1. 1.]\n"
     ]
    }
   ],
   "source": [
    "# ROC AUC Curve\n",
    "from sklearn.metrics import roc_curve,roc_auc_score\n",
    "ns_probs = [0 for _ in range(len(y_test))]\n",
    "ns_auc=roc_auc_score(y_test,ns_probs)\n",
    "knn_auc=roc_auc_score(y_test,knn_probs)\n",
    "print('No Skill: ROC AUC =' ,ns_auc)\n",
    "print('KNN : ROC AUC =',knn_auc)\n",
    "ns_fpr, ns_tpr, _ = roc_curve(y_test, ns_probs)\n",
    "knn_fpr, knn_tpr, _ = roc_curve(y_test, knn_probs)\n",
    "print('ns_fpr =',ns_fpr)\n",
    "print('ns_tpr =',ns_tpr)\n",
    "print('knn_fpr =',knn_fpr)\n",
    "print('knn_tpr =',knn_tpr)"
   ]
  },
  {
   "cell_type": "code",
   "execution_count": 47,
   "metadata": {},
   "outputs": [
    {
     "data": {
      "image/png": "[encoded data removed]",
      "text/plain": [
       "<Figure size 432x288 with 1 Axes>"
      ]
     },
     "metadata": {
      "needs_background": "light"
     },
     "output_type": "display_data"
    }
   ],
   "source": [
    "# plot the roc curve for the model\n",
    "pyplot.plot(ns_fpr, ns_tpr, linestyle='--', label='No Skill')\n",
    "pyplot.plot(knn_fpr, knn_tpr, marker='.', label='KNN')\n",
    "# axis labels\n",
    "pyplot.xlabel('False Positive Rate')\n",
    "pyplot.ylabel('True Positive Rate')\n",
    "# show the legend\n",
    "pyplot.legend()\n",
    "# show the plot\n",
    "pyplot.show()"
   ]
  },
  {
   "cell_type": "markdown",
   "metadata": {},
   "source": [
    "## 5) Using PCA for K-NN on the training data"
   ]
  },
  {
   "cell_type": "code",
   "execution_count": 48,
   "metadata": {},
   "outputs": [
    {
     "name": "stdout",
     "output_type": "stream",
     "text": [
      "Y_Predict = [0 0 0 0 0 0 0 0 0 0 0 0 0 0 0 0 0 0 0 0 0 0 0 0 0 0 0 0 0 0 0 0 0 0 0 0 0\n",
      " 0 0 0 0 0 0 0 0 1 1 1 1 1 1 1 1 1 1 0 0 0 0 0 1 1 1 1 1 0 0 0 0 0 0 0 0 0\n",
      " 0 1 1 1 1 1 0 0 0 0 0 0 0 0 0 0 0 0 0 0 0 0 0 0 0 0 1 1 1 1 1 0 0 0 0 0 0\n",
      " 0 0 0 0 0 0 0 0 0 0 0 0 0 0 0 0 0 0 0 0 0 0 0 0 0 0 0 0 0 0 0 0 0 0 0 0 0\n",
      " 0 0 1 1 1 1 1 1 1 1 1 1 1 1 1 1 1 1 1 1 1 1 1 1 1 1 1 1 1 1 1 1 1 1 1 1 1\n",
      " 1 1 1 1 1 1 1 1 1 1 1 1 1 1 1]\n",
      "Accuracy with K-NN after PCA = 67.5%\n",
      "Precision with K-NN after PCA = 70.6%\n",
      "Recall with K-NN after PCA  = 67.5%\n",
      "F1_score with K-NN after PCA = 68.0%\n"
     ]
    },
    {
     "data": {
      "text/html": [
       "<div>\n",
       "<style scoped>\n",
       "    .dataframe tbody tr th:only-of-type {\n",
       "        vertical-align: middle;\n",
       "    }\n",
       "\n",
       "    .dataframe tbody tr th {\n",
       "        vertical-align: top;\n",
       "    }\n",
       "\n",
       "    .dataframe thead th {\n",
       "        text-align: right;\n",
       "    }\n",
       "</style>\n",
       "<table border=\"1\" class=\"dataframe\">\n",
       "  <thead>\n",
       "    <tr style=\"text-align: right;\">\n",
       "      <th>col_0</th>\n",
       "      <th>0</th>\n",
       "      <th>1</th>\n",
       "    </tr>\n",
       "    <tr>\n",
       "      <th>row_0</th>\n",
       "      <th></th>\n",
       "      <th></th>\n",
       "    </tr>\n",
       "  </thead>\n",
       "  <tbody>\n",
       "    <tr>\n",
       "      <th>0</th>\n",
       "      <td>80</td>\n",
       "      <td>45</td>\n",
       "    </tr>\n",
       "    <tr>\n",
       "      <th>1</th>\n",
       "      <td>20</td>\n",
       "      <td>55</td>\n",
       "    </tr>\n",
       "  </tbody>\n",
       "</table>\n",
       "</div>"
      ],
      "text/plain": [
       "col_0   0   1\n",
       "row_0        \n",
       "0      80  45\n",
       "1      20  55"
      ]
     },
     "execution_count": 48,
     "metadata": {},
     "output_type": "execute_result"
    }
   ],
   "source": [
    "model = KNeighborsClassifier(n_neighbors=1,weights='uniform',metric='minkowski')\n",
    "model.fit(X_train_2D, y_train) \n",
    "y_predict_2D = model.predict(X_test_2D)\n",
    "print(\"Y_Predict =\",y_predict_2D)\n",
    "accuracy = metrics.accuracy_score(y_predict_2D, y_test) * 100\n",
    "print(\"Accuracy with K-NN after PCA = {0:.1f}%\".format(accuracy))\n",
    "precision = metrics.precision_score(y_predict_2D, y_test,average='weighted') * 100\n",
    "print(\"Precision with K-NN after PCA = {0:.1f}%\".format(precision))\n",
    "recall = metrics.recall_score(y_predict_2D, y_test,average='weighted') * 100\n",
    "print(\"Recall with K-NN after PCA  = {0:.1f}%\".format(recall))\n",
    "f1_score = metrics.f1_score(y_predict_2D, y_test,average='weighted') * 100\n",
    "print(\"F1_score with K-NN after PCA = {0:.1f}%\".format(f1_score))\n",
    "pd.crosstab(y_predict_2D,y_test)"
   ]
  },
  {
   "cell_type": "markdown",
   "metadata": {},
   "source": [
    "## 6) Using Logistic Regression on the training data"
   ]
  },
  {
   "cell_type": "code",
   "execution_count": 49,
   "metadata": {},
   "outputs": [],
   "source": [
    "from sklearn.linear_model import LogisticRegression"
   ]
  },
  {
   "cell_type": "code",
   "execution_count": 50,
   "metadata": {
    "scrolled": true
   },
   "outputs": [
    {
     "name": "stdout",
     "output_type": "stream",
     "text": [
      "Y_Predict = [0 0 0 0 0 0 0 0 0 0 0 0 0 0 0 0 0 0 0 0 0 0 0 0 0 0 0 0 0 0 0 0 0 0 0 0 0\n",
      " 0 0 0 0 0 0 0 0 0 0 0 0 0 0 0 0 0 0 0 0 0 0 0 1 1 1 1 1 0 0 0 0 0 0 0 0 0\n",
      " 0 0 0 0 0 0 0 0 0 0 0 0 0 0 0 0 0 0 0 0 0 0 0 0 0 0 1 1 1 1 1 1 1 1 1 1 1\n",
      " 1 1 1 1 1 1 1 1 1 1 1 1 1 1 1 1 1 1 1 1 1 1 1 1 1 1 1 1 1 1 1 1 1 1 1 1 1\n",
      " 1 1 1 1 1 1 1 1 1 1 1 1 1 1 1 1 1 1 1 1 1 1 1 1 1 1 1 1 1 1 1 1 1 1 1 1 1\n",
      " 1 1 1 1 1 1 1 1 1 1 1 1 1 1 1]\n",
      "Accuracy with Logistic Regression = 97.5%\n",
      "Precision with Logistic Regression = 97.6%\n",
      "Recall with Logistic Regression = 97.5%\n",
      "F1_score with Logistic Regression = 97.5%\n"
     ]
    },
    {
     "data": {
      "text/html": [
       "<div>\n",
       "<style scoped>\n",
       "    .dataframe tbody tr th:only-of-type {\n",
       "        vertical-align: middle;\n",
       "    }\n",
       "\n",
       "    .dataframe tbody tr th {\n",
       "        vertical-align: top;\n",
       "    }\n",
       "\n",
       "    .dataframe thead th {\n",
       "        text-align: right;\n",
       "    }\n",
       "</style>\n",
       "<table border=\"1\" class=\"dataframe\">\n",
       "  <thead>\n",
       "    <tr style=\"text-align: right;\">\n",
       "      <th>col_0</th>\n",
       "      <th>0</th>\n",
       "      <th>1</th>\n",
       "    </tr>\n",
       "    <tr>\n",
       "      <th>row_0</th>\n",
       "      <th></th>\n",
       "      <th></th>\n",
       "    </tr>\n",
       "  </thead>\n",
       "  <tbody>\n",
       "    <tr>\n",
       "      <th>0</th>\n",
       "      <td>95</td>\n",
       "      <td>0</td>\n",
       "    </tr>\n",
       "    <tr>\n",
       "      <th>1</th>\n",
       "      <td>5</td>\n",
       "      <td>100</td>\n",
       "    </tr>\n",
       "  </tbody>\n",
       "</table>\n",
       "</div>"
      ],
      "text/plain": [
       "col_0   0    1\n",
       "row_0         \n",
       "0      95    0\n",
       "1       5  100"
      ]
     },
     "execution_count": 50,
     "metadata": {},
     "output_type": "execute_result"
    }
   ],
   "source": [
    "model = LogisticRegression()\n",
    "model.fit(X_train, y) \n",
    "y_predict = model.predict(X_test)\n",
    "print(\"Y_Predict =\",y_predict)\n",
    "accuracy = metrics.accuracy_score(y_predict, y_test) * 100\n",
    "print(\"Accuracy with Logistic Regression = {0:.1f}%\".format(accuracy))\n",
    "precision = metrics.precision_score(y_predict, y_test,average='weighted') * 100\n",
    "print(\"Precision with Logistic Regression = {0:.1f}%\".format(precision))\n",
    "recall = metrics.recall_score(y_predict, y_test,average='weighted') * 100\n",
    "print(\"Recall with Logistic Regression = {0:.1f}%\".format(recall))\n",
    "f1_score = metrics.f1_score(y_predict, y_test,average='weighted') * 100\n",
    "print(\"F1_score with Logistic Regression = {0:.1f}%\".format(f1_score))\n",
    "pd.crosstab(y_predict,y_test)"
   ]
  },
  {
   "cell_type": "code",
   "execution_count": 51,
   "metadata": {},
   "outputs": [
    {
     "name": "stdout",
     "output_type": "stream",
     "text": [
      "LR: precision =  [1. 1. 1. 1.]\n",
      "LR: recall =  [1.   0.5  0.05 0.  ]\n"
     ]
    },
    {
     "data": {
      "image/png": "[encoded data removed]",
      "text/plain": [
       "<Figure size 432x288 with 1 Axes>"
      ]
     },
     "metadata": {
      "needs_background": "light"
     },
     "output_type": "display_data"
    }
   ],
   "source": [
    "## Precision-Recall Curve\n",
    "from sklearn.metrics import precision_recall_curve\n",
    "lr_probs = model.predict_proba(X_test)\n",
    "# keep probabilities for the positive outcome only\n",
    "lr_probs = lr_probs[:, 1]\n",
    "y_predict=model.predict(X_test)\n",
    "lr_precision, lr_recall, _ = precision_recall_curve(y_test, lr_probs)\n",
    "# summarize scores\n",
    "print(\"LR: precision = \",lr_precision)\n",
    "print(\"LR: recall = \",lr_recall)\n",
    "# plot the precision-recall curves\n",
    "no_skill = len(y_test[y_test==1]) / len(y_test)\n",
    "pyplot.plot([0, 1], [no_skill, no_skill], linestyle='--', label='No Skill')\n",
    "pyplot.plot(lr_recall, lr_precision, marker='.', label='LR')\n",
    "# axis labels\n",
    "pyplot.xlabel('Recall')\n",
    "pyplot.ylabel('Precision')\n",
    "# show the legend\n",
    "pyplot.legend()\n",
    "# show the plot\n",
    "pyplot.show()"
   ]
  },
  {
   "cell_type": "code",
   "execution_count": 52,
   "metadata": {},
   "outputs": [
    {
     "name": "stdout",
     "output_type": "stream",
     "text": [
      "No Skill: ROC AUC = 0.5\n",
      "LR : ROC AUC = 0.875\n",
      "ns_fpr = [0. 1.]\n",
      "ns_tpr = [0. 1.]\n",
      "lr_fpr = [0.   0.   0.   0.   0.3  0.75 1.  ]\n",
      "lr_tpr = [0.   0.05 0.5  1.   1.   1.   1.  ]\n"
     ]
    },
    {
     "data": {
      "image/png": "[encoded data removed]",
      "text/plain": [
       "<Figure size 432x288 with 1 Axes>"
      ]
     },
     "metadata": {
      "needs_background": "light"
     },
     "output_type": "display_data"
    }
   ],
   "source": [
    "# ROC AUC Curve\n",
    "from sklearn.metrics import roc_curve,roc_auc_score\n",
    "ns_probs = [0 for _ in range(len(y_test))]\n",
    "ns_auc=roc_auc_score(y_test,ns_probs)\n",
    "lr_auc=roc_auc_score(y_test,lr_probs)\n",
    "print('No Skill: ROC AUC =' ,ns_auc)\n",
    "print('LR : ROC AUC =',svm_auc)\n",
    "ns_fpr, ns_tpr, _ = roc_curve(y_test, ns_probs)\n",
    "lr_fpr, lr_tpr, _ = roc_curve(y_test, lr_probs)\n",
    "print('ns_fpr =',ns_fpr)\n",
    "print('ns_tpr =',ns_tpr)\n",
    "print('lr_fpr =',lr_fpr)\n",
    "print('lr_tpr =',lr_tpr)\n",
    "# plot the roc curve for the model\n",
    "pyplot.plot(ns_fpr, ns_tpr, linestyle='--', label='No Skill')\n",
    "pyplot.plot(lr_fpr, lr_tpr, marker='.', label='LR')\n",
    "# axis labels\n",
    "pyplot.xlabel('False Positive Rate')\n",
    "pyplot.ylabel('True Positive Rate')\n",
    "# show the legend\n",
    "pyplot.legend()\n",
    "# show the plot\n",
    "pyplot.show()"
   ]
  },
  {
   "cell_type": "markdown",
   "metadata": {},
   "source": [
    "## 7) Using ANN on the training data"
   ]
  },
  {
   "cell_type": "code",
   "execution_count": 53,
   "metadata": {},
   "outputs": [],
   "source": [
    "from sklearn.neural_network import MLPClassifier"
   ]
  },
  {
   "cell_type": "code",
   "execution_count": 54,
   "metadata": {},
   "outputs": [
    {
     "name": "stdout",
     "output_type": "stream",
     "text": [
      "Y_Predict = [0 0 0 0 0 0 0 0 0 0 0 0 0 0 0 0 0 0 0 0 0 0 0 0 0 0 0 0 0 0 0 0 0 0 0 0 0\n",
      " 0 0 0 0 0 0 0 0 0 0 0 0 0 0 0 0 0 0 1 1 1 1 1 1 1 1 1 1 1 1 1 1 1 1 1 1 1\n",
      " 1 1 1 1 1 1 0 0 0 0 0 0 0 0 0 0 0 0 0 0 0 0 0 0 0 0 1 1 1 1 1 0 0 0 0 0 0\n",
      " 0 0 0 0 0 0 0 0 0 0 0 0 0 0 0 0 0 0 0 0 0 0 0 0 0 0 0 0 0 0 0 0 0 0 0 0 0\n",
      " 0 0 1 1 1 1 1 1 1 1 1 1 1 1 1 1 1 1 1 1 1 1 1 1 1 1 1 1 1 1 1 1 1 1 1 1 1\n",
      " 1 1 1 1 1 1 1 1 1 1 1 1 1 1 1]\n",
      "Accuracy with MLP Classifier = 65.0%\n",
      "Precision with MLP Classifier = 67.0%\n",
      "Recall with MLP Classifier = 65.0%\n",
      "F1_score with MLP Classifier = 65.4%\n"
     ]
    },
    {
     "data": {
      "text/html": [
       "<div>\n",
       "<style scoped>\n",
       "    .dataframe tbody tr th:only-of-type {\n",
       "        vertical-align: middle;\n",
       "    }\n",
       "\n",
       "    .dataframe tbody tr th {\n",
       "        vertical-align: top;\n",
       "    }\n",
       "\n",
       "    .dataframe thead th {\n",
       "        text-align: right;\n",
       "    }\n",
       "</style>\n",
       "<table border=\"1\" class=\"dataframe\">\n",
       "  <thead>\n",
       "    <tr style=\"text-align: right;\">\n",
       "      <th>col_0</th>\n",
       "      <th>0</th>\n",
       "      <th>1</th>\n",
       "    </tr>\n",
       "    <tr>\n",
       "      <th>row_0</th>\n",
       "      <th></th>\n",
       "      <th></th>\n",
       "    </tr>\n",
       "  </thead>\n",
       "  <tbody>\n",
       "    <tr>\n",
       "      <th>0</th>\n",
       "      <td>75</td>\n",
       "      <td>45</td>\n",
       "    </tr>\n",
       "    <tr>\n",
       "      <th>1</th>\n",
       "      <td>25</td>\n",
       "      <td>55</td>\n",
       "    </tr>\n",
       "  </tbody>\n",
       "</table>\n",
       "</div>"
      ],
      "text/plain": [
       "col_0   0   1\n",
       "row_0        \n",
       "0      75  45\n",
       "1      25  55"
      ]
     },
     "execution_count": 54,
     "metadata": {},
     "output_type": "execute_result"
    }
   ],
   "source": [
    "model = MLPClassifier(hidden_layer_sizes=(10,10),activation='relu',solver='adam',alpha=0.0001,batch_size='auto',\n",
    "                      learning_rate='constant',learning_rate_init=0.001,random_state=0)\n",
    "model.fit(X_train, y) \n",
    "y_predict = model.predict(X_test)\n",
    "print(\"Y_Predict =\",y_predict)\n",
    "accuracy = metrics.accuracy_score(y_predict, y_test) * 100\n",
    "print(\"Accuracy with MLP Classifier = {0:.1f}%\".format(accuracy))\n",
    "precision = metrics.precision_score(y_predict, y_test,average='weighted') * 100\n",
    "print(\"Precision with MLP Classifier = {0:.1f}%\".format(precision))\n",
    "recall = metrics.recall_score(y_predict, y_test,average='weighted') * 100\n",
    "print(\"Recall with MLP Classifier = {0:.1f}%\".format(recall))\n",
    "f1_score = metrics.f1_score(y_predict, y_test,average='weighted') * 100\n",
    "print(\"F1_score with MLP Classifier = {0:.1f}%\".format(f1_score))\n",
    "pd.crosstab(y_predict,y_test)"
   ]
  },
  {
   "cell_type": "code",
   "execution_count": 55,
   "metadata": {},
   "outputs": [
    {
     "name": "stdout",
     "output_type": "stream",
     "text": [
      "ANN: precision =  [0.74074074 0.61111111 0.64705882 0.6875     0.73333333 0.2\n",
      " 0.25       1.        ]\n",
      "ANN: recall =  [1.   0.55 0.55 0.55 0.55 0.05 0.05 0.  ]\n"
     ]
    },
    {
     "data": {
      "image/png": "[encoded data removed]",
      "text/plain": [
       "<Figure size 432x288 with 1 Axes>"
      ]
     },
     "metadata": {
      "needs_background": "light"
     },
     "output_type": "display_data"
    }
   ],
   "source": [
    "## Precision-Recall Curve\n",
    "from sklearn.metrics import precision_recall_curve\n",
    "ann_probs = model.predict_proba(X_test)\n",
    "# keep probabilities for the positive outcome only\n",
    "ann_probs = ann_probs[:, 1]\n",
    "y_predict=model.predict(X_test)\n",
    "ann_precision, ann_recall, _ = precision_recall_curve(y_test, ann_probs)\n",
    "# summarize scores\n",
    "print(\"ANN: precision = \",ann_precision)\n",
    "print(\"ANN: recall = \",ann_recall)\n",
    "# plot the precision-recall curves\n",
    "no_skill = len(y_test[y_test==1]) / len(y_test)\n",
    "pyplot.plot([0, 1], [no_skill, no_skill], linestyle='--', label='No Skill')\n",
    "pyplot.plot(ann_recall, ann_precision, marker='.', label='ANN')\n",
    "# axis labels\n",
    "pyplot.xlabel('Recall')\n",
    "pyplot.ylabel('Precision')\n",
    "# show the legend\n",
    "pyplot.legend()\n",
    "# show the plot\n",
    "pyplot.show()"
   ]
  },
  {
   "cell_type": "code",
   "execution_count": 56,
   "metadata": {},
   "outputs": [
    {
     "name": "stdout",
     "output_type": "stream",
     "text": [
      "No Skill: ROC AUC = 0.5\n",
      "ANN : ROC AUC = 0.73875\n",
      "ns_fpr = [0. 1.]\n",
      "ns_tpr = [0. 1.]\n",
      "ann_fpr = [0.   0.15 0.2  0.2  0.35 0.35 0.55 1.  ]\n",
      "ann_tpr = [0.   0.05 0.05 0.55 0.55 1.   1.   1.  ]\n"
     ]
    },
    {
     "data": {
      "image/png": "[encoded data removed]",
      "text/plain": [
       "<Figure size 432x288 with 1 Axes>"
      ]
     },
     "metadata": {
      "needs_background": "light"
     },
     "output_type": "display_data"
    }
   ],
   "source": [
    "# ROC AUC Curve\n",
    "from sklearn.metrics import roc_curve,roc_auc_score\n",
    "ns_probs = [0 for _ in range(len(y_test))]\n",
    "ns_auc=roc_auc_score(y_test,ns_probs)\n",
    "ann_auc=roc_auc_score(y_test,ann_probs)\n",
    "print('No Skill: ROC AUC =' ,ns_auc)\n",
    "print('ANN : ROC AUC =',ann_auc)\n",
    "ns_fpr, ns_tpr, _ = roc_curve(y_test, ns_probs)\n",
    "ann_fpr, ann_tpr, _ = roc_curve(y_test, ann_probs)\n",
    "print('ns_fpr =',ns_fpr)\n",
    "print('ns_tpr =',ns_tpr)\n",
    "print('ann_fpr =',ann_fpr)\n",
    "print('ann_tpr =',ann_tpr)\n",
    "# plot the roc curve for the model\n",
    "pyplot.plot(ns_fpr, ns_tpr, linestyle='--', label='No Skill')\n",
    "pyplot.plot(ann_fpr, ann_tpr, marker='.', label='ANN')\n",
    "# axis labels\n",
    "pyplot.xlabel('False Positive Rate')\n",
    "pyplot.ylabel('True Positive Rate')\n",
    "# show the legend\n",
    "pyplot.legend()\n",
    "# show the plot\n",
    "pyplot.show()"
   ]
  },
  {
   "cell_type": "markdown",
   "metadata": {},
   "source": [
    "# Testing data"
   ]
  },
  {
   "cell_type": "code",
   "execution_count": 57,
   "metadata": {},
   "outputs": [],
   "source": [
    "def getTomatoes(tomatoes, data_type, print_n=False, k_fold=False):\n",
    "    images = []\n",
    "    labels = []\n",
    "    val = ['Testing']\n",
    "    if not k_fold:\n",
    "        path = \"C://Users/Ishan.Borkar/Desktop/Tomato analysis/Kaggle/\" + data_type + \"/\"\n",
    "        for i,f in enumerate(tomatoes):\n",
    "            p = path + f\n",
    "            j=0\n",
    "            for image_path in glob.glob(os.path.join(p, \"*.jpg\")):\n",
    "                image = cv2.imread(image_path, cv2.IMREAD_COLOR)\n",
    "                image = cv2.resize(image, (dim, dim))\n",
    "                image = cv2.cvtColor(image, cv2.COLOR_RGB2BGR)\n",
    "                images.append(image)\n",
    "                labels.append(i)\n",
    "                j+=1\n",
    "            if(print_n):\n",
    "                print(\"There are \" , j , \" \" , data_type.upper(), \" images of \" , tomatoes[i].upper())\n",
    "        images = np.array(images)\n",
    "        labels = np.array(labels)\n",
    "        return images, labels\n",
    "    else:\n",
    "        for v in val:\n",
    "            path = \"C://Users/Ishan.Borkar/Desktop/Tomato analysis/Kaggle/\" + v + \"/\"\n",
    "            for i,f in enumerate(tomatoes):\n",
    "                p = path + f\n",
    "                j=0\n",
    "                for image_path in glob.glob(os.path.join(p, \"*.jpg\")):\n",
    "                    image = cv2.imread(image_path, cv2.IMREAD_COLOR)\n",
    "                    image = cv2.resize(image, (dim, dim))\n",
    "                    image = cv2.cvtColor(image, cv2.COLOR_RGB2BGR)\n",
    "                    images.append(image)\n",
    "                    labels.append(i)\n",
    "                    j+=1\n",
    "        images = np.array(images)\n",
    "        labels = np.array(labels)\n",
    "        return images, labels\n",
    "    \n",
    "def getAllTomatoes():\n",
    "    tomatoes = []\n",
    "    for tomato_path in glob.glob(\"C://Users/Ishan.Borkar/Desktop/Tomato analysis/Kaggle/Testing/*\"):\n",
    "        tomato = tomato_path.split(\"/\")[-1]\n",
    "        tomatoes.append(tomato)\n",
    "    return tomatoes"
   ]
  },
  {
   "cell_type": "markdown",
   "metadata": {},
   "source": [
    "#### Initialize the tomatoes on the testing data"
   ]
  },
  {
   "cell_type": "code",
   "execution_count": 58,
   "metadata": {},
   "outputs": [
    {
     "name": "stdout",
     "output_type": "stream",
     "text": [
      "['Mobile_captured_red_tomatoes', 'Mobile_captured_green_tomatoes']\n",
      "There are  100   TESTING  images of  MOBILE_CAPTURED_RED_TOMATOES\n",
      "There are  100   TESTING  images of  MOBILE_CAPTURED_GREEN_TOMATOES\n",
      "There are  150   TRAINING  images of  MOBILE_CAPTURED_RED_TOMATOES\n",
      "There are  150   TRAINING  images of  MOBILE_CAPTURED_GREEN_TOMATOES\n"
     ]
    }
   ],
   "source": [
    "tomatoes=['Mobile_captured_red_tomatoes','Mobile_captured_green_tomatoes']\n",
    "print(tomatoes)\n",
    "X_train, y_train =  getTomatoes(tomatoes, 'Testing', print_n=True, k_fold=False)\n",
    "X_test, y_test = getTomatoes(tomatoes, 'Training', print_n=True, k_fold=False)"
   ]
  },
  {
   "cell_type": "markdown",
   "metadata": {},
   "source": [
    "#### Use k-fold on the testing data"
   ]
  },
  {
   "cell_type": "code",
   "execution_count": 59,
   "metadata": {},
   "outputs": [
    {
     "name": "stdout",
     "output_type": "stream",
     "text": [
      "X =  [[[[255 255 255]\n",
      "   [255 255 255]\n",
      "   [255 255 255]\n",
      "   ...\n",
      "   [255 255 255]\n",
      "   [255 255 255]\n",
      "   [255 255 255]]\n",
      "\n",
      "  [[255 255 255]\n",
      "   [255 255 255]\n",
      "   [255 255 255]\n",
      "   ...\n",
      "   [255 255 255]\n",
      "   [255 255 255]\n",
      "   [255 255 255]]\n",
      "\n",
      "  [[255 255 255]\n",
      "   [255 255 255]\n",
      "   [255 255 255]\n",
      "   ...\n",
      "   [255 255 255]\n",
      "   [255 255 255]\n",
      "   [255 255 255]]\n",
      "\n",
      "  ...\n",
      "\n",
      "  [[255 255 255]\n",
      "   [255 255 255]\n",
      "   [255 255 255]\n",
      "   ...\n",
      "   [255 255 255]\n",
      "   [255 255 255]\n",
      "   [255 255 255]]\n",
      "\n",
      "  [[255 255 255]\n",
      "   [255 255 255]\n",
      "   [255 255 255]\n",
      "   ...\n",
      "   [255 255 255]\n",
      "   [255 255 255]\n",
      "   [255 255 255]]\n",
      "\n",
      "  [[255 255 255]\n",
      "   [255 255 255]\n",
      "   [255 255 255]\n",
      "   ...\n",
      "   [255 255 255]\n",
      "   [255 255 255]\n",
      "   [255 255 255]]]\n",
      "\n",
      "\n",
      " [[[255 255 255]\n",
      "   [255 255 255]\n",
      "   [255 255 255]\n",
      "   ...\n",
      "   [255 255 255]\n",
      "   [255 255 255]\n",
      "   [255 255 255]]\n",
      "\n",
      "  [[255 255 255]\n",
      "   [255 255 255]\n",
      "   [255 255 255]\n",
      "   ...\n",
      "   [255 255 255]\n",
      "   [255 255 255]\n",
      "   [255 255 255]]\n",
      "\n",
      "  [[255 255 255]\n",
      "   [255 255 255]\n",
      "   [255 255 255]\n",
      "   ...\n",
      "   [255 255 255]\n",
      "   [255 255 255]\n",
      "   [255 255 255]]\n",
      "\n",
      "  ...\n",
      "\n",
      "  [[255 255 255]\n",
      "   [255 255 255]\n",
      "   [255 255 255]\n",
      "   ...\n",
      "   [255 255 255]\n",
      "   [255 255 255]\n",
      "   [255 255 255]]\n",
      "\n",
      "  [[255 255 255]\n",
      "   [255 255 255]\n",
      "   [255 255 255]\n",
      "   ...\n",
      "   [255 255 255]\n",
      "   [255 255 255]\n",
      "   [255 255 255]]\n",
      "\n",
      "  [[255 255 255]\n",
      "   [255 255 255]\n",
      "   [255 255 255]\n",
      "   ...\n",
      "   [255 255 255]\n",
      "   [255 255 255]\n",
      "   [255 255 255]]]\n",
      "\n",
      "\n",
      " [[[255 255 255]\n",
      "   [255 255 255]\n",
      "   [255 255 255]\n",
      "   ...\n",
      "   [255 255 255]\n",
      "   [255 255 255]\n",
      "   [255 255 255]]\n",
      "\n",
      "  [[255 255 255]\n",
      "   [255 255 255]\n",
      "   [255 255 255]\n",
      "   ...\n",
      "   [255 255 255]\n",
      "   [255 255 255]\n",
      "   [255 255 255]]\n",
      "\n",
      "  [[255 255 255]\n",
      "   [255 255 255]\n",
      "   [255 255 255]\n",
      "   ...\n",
      "   [255 255 255]\n",
      "   [255 255 255]\n",
      "   [255 255 255]]\n",
      "\n",
      "  ...\n",
      "\n",
      "  [[255 255 255]\n",
      "   [255 255 255]\n",
      "   [255 255 255]\n",
      "   ...\n",
      "   [255 255 255]\n",
      "   [255 255 255]\n",
      "   [255 255 255]]\n",
      "\n",
      "  [[255 255 255]\n",
      "   [255 255 255]\n",
      "   [255 255 255]\n",
      "   ...\n",
      "   [255 255 255]\n",
      "   [255 255 255]\n",
      "   [255 255 255]]\n",
      "\n",
      "  [[255 255 255]\n",
      "   [255 255 255]\n",
      "   [255 255 255]\n",
      "   ...\n",
      "   [255 255 255]\n",
      "   [255 255 255]\n",
      "   [255 255 255]]]\n",
      "\n",
      "\n",
      " ...\n",
      "\n",
      "\n",
      " [[[255 255 255]\n",
      "   [255 255 255]\n",
      "   [255 255 255]\n",
      "   ...\n",
      "   [255 255 255]\n",
      "   [255 255 255]\n",
      "   [255 255 255]]\n",
      "\n",
      "  [[255 255 255]\n",
      "   [255 255 255]\n",
      "   [255 255 255]\n",
      "   ...\n",
      "   [255 255 255]\n",
      "   [255 255 255]\n",
      "   [255 255 255]]\n",
      "\n",
      "  [[255 255 255]\n",
      "   [255 255 255]\n",
      "   [255 255 255]\n",
      "   ...\n",
      "   [255 255 255]\n",
      "   [255 255 255]\n",
      "   [255 255 255]]\n",
      "\n",
      "  ...\n",
      "\n",
      "  [[255 255 255]\n",
      "   [255 255 255]\n",
      "   [255 255 255]\n",
      "   ...\n",
      "   [255 255 255]\n",
      "   [255 255 255]\n",
      "   [255 255 255]]\n",
      "\n",
      "  [[255 255 255]\n",
      "   [255 255 255]\n",
      "   [255 255 255]\n",
      "   ...\n",
      "   [255 255 255]\n",
      "   [255 255 255]\n",
      "   [255 255 255]]\n",
      "\n",
      "  [[255 255 255]\n",
      "   [255 255 255]\n",
      "   [255 255 255]\n",
      "   ...\n",
      "   [255 255 255]\n",
      "   [255 255 255]\n",
      "   [255 255 255]]]\n",
      "\n",
      "\n",
      " [[[255 255 255]\n",
      "   [255 255 255]\n",
      "   [255 255 255]\n",
      "   ...\n",
      "   [255 255 255]\n",
      "   [255 255 255]\n",
      "   [255 255 255]]\n",
      "\n",
      "  [[255 255 255]\n",
      "   [255 255 255]\n",
      "   [255 255 255]\n",
      "   ...\n",
      "   [255 255 255]\n",
      "   [255 255 255]\n",
      "   [255 255 255]]\n",
      "\n",
      "  [[255 255 255]\n",
      "   [255 255 255]\n",
      "   [255 255 255]\n",
      "   ...\n",
      "   [255 255 255]\n",
      "   [255 255 255]\n",
      "   [255 255 255]]\n",
      "\n",
      "  ...\n",
      "\n",
      "  [[255 255 255]\n",
      "   [255 255 255]\n",
      "   [255 255 255]\n",
      "   ...\n",
      "   [255 255 255]\n",
      "   [255 255 255]\n",
      "   [255 255 255]]\n",
      "\n",
      "  [[255 255 255]\n",
      "   [255 255 255]\n",
      "   [255 255 255]\n",
      "   ...\n",
      "   [255 255 255]\n",
      "   [255 255 255]\n",
      "   [255 255 255]]\n",
      "\n",
      "  [[255 255 255]\n",
      "   [255 255 255]\n",
      "   [255 255 255]\n",
      "   ...\n",
      "   [255 255 255]\n",
      "   [255 255 255]\n",
      "   [255 255 255]]]\n",
      "\n",
      "\n",
      " [[[255 255 255]\n",
      "   [255 255 255]\n",
      "   [255 255 255]\n",
      "   ...\n",
      "   [255 255 255]\n",
      "   [255 255 255]\n",
      "   [255 255 255]]\n",
      "\n",
      "  [[255 255 255]\n",
      "   [255 255 255]\n",
      "   [255 255 255]\n",
      "   ...\n",
      "   [255 255 255]\n",
      "   [255 255 255]\n",
      "   [255 255 255]]\n",
      "\n",
      "  [[255 255 255]\n",
      "   [255 255 255]\n",
      "   [255 255 255]\n",
      "   ...\n",
      "   [255 255 255]\n",
      "   [255 255 255]\n",
      "   [255 255 255]]\n",
      "\n",
      "  ...\n",
      "\n",
      "  [[255 255 255]\n",
      "   [255 255 255]\n",
      "   [255 255 255]\n",
      "   ...\n",
      "   [255 255 255]\n",
      "   [255 255 255]\n",
      "   [255 255 255]]\n",
      "\n",
      "  [[255 255 255]\n",
      "   [255 255 255]\n",
      "   [255 255 255]\n",
      "   ...\n",
      "   [255 255 255]\n",
      "   [255 255 255]\n",
      "   [255 255 255]]\n",
      "\n",
      "  [[255 255 255]\n",
      "   [255 255 255]\n",
      "   [255 255 255]\n",
      "   ...\n",
      "   [255 255 255]\n",
      "   [255 255 255]\n",
      "   [255 255 255]]]]\n",
      "y =  [0 0 0 0 0 0 0 0 0 0 0 0 0 0 0 0 0 0 0 0 0 0 0 0 0 0 0 0 0 0 0 0 0 0 0 0 0\n",
      " 0 0 0 0 0 0 0 0 0 0 0 0 0 0 0 0 0 0 0 0 0 0 0 0 0 0 0 0 0 0 0 0 0 0 0 0 0\n",
      " 0 0 0 0 0 0 0 0 0 0 0 0 0 0 0 0 0 0 0 0 0 0 0 0 0 0 1 1 1 1 1 1 1 1 1 1 1\n",
      " 1 1 1 1 1 1 1 1 1 1 1 1 1 1 1 1 1 1 1 1 1 1 1 1 1 1 1 1 1 1 1 1 1 1 1 1 1\n",
      " 1 1 1 1 1 1 1 1 1 1 1 1 1 1 1 1 1 1 1 1 1 1 1 1 1 1 1 1 1 1 1 1 1 1 1 1 1\n",
      " 1 1 1 1 1 1 1 1 1 1 1 1 1 1 1]\n"
     ]
    }
   ],
   "source": [
    "X,y = getTomatoes(tomatoes, '', print_n=True, k_fold=True)\n",
    "print(\"X = \",X)\n",
    "print(\"y = \",y)"
   ]
  },
  {
   "cell_type": "markdown",
   "metadata": {},
   "source": [
    "#### Using standard scalar on the testing data"
   ]
  },
  {
   "cell_type": "code",
   "execution_count": 60,
   "metadata": {},
   "outputs": [
    {
     "name": "stdout",
     "output_type": "stream",
     "text": [
      "X =  [[0. 0. 0. ... 0. 0. 0.]\n",
      " [0. 0. 0. ... 0. 0. 0.]\n",
      " [0. 0. 0. ... 0. 0. 0.]\n",
      " ...\n",
      " [0. 0. 0. ... 0. 0. 0.]\n",
      " [0. 0. 0. ... 0. 0. 0.]\n",
      " [0. 0. 0. ... 0. 0. 0.]]\n"
     ]
    }
   ],
   "source": [
    "scaler = StandardScaler()\n",
    "X_train1 = scaler.fit_transform([i.flatten() for i in X_train])\n",
    "X_test = scaler.fit_transform([i.flatten() for i in X_test])\n",
    "X = scaler.fit_transform([i.flatten() for i in X])\n",
    "print(\"X = \",X)"
   ]
  },
  {
   "cell_type": "markdown",
   "metadata": {},
   "source": [
    "### 1) Tested Mobile Captured Red tomatoes"
   ]
  },
  {
   "cell_type": "code",
   "execution_count": 61,
   "metadata": {},
   "outputs": [
    {
     "name": "stdout",
     "output_type": "stream",
     "text": [
      "Mobile_captured_red_tomatoes\n"
     ]
    },
    {
     "data": {
      "image/png": "[encoded data removed]",
      "text/plain": [
       "<Figure size 1080x1080 with 100 Axes>"
      ]
     },
     "metadata": {
      "needs_background": "light"
     },
     "output_type": "display_data"
    }
   ],
   "source": [
    "print(tomatoes[y_train[0]])\n",
    "plot_image_grid(X_train[0:100], 10, 10)"
   ]
  },
  {
   "cell_type": "markdown",
   "metadata": {},
   "source": [
    "### 2) Tested Mobile Captured Green tomatoes "
   ]
  },
  {
   "cell_type": "code",
   "execution_count": 62,
   "metadata": {},
   "outputs": [
    {
     "name": "stdout",
     "output_type": "stream",
     "text": [
      "Mobile_captured_green_tomatoes\n"
     ]
    },
    {
     "data": {
      "image/png": "[encoded data removed]",
      "text/plain": [
       "<Figure size 1080x1080 with 100 Axes>"
      ]
     },
     "metadata": {
      "needs_background": "light"
     },
     "output_type": "display_data"
    }
   ],
   "source": [
    "print(tomatoes[y_train[100]])\n",
    "plot_image_grid(X_train[100:200], 10, 10)"
   ]
  },
  {
   "cell_type": "markdown",
   "metadata": {},
   "source": [
    "### Classification on the testing data"
   ]
  },
  {
   "cell_type": "code",
   "execution_count": 63,
   "metadata": {},
   "outputs": [],
   "source": [
    "tomatoes = ['Mobile_captured_red_tomatoes','Mobile_captured_green_tomatoes']\n",
    "\n",
    "#Get Images and Labels\n",
    "X, y =  getTomatoes(tomatoes, 'Testing')\n",
    "X_test, y_test = getTomatoes(tomatoes, 'Training')\n",
    "\n",
    "#Scale Data Images\n",
    "scaler = StandardScaler()\n",
    "X_train = scaler.fit_transform([i.flatten() for i in X])\n",
    "X_test = scaler.fit_transform([i.flatten() for i in X_test])"
   ]
  },
  {
   "cell_type": "markdown",
   "metadata": {},
   "source": [
    "## 1) Using SVM on the testing data"
   ]
  },
  {
   "cell_type": "markdown",
   "metadata": {},
   "source": [
    "#### 1. Linear SVM"
   ]
  },
  {
   "cell_type": "code",
   "execution_count": 64,
   "metadata": {},
   "outputs": [
    {
     "name": "stdout",
     "output_type": "stream",
     "text": [
      "Y_Predict = [0 0 0 0 0 0 0 0 0 0 0 0 0 0 0 0 0 0 0 0 0 0 0 0 0 0 0 0 0 0 0 0 0 0 0 0 0\n",
      " 0 0 0 0 0 0 0 0 0 0 0 0 0 0 0 0 0 0 0 0 0 0 0 0 0 0 0 0 0 0 0 0 0 0 0 0 0\n",
      " 0 0 0 0 0 0 0 0 0 0 0 0 0 0 0 0 0 0 0 0 0 0 0 0 0 0 0 0 0 0 0 0 0 0 0 0 0\n",
      " 0 0 0 0 0 0 0 0 0 0 0 0 0 0 0 0 0 0 0 0 0 0 0 0 0 0 0 0 0 0 0 0 0 0 0 0 0\n",
      " 0 0 0 0 0 0 0 0 0 0 0 0 0 0 0 0 0 0 0 0 0 0 0 0 0 0 0 0 0 0 0 0 0 0 0 0 0\n",
      " 0 0 0 0 0 0 0 0 0 0 0 0 0 0 0 0 0 0 0 0 0 0 0 0 0 0 0 0 0 0 0 0 0 0 0 0 0\n",
      " 0 0 0 0 0 0 0 0 1 1 1 1 1 1 1 1 1 1 1 1 1 1 1 1 1 1 1 1 1 1 1 1 1 1 1 1 1\n",
      " 1 1 1 1 1 1 1 1 1 1 1 1 1 1 1 1 1 1 1 1 1 1 1 1 1 1 1 1 1 1 1 1 1 1 1 1 1\n",
      " 1 1 1 1]\n",
      "Accuracy with Linear SVM = 73.3%\n",
      "Precision with Linear SVM = 87.6%\n",
      "Recall with Linear SVM = 73.3%\n",
      "F1_score with Linear SVM = 75.4%\n"
     ]
    },
    {
     "data": {
      "text/html": [
       "<div>\n",
       "<style scoped>\n",
       "    .dataframe tbody tr th:only-of-type {\n",
       "        vertical-align: middle;\n",
       "    }\n",
       "\n",
       "    .dataframe tbody tr th {\n",
       "        vertical-align: top;\n",
       "    }\n",
       "\n",
       "    .dataframe thead th {\n",
       "        text-align: right;\n",
       "    }\n",
       "</style>\n",
       "<table border=\"1\" class=\"dataframe\">\n",
       "  <thead>\n",
       "    <tr style=\"text-align: right;\">\n",
       "      <th>col_0</th>\n",
       "      <th>0</th>\n",
       "      <th>1</th>\n",
       "    </tr>\n",
       "    <tr>\n",
       "      <th>row_0</th>\n",
       "      <th></th>\n",
       "      <th></th>\n",
       "    </tr>\n",
       "  </thead>\n",
       "  <tbody>\n",
       "    <tr>\n",
       "      <th>0</th>\n",
       "      <td>150</td>\n",
       "      <td>80</td>\n",
       "    </tr>\n",
       "    <tr>\n",
       "      <th>1</th>\n",
       "      <td>0</td>\n",
       "      <td>70</td>\n",
       "    </tr>\n",
       "  </tbody>\n",
       "</table>\n",
       "</div>"
      ],
      "text/plain": [
       "col_0    0   1\n",
       "row_0         \n",
       "0      150  80\n",
       "1        0  70"
      ]
     },
     "execution_count": 64,
     "metadata": {},
     "output_type": "execute_result"
    }
   ],
   "source": [
    "# Linear SVM\n",
    "model = SVC(C=0.1,degree=1, random_state=0,gamma='auto', kernel='linear',probability=True)\n",
    "model.fit(X_train, y) \n",
    "y_predict = model.predict(X_test)\n",
    "print(\"Y_Predict =\",y_predict)\n",
    "accuracy = metrics.accuracy_score(y_predict, y_test) * 100\n",
    "print(\"Accuracy with Linear SVM = {0:.1f}%\".format(accuracy))\n",
    "precision = metrics.precision_score(y_predict, y_test,average='weighted') * 100\n",
    "print(\"Precision with Linear SVM = {0:.1f}%\".format(precision))\n",
    "recall = metrics.recall_score(y_predict, y_test,average='weighted') * 100\n",
    "print(\"Recall with Linear SVM = {0:.1f}%\".format(recall))\n",
    "f1_score = metrics.f1_score(y_predict, y_test,average='weighted') * 100\n",
    "print(\"F1_score with Linear SVM = {0:.1f}%\".format(f1_score))\n",
    "pd.crosstab(y_predict,y_test)"
   ]
  },
  {
   "cell_type": "code",
   "execution_count": 65,
   "metadata": {},
   "outputs": [
    {
     "name": "stdout",
     "output_type": "stream",
     "text": [
      "Linear SVM: precision =  [1. 1. 1. 1. 1.]\n",
      "Linear SVM: recall =  [1.         0.73333333 0.46666667 0.3        0.        ]\n"
     ]
    },
    {
     "data": {
      "image/png": "[encoded data removed]",
      "text/plain": [
       "<Figure size 432x288 with 1 Axes>"
      ]
     },
     "metadata": {
      "needs_background": "light"
     },
     "output_type": "display_data"
    }
   ],
   "source": [
    "## Precision-Recall Curve\n",
    "from sklearn.metrics import precision_recall_curve\n",
    "svm_probs = model.predict_proba(X_test)\n",
    "# keep probabilities for the positive outcome only\n",
    "svm_probs = svm_probs[:, 1]\n",
    "y_predict=model.predict(X_test)\n",
    "svm_precision, svm_recall, _ = precision_recall_curve(y_test, svm_probs)\n",
    "# summarize scores\n",
    "print(\"Linear SVM: precision = \",svm_precision)\n",
    "print(\"Linear SVM: recall = \",svm_recall)\n",
    "# plot the precision-recall curves\n",
    "no_skill = len(y_test[y_test==1]) / len(y_test)\n",
    "pyplot.plot([0, 1], [no_skill, no_skill], linestyle='--', label='No Skill')\n",
    "pyplot.plot(svm_recall, svm_precision, marker='.', label='Linear SVM')\n",
    "# axis labels\n",
    "pyplot.xlabel('Recall')\n",
    "pyplot.ylabel('Precision')\n",
    "# show the legend\n",
    "pyplot.legend()\n",
    "# show the plot\n",
    "pyplot.show()"
   ]
  },
  {
   "cell_type": "code",
   "execution_count": 66,
   "metadata": {},
   "outputs": [
    {
     "name": "stdout",
     "output_type": "stream",
     "text": [
      "No Skill: ROC AUC = 0.5\n",
      "LinearSVM : ROC AUC = 1.0\n",
      "ns_fpr = [0. 1.]\n",
      "ns_tpr = [0. 1.]\n",
      "svm_fpr = [0.         0.         0.         0.         0.23333333 0.48\n",
      " 0.66666667 0.7        1.        ]\n",
      "svm_tpr = [0.         0.3        0.46666667 1.         1.         1.\n",
      " 1.         1.         1.        ]\n"
     ]
    },
    {
     "data": {
      "image/png": "[encoded data removed]",
      "text/plain": [
       "<Figure size 432x288 with 1 Axes>"
      ]
     },
     "metadata": {
      "needs_background": "light"
     },
     "output_type": "display_data"
    }
   ],
   "source": [
    "# ROC AUC Curve\n",
    "from sklearn.metrics import roc_curve,roc_auc_score\n",
    "ns_probs = [0 for _ in range(len(y_test))]\n",
    "ns_auc=roc_auc_score(y_test,ns_probs)\n",
    "svm_auc=roc_auc_score(y_test,svm_probs)\n",
    "print('No Skill: ROC AUC =' ,ns_auc)\n",
    "print('LinearSVM : ROC AUC =',svm_auc)\n",
    "ns_fpr, ns_tpr, _ = roc_curve(y_test, ns_probs)\n",
    "svm_fpr, svm_tpr, _ = roc_curve(y_test, svm_probs)\n",
    "print('ns_fpr =',ns_fpr)\n",
    "print('ns_tpr =',ns_tpr)\n",
    "print('svm_fpr =',svm_fpr)\n",
    "print('svm_tpr =',svm_tpr)\n",
    "# plot the roc curve for the model\n",
    "pyplot.plot(ns_fpr, ns_tpr, linestyle='--', label='No Skill')\n",
    "pyplot.plot(svm_fpr, svm_tpr, marker='.', label='Linear SVM')\n",
    "# axis labels\n",
    "pyplot.xlabel('False Positive Rate')\n",
    "pyplot.ylabel('True Positive Rate')\n",
    "# show the legend\n",
    "pyplot.legend()\n",
    "# show the plot\n",
    "pyplot.show()"
   ]
  },
  {
   "cell_type": "markdown",
   "metadata": {},
   "source": [
    "#### 2. RBF SVM"
   ]
  },
  {
   "cell_type": "code",
   "execution_count": 67,
   "metadata": {},
   "outputs": [
    {
     "name": "stdout",
     "output_type": "stream",
     "text": [
      "Y_Predict = [0 0 0 0 0 0 0 0 0 0 0 0 0 0 0 0 0 0 0 0 0 0 0 0 0 0 0 0 0 0 0 0 0 0 0 0 0\n",
      " 0 0 0 0 0 0 0 0 1 1 1 1 1 0 0 0 0 0 0 0 0 0 0 0 0 0 0 0 0 0 0 0 0 0 0 0 0\n",
      " 0 0 0 0 1 1 1 1 1 1 1 1 1 1 1 1 1 1 1 1 1 1 1 1 1 1 1 1 1 1 1 1 1 1 1 1 1\n",
      " 1 1 1 1 1 1 1 1 1 1 1 1 1 1 1 1 1 1 1 1 1 1 1 1 1 1 1 1 1 1 1 1 1 1 1 1 1\n",
      " 1 1 0 0 0 0 0 0 0 0 0 0 0 0 0 0 0 0 0 0 0 0 0 0 0 0 0 0 0 0 0 0 0 0 0 0 0\n",
      " 0 0 0 0 0 1 1 1 1 1 1 1 1 1 1 1 1 1 1 1 1 1 1 1 1 1 1 1 1 1 1 1 1 1 1 1 1\n",
      " 1 1 1 1 1 1 1 1 1 1 1 1 1 1 1 1 1 1 1 1 1 1 1 1 1 1 1 1 1 1 1 1 1 1 1 1 1\n",
      " 1 1 1 1 1 1 1 1 1 1 1 1 1 1 1 1 1 1 1 1 1 1 1 1 1 1 1 1 1 1 1 1 1 1 1 1 1\n",
      " 1 1 1 1]\n",
      "Accuracy with Kernel RBF SVM = 61.0%\n",
      "Precision with Kernel RBF SVM = 64.0%\n",
      "Recall with Kernel RBF SVM = 61.0%\n",
      "F1_score with Kernel RBF SVM = 61.6%\n"
     ]
    },
    {
     "data": {
      "text/html": [
       "<div>\n",
       "<style scoped>\n",
       "    .dataframe tbody tr th:only-of-type {\n",
       "        vertical-align: middle;\n",
       "    }\n",
       "\n",
       "    .dataframe tbody tr th {\n",
       "        vertical-align: top;\n",
       "    }\n",
       "\n",
       "    .dataframe thead th {\n",
       "        text-align: right;\n",
       "    }\n",
       "</style>\n",
       "<table border=\"1\" class=\"dataframe\">\n",
       "  <thead>\n",
       "    <tr style=\"text-align: right;\">\n",
       "      <th>col_0</th>\n",
       "      <th>0</th>\n",
       "      <th>1</th>\n",
       "    </tr>\n",
       "    <tr>\n",
       "      <th>row_0</th>\n",
       "      <th></th>\n",
       "      <th></th>\n",
       "    </tr>\n",
       "  </thead>\n",
       "  <tbody>\n",
       "    <tr>\n",
       "      <th>0</th>\n",
       "      <td>73</td>\n",
       "      <td>40</td>\n",
       "    </tr>\n",
       "    <tr>\n",
       "      <th>1</th>\n",
       "      <td>77</td>\n",
       "      <td>110</td>\n",
       "    </tr>\n",
       "  </tbody>\n",
       "</table>\n",
       "</div>"
      ],
      "text/plain": [
       "col_0   0    1\n",
       "row_0         \n",
       "0      73   40\n",
       "1      77  110"
      ]
     },
     "execution_count": 67,
     "metadata": {},
     "output_type": "execute_result"
    }
   ],
   "source": [
    "# Kernel RBF SVM\n",
    "model = SVC(C=0.1,degree=1, random_state=0,gamma='auto', kernel='rbf',probability=True)\n",
    "model.fit(X_train, y) \n",
    "y_predict = model.predict(X_test)\n",
    "print(\"Y_Predict =\",y_predict)\n",
    "accuracy = metrics.accuracy_score(y_predict, y_test) * 100\n",
    "print(\"Accuracy with Kernel RBF SVM = {0:.1f}%\".format(accuracy))\n",
    "precision = metrics.precision_score(y_predict, y_test,average='weighted') * 100\n",
    "print(\"Precision with Kernel RBF SVM = {0:.1f}%\".format(precision))\n",
    "recall = metrics.recall_score(y_predict, y_test,average='weighted') * 100\n",
    "print(\"Recall with Kernel RBF SVM = {0:.1f}%\".format(recall))\n",
    "f1_score = metrics.f1_score(y_predict, y_test,average='weighted') * 100\n",
    "print(\"F1_score with Kernel RBF SVM = {0:.1f}%\".format(f1_score))\n",
    "pd.crosstab(y_predict,y_test)"
   ]
  },
  {
   "cell_type": "code",
   "execution_count": 68,
   "metadata": {},
   "outputs": [
    {
     "name": "stdout",
     "output_type": "stream",
     "text": [
      "RBF SVM: precision =  [0.66079295 0.58823529 0.6043956  0.54140127 0.38461538 0.5625\n",
      " 1.         1.        ]\n",
      "RBF SVM: recall =  [1.         0.73333333 0.73333333 0.56666667 0.3        0.3\n",
      " 0.3        0.        ]\n"
     ]
    },
    {
     "data": {
      "image/png": "[encoded data removed]",
      "text/plain": [
       "<Figure size 432x288 with 1 Axes>"
      ]
     },
     "metadata": {
      "needs_background": "light"
     },
     "output_type": "display_data"
    }
   ],
   "source": [
    "## Precision-Recall Curve\n",
    "from sklearn.metrics import precision_recall_curve\n",
    "svm_probs = model.predict_proba(X_test)\n",
    "# keep probabilities for the positive outcome only\n",
    "svm_probs = svm_probs[:, 1]\n",
    "y_predict=model.predict(X_test)\n",
    "svm_precision, svm_recall, _ = precision_recall_curve(y_test, svm_probs)\n",
    "# summarize scores\n",
    "print(\"RBF SVM: precision = \",svm_precision)\n",
    "print(\"RBF SVM: recall = \",svm_recall)\n",
    "# plot the precision-recall curves\n",
    "no_skill = len(y_test[y_test==1]) / len(y_test)\n",
    "pyplot.plot([0, 1], [no_skill, no_skill], linestyle='--', label='No Skill')\n",
    "pyplot.plot(svm_recall, svm_precision, marker='.', label='RBF SVM')\n",
    "# axis labels\n",
    "pyplot.xlabel('Recall')\n",
    "pyplot.ylabel('Precision')\n",
    "# show the legend\n",
    "pyplot.legend()\n",
    "# show the plot\n",
    "pyplot.show()"
   ]
  },
  {
   "cell_type": "code",
   "execution_count": 76,
   "metadata": {},
   "outputs": [
    {
     "name": "stdout",
     "output_type": "stream",
     "text": [
      "No Skill: ROC AUC = 0.5\n",
      "RBF SVM : ROC AUC = 0.6962222222222223\n",
      "ns_fpr = [0. 1.]\n",
      "ns_tpr = [0. 1.]\n",
      "RBF_svm_fpr = [0.         0.         0.23333333 0.23333333 0.48       0.48\n",
      " 0.51333333 0.51333333 0.7        1.        ]\n",
      "RBF_svm_tpr = [0.         0.3        0.3        0.46666667 0.46666667 0.73333333\n",
      " 0.73333333 1.         1.         1.        ]\n"
     ]
    },
    {
     "data": {
      "image/png": "[encoded data removed]",
      "text/plain": [
       "<Figure size 432x288 with 1 Axes>"
      ]
     },
     "metadata": {
      "needs_background": "light"
     },
     "output_type": "display_data"
    }
   ],
   "source": [
    "# ROC AUC Curve\n",
    "from sklearn.metrics import roc_curve,roc_auc_score\n",
    "ns_probs = [0 for _ in range(len(y_test))]\n",
    "ns_auc=roc_auc_score(y_test,ns_probs)\n",
    "svm_auc=roc_auc_score(y_test,svm_probs)\n",
    "print('No Skill: ROC AUC =' ,ns_auc)\n",
    "print('RBF SVM : ROC AUC =',svm_auc)\n",
    "ns_fpr, ns_tpr, _ = roc_curve(y_test, ns_probs)\n",
    "svm_fpr, svm_tpr, _ = roc_curve(y_test, svm_probs)\n",
    "print('ns_fpr =',ns_fpr)\n",
    "print('ns_tpr =',ns_tpr)\n",
    "print('RBF_svm_fpr =',svm_fpr)\n",
    "print('RBF_svm_tpr =',svm_tpr)\n",
    "# plot the roc curve for the model\n",
    "pyplot.plot(ns_fpr, ns_tpr, linestyle='--', label='No Skill')\n",
    "pyplot.plot(svm_fpr, svm_tpr, marker='.', label='RBF SVM')\n",
    "# axis labels\n",
    "pyplot.xlabel('False Positive Rate')\n",
    "pyplot.ylabel('True Positive Rate')\n",
    "# show the legend\n",
    "pyplot.legend()\n",
    "# show the plot\n",
    "pyplot.show()"
   ]
  },
  {
   "cell_type": "markdown",
   "metadata": {},
   "source": [
    "#### 3. Poly SVM"
   ]
  },
  {
   "cell_type": "code",
   "execution_count": 77,
   "metadata": {},
   "outputs": [
    {
     "name": "stdout",
     "output_type": "stream",
     "text": [
      "Y_Predict = [0 0 0 0 0 0 0 0 0 0 0 0 0 0 0 0 0 0 0 0 0 0 0 0 0 0 0 0 0 0 0 0 0 0 0 0 0\n",
      " 0 0 0 0 0 0 0 0 1 1 1 1 1 1 1 1 1 1 1 1 1 1 1 1 1 1 1 1 1 1 1 1 1 1 1 1 1\n",
      " 1 1 1 1 1 1 1 1 1 1 1 1 1 1 1 1 1 1 1 1 1 1 1 1 1 1 1 1 1 1 1 1 1 1 1 1 1\n",
      " 1 1 1 1 1 1 1 1 1 1 1 1 1 1 1 1 1 1 1 1 1 1 1 1 1 1 1 1 1 1 1 1 1 1 1 1 1\n",
      " 1 1 1 1 1 1 1 1 1 1 1 1 1 1 1 1 1 1 1 1 1 1 1 1 1 1 1 1 1 1 1 1 1 1 1 1 1\n",
      " 1 1 1 1 1 1 1 1 1 1 1 1 1 1 1 1 1 1 1 1 1 1 1 1 1 1 1 1 1 1 1 1 1 1 1 1 1\n",
      " 1 1 1 1 1 1 1 1 1 1 1 1 1 1 1 1 1 1 1 1 1 1 1 1 1 1 1 1 1 1 1 1 1 1 1 1 1\n",
      " 1 1 1 1 1 1 1 1 1 1 1 1 1 1 1 1 1 1 1 1 1 1 1 1 1 1 1 1 1 1 1 1 1 1 1 1 1\n",
      " 1 1 1 1]\n",
      "Accuracy with Kernel poly SVM = 65.0%\n",
      "Precision with Kernel poly SVM = 89.5%\n",
      "Recall with Kernel poly SVM = 65.0%\n",
      "F1_score with Kernel poly SVM = 69.9%\n"
     ]
    },
    {
     "data": {
      "text/html": [
       "<div>\n",
       "<style scoped>\n",
       "    .dataframe tbody tr th:only-of-type {\n",
       "        vertical-align: middle;\n",
       "    }\n",
       "\n",
       "    .dataframe tbody tr th {\n",
       "        vertical-align: top;\n",
       "    }\n",
       "\n",
       "    .dataframe thead th {\n",
       "        text-align: right;\n",
       "    }\n",
       "</style>\n",
       "<table border=\"1\" class=\"dataframe\">\n",
       "  <thead>\n",
       "    <tr style=\"text-align: right;\">\n",
       "      <th>col_0</th>\n",
       "      <th>0</th>\n",
       "      <th>1</th>\n",
       "    </tr>\n",
       "    <tr>\n",
       "      <th>row_0</th>\n",
       "      <th></th>\n",
       "      <th></th>\n",
       "    </tr>\n",
       "  </thead>\n",
       "  <tbody>\n",
       "    <tr>\n",
       "      <th>0</th>\n",
       "      <td>45</td>\n",
       "      <td>0</td>\n",
       "    </tr>\n",
       "    <tr>\n",
       "      <th>1</th>\n",
       "      <td>105</td>\n",
       "      <td>150</td>\n",
       "    </tr>\n",
       "  </tbody>\n",
       "</table>\n",
       "</div>"
      ],
      "text/plain": [
       "col_0    0    1\n",
       "row_0          \n",
       "0       45    0\n",
       "1      105  150"
      ]
     },
     "execution_count": 77,
     "metadata": {},
     "output_type": "execute_result"
    }
   ],
   "source": [
    "# Kernel Poly SVM\n",
    "model = SVC(C=0.1,degree=1, random_state=0,gamma='auto', kernel='poly',probability=True)\n",
    "model.fit(X_train, y) \n",
    "y_predict = model.predict(X_test)\n",
    "print(\"Y_Predict =\",y_predict)\n",
    "accuracy = metrics.accuracy_score(y_predict, y_test) * 100\n",
    "print(\"Accuracy with Kernel poly SVM = {0:.1f}%\".format(accuracy))\n",
    "precision = metrics.precision_score(y_predict, y_test,average='weighted') * 100\n",
    "print(\"Precision with Kernel poly SVM = {0:.1f}%\".format(precision))\n",
    "recall = metrics.recall_score(y_predict, y_test,average='weighted') * 100\n",
    "print(\"Recall with Kernel poly SVM = {0:.1f}%\".format(recall))\n",
    "f1_score = metrics.f1_score(y_predict, y_test,average='weighted') * 100\n",
    "print(\"F1_score with Kernel poly SVM = {0:.1f}%\".format(f1_score))\n",
    "pd.crosstab(y_predict,y_test)"
   ]
  },
  {
   "cell_type": "code",
   "execution_count": 78,
   "metadata": {},
   "outputs": [
    {
     "name": "stdout",
     "output_type": "stream",
     "text": [
      "Poly SVM: precision =  [0.66079295 0.58823529 0.6043956  0.49295775 0.66666667 0.5625\n",
      " 1.         1.        ]\n",
      "Poly SVM: recall =  [1.         0.73333333 0.73333333 0.46666667 0.46666667 0.3\n",
      " 0.3        0.        ]\n"
     ]
    },
    {
     "data": {
      "image/png": "[encoded data removed]",
      "text/plain": [
       "<Figure size 432x288 with 1 Axes>"
      ]
     },
     "metadata": {
      "needs_background": "light"
     },
     "output_type": "display_data"
    }
   ],
   "source": [
    "## Precision-Recall Curve\n",
    "from sklearn.metrics import precision_recall_curve\n",
    "svm_probs = model.predict_proba(X_test)\n",
    "# keep probabilities for the positive outcome only\n",
    "svm_probs = svm_probs[:, 1]\n",
    "y_predict=model.predict(X_test)\n",
    "svm_precision, svm_recall, _ = precision_recall_curve(y_test, svm_probs)\n",
    "# summarize scores\n",
    "print(\"Poly SVM: precision = \",svm_precision)\n",
    "print(\"Poly SVM: recall = \",svm_recall)\n",
    "# plot the precision-recall curves\n",
    "no_skill = len(y_test[y_test==1]) / len(y_test)\n",
    "pyplot.plot([0, 1], [no_skill, no_skill], linestyle='--', label='No Skill')\n",
    "pyplot.plot(svm_recall, svm_precision, marker='.', label='Poly SVM')\n",
    "# axis labels\n",
    "pyplot.xlabel('Recall')\n",
    "pyplot.ylabel('Precision')\n",
    "# show the legend\n",
    "pyplot.legend()\n",
    "# show the plot\n",
    "pyplot.show()"
   ]
  },
  {
   "cell_type": "code",
   "execution_count": 79,
   "metadata": {},
   "outputs": [
    {
     "name": "stdout",
     "output_type": "stream",
     "text": [
      "No Skill: ROC AUC = 0.5\n",
      "Poly SVM : ROC AUC = 0.6962222222222223\n",
      "ns_fpr = [0. 1.]\n",
      "ns_tpr = [0. 1.]\n",
      "poly_svm_fpr = [0.         0.         0.23333333 0.23333333 0.48       0.48\n",
      " 0.51333333 0.51333333 0.7        1.        ]\n",
      "poly_svm_tpr = [0.         0.3        0.3        0.46666667 0.46666667 0.73333333\n",
      " 0.73333333 1.         1.         1.        ]\n"
     ]
    },
    {
     "data": {
      "image/png": "[encoded data removed]",
      "text/plain": [
       "<Figure size 432x288 with 1 Axes>"
      ]
     },
     "metadata": {
      "needs_background": "light"
     },
     "output_type": "display_data"
    }
   ],
   "source": [
    "# ROC AUC Curve\n",
    "from sklearn.metrics import roc_curve,roc_auc_score\n",
    "ns_probs = [0 for _ in range(len(y_test))]\n",
    "ns_auc=roc_auc_score(y_test,ns_probs)\n",
    "svm_auc=roc_auc_score(y_test,svm_probs)\n",
    "print('No Skill: ROC AUC =' ,ns_auc)\n",
    "print('Poly SVM : ROC AUC =',svm_auc)\n",
    "ns_fpr, ns_tpr, _ = roc_curve(y_test, ns_probs)\n",
    "svm_fpr, svm_tpr, _ = roc_curve(y_test, svm_probs)\n",
    "print('ns_fpr =',ns_fpr)\n",
    "print('ns_tpr =',ns_tpr)\n",
    "print('poly_svm_fpr =',svm_fpr)\n",
    "print('poly_svm_tpr =',svm_tpr)\n",
    "# plot the roc curve for the model\n",
    "pyplot.plot(ns_fpr, ns_tpr, linestyle='--', label='No Skill')\n",
    "pyplot.plot(svm_fpr, svm_tpr, marker='.', label='Poly SVM')\n",
    "# axis labels\n",
    "pyplot.xlabel('False Positive Rate')\n",
    "pyplot.ylabel('True Positive Rate')\n",
    "# show the legend\n",
    "pyplot.legend()\n",
    "# show the plot\n",
    "pyplot.show()"
   ]
  },
  {
   "cell_type": "markdown",
   "metadata": {},
   "source": [
    "#### 4. Sigmoid SVM"
   ]
  },
  {
   "cell_type": "code",
   "execution_count": 80,
   "metadata": {},
   "outputs": [
    {
     "name": "stdout",
     "output_type": "stream",
     "text": [
      "Y_Predict = [0 0 0 0 0 0 0 0 0 0 0 0 0 0 0 0 0 0 0 0 0 0 0 0 0 0 0 0 0 0 0 0 0 0 0 0 0\n",
      " 0 0 0 0 0 0 0 0 1 1 1 1 1 0 0 0 0 0 0 0 0 0 0 0 0 0 0 0 0 0 0 0 0 0 0 0 0\n",
      " 0 0 0 0 1 1 1 1 1 1 1 1 1 1 1 1 1 1 1 1 1 1 1 1 1 1 1 1 1 1 1 1 1 1 1 1 1\n",
      " 1 1 1 1 1 1 1 1 1 1 1 1 1 1 1 1 1 1 1 1 1 1 1 1 1 1 1 1 1 1 1 1 1 1 1 1 1\n",
      " 1 1 0 0 0 0 0 0 0 0 0 0 0 0 0 0 0 0 0 0 0 0 0 0 0 0 0 0 0 0 0 0 0 0 0 0 0\n",
      " 0 0 0 0 0 1 1 1 1 1 1 1 1 1 1 1 1 1 1 1 1 1 1 1 1 1 1 1 1 1 1 1 1 1 1 1 1\n",
      " 1 1 1 1 1 1 1 1 1 1 1 1 1 1 1 1 1 1 1 1 1 1 1 1 1 1 1 1 1 1 1 1 1 1 1 1 1\n",
      " 1 1 1 1 1 1 1 1 1 1 1 1 1 1 1 1 1 1 1 1 1 1 1 1 1 1 1 1 1 1 1 1 1 1 1 1 1\n",
      " 1 1 1 1]\n",
      "Accuracy with Kernel sigmoid SVM = 61.0%\n",
      "Precision with Kernel sigmoid SVM = 64.0%\n",
      "Recall with Kernel sigmoid SVM = 61.0%\n",
      "F1_score with Kernel sigmoid SVM = 61.6%\n"
     ]
    },
    {
     "data": {
      "text/html": [
       "<div>\n",
       "<style scoped>\n",
       "    .dataframe tbody tr th:only-of-type {\n",
       "        vertical-align: middle;\n",
       "    }\n",
       "\n",
       "    .dataframe tbody tr th {\n",
       "        vertical-align: top;\n",
       "    }\n",
       "\n",
       "    .dataframe thead th {\n",
       "        text-align: right;\n",
       "    }\n",
       "</style>\n",
       "<table border=\"1\" class=\"dataframe\">\n",
       "  <thead>\n",
       "    <tr style=\"text-align: right;\">\n",
       "      <th>col_0</th>\n",
       "      <th>0</th>\n",
       "      <th>1</th>\n",
       "    </tr>\n",
       "    <tr>\n",
       "      <th>row_0</th>\n",
       "      <th></th>\n",
       "      <th></th>\n",
       "    </tr>\n",
       "  </thead>\n",
       "  <tbody>\n",
       "    <tr>\n",
       "      <th>0</th>\n",
       "      <td>73</td>\n",
       "      <td>40</td>\n",
       "    </tr>\n",
       "    <tr>\n",
       "      <th>1</th>\n",
       "      <td>77</td>\n",
       "      <td>110</td>\n",
       "    </tr>\n",
       "  </tbody>\n",
       "</table>\n",
       "</div>"
      ],
      "text/plain": [
       "col_0   0    1\n",
       "row_0         \n",
       "0      73   40\n",
       "1      77  110"
      ]
     },
     "execution_count": 80,
     "metadata": {},
     "output_type": "execute_result"
    }
   ],
   "source": [
    "# Kernel sigmoid SVM\n",
    "model = SVC(C=0.1,degree=1, random_state=0,gamma='auto', kernel='sigmoid',probability=True)\n",
    "model.fit(X_train, y) \n",
    "y_predict = model.predict(X_test)\n",
    "print(\"Y_Predict =\",y_predict)\n",
    "accuracy = metrics.accuracy_score(y_predict, y_test) * 100\n",
    "print(\"Accuracy with Kernel sigmoid SVM = {0:.1f}%\".format(accuracy))\n",
    "precision = metrics.precision_score(y_predict, y_test,average='weighted') * 100\n",
    "print(\"Precision with Kernel sigmoid SVM = {0:.1f}%\".format(precision))\n",
    "recall = metrics.recall_score(y_predict, y_test,average='weighted') * 100\n",
    "print(\"Recall with Kernel sigmoid SVM = {0:.1f}%\".format(recall))\n",
    "f1_score = metrics.f1_score(y_predict, y_test,average='weighted') * 100\n",
    "print(\"F1_score with Kernel sigmoid SVM = {0:.1f}%\".format(f1_score))\n",
    "pd.crosstab(y_predict,y_test)"
   ]
  },
  {
   "cell_type": "code",
   "execution_count": 81,
   "metadata": {},
   "outputs": [
    {
     "name": "stdout",
     "output_type": "stream",
     "text": [
      "Sigmoid SVM: precision =  [0.66079295 0.58823529 0.6043956  0.49295775 0.66666667 0.5625\n",
      " 1.         1.        ]\n",
      "Sigmoid SVM: recall =  [1.         0.73333333 0.73333333 0.46666667 0.46666667 0.3\n",
      " 0.3        0.        ]\n"
     ]
    },
    {
     "data": {
      "image/png": "[encoded data removed]",
      "text/plain": [
       "<Figure size 432x288 with 1 Axes>"
      ]
     },
     "metadata": {
      "needs_background": "light"
     },
     "output_type": "display_data"
    }
   ],
   "source": [
    "## Precision-Recall Curve\n",
    "from sklearn.metrics import precision_recall_curve\n",
    "svm_probs = model.predict_proba(X_test)\n",
    "# keep probabilities for the positive outcome only\n",
    "svm_probs = svm_probs[:, 1]\n",
    "y_predict=model.predict(X_test)\n",
    "svm_precision, svm_recall, _ = precision_recall_curve(y_test, svm_probs)\n",
    "# summarize scores\n",
    "print(\"Sigmoid SVM: precision = \",svm_precision)\n",
    "print(\"Sigmoid SVM: recall = \",svm_recall)\n",
    "# plot the precision-recall curves\n",
    "no_skill = len(y_test[y_test==1]) / len(y_test)\n",
    "pyplot.plot([0, 1], [no_skill, no_skill], linestyle='--', label='No Skill')\n",
    "pyplot.plot(svm_recall, svm_precision, marker='.', label='Sigmoid SVM')\n",
    "# axis labels\n",
    "pyplot.xlabel('Recall')\n",
    "pyplot.ylabel('Precision')\n",
    "# show the legend\n",
    "pyplot.legend()\n",
    "# show the plot\n",
    "pyplot.show()"
   ]
  },
  {
   "cell_type": "code",
   "execution_count": 82,
   "metadata": {},
   "outputs": [
    {
     "name": "stdout",
     "output_type": "stream",
     "text": [
      "No Skill: ROC AUC = 0.5\n",
      "Sigmoid SVM : ROC AUC = 0.6962222222222223\n",
      "ns_fpr = [0. 1.]\n",
      "ns_tpr = [0. 1.]\n",
      "sigmoid_svm_fpr = [0.         0.         0.23333333 0.23333333 0.48       0.48\n",
      " 0.51333333 0.51333333 0.7        1.        ]\n",
      "sigmoid_svm_tpr = [0.         0.3        0.3        0.46666667 0.46666667 0.73333333\n",
      " 0.73333333 1.         1.         1.        ]\n"
     ]
    },
    {
     "data": {
      "image/png": "[encoded data removed]",
      "text/plain": [
       "<Figure size 432x288 with 1 Axes>"
      ]
     },
     "metadata": {
      "needs_background": "light"
     },
     "output_type": "display_data"
    }
   ],
   "source": [
    "# ROC AUC Curve\n",
    "from sklearn.metrics import roc_curve,roc_auc_score\n",
    "ns_probs = [0 for _ in range(len(y_test))]\n",
    "ns_auc=roc_auc_score(y_test,ns_probs)\n",
    "svm_auc=roc_auc_score(y_test,svm_probs)\n",
    "print('No Skill: ROC AUC =' ,ns_auc)\n",
    "print('Sigmoid SVM : ROC AUC =',svm_auc)\n",
    "ns_fpr, ns_tpr, _ = roc_curve(y_test, ns_probs)\n",
    "svm_fpr, svm_tpr, _ = roc_curve(y_test, svm_probs)\n",
    "print('ns_fpr =',ns_fpr)\n",
    "print('ns_tpr =',ns_tpr)\n",
    "print('sigmoid_svm_fpr =',svm_fpr)\n",
    "print('sigmoid_svm_tpr =',svm_tpr)\n",
    "# plot the roc curve for the model\n",
    "pyplot.plot(ns_fpr, ns_tpr, linestyle='--', label='No Skill')\n",
    "pyplot.plot(svm_fpr, svm_tpr, marker='.', label='Sigmoid SVM')\n",
    "# axis labels\n",
    "pyplot.xlabel('False Positive Rate')\n",
    "pyplot.ylabel('True Positive Rate')\n",
    "# show the legend\n",
    "pyplot.legend()\n",
    "# show the plot\n",
    "pyplot.show()"
   ]
  },
  {
   "cell_type": "markdown",
   "metadata": {},
   "source": [
    "## 2) Using PCA for SVM on the testing data"
   ]
  },
  {
   "cell_type": "code",
   "execution_count": 83,
   "metadata": {},
   "outputs": [],
   "source": [
    "pca = PCA(svd_solver='full',n_components=1)\n",
    "# Convert the X_train data into 2D\n",
    "X_train_2D = pca.fit_transform(X_train)\n",
    "X_test_2D = pca.fit_transform(X_test)"
   ]
  },
  {
   "cell_type": "code",
   "execution_count": 84,
   "metadata": {},
   "outputs": [
    {
     "name": "stdout",
     "output_type": "stream",
     "text": [
      "Y_Predict = [0 0 0 0 0 0 0 0 0 0 0 0 0 0 0 0 0 0 0 0 0 0 0 0 0 0 0 0 0 0 0 0 0 0 0 0 0\n",
      " 0 0 0 0 0 0 0 0 1 1 1 1 1 1 1 1 1 1 1 1 1 1 1 1 1 1 1 1 1 1 1 1 1 1 1 1 1\n",
      " 1 1 1 1 1 1 1 1 1 1 1 1 1 1 1 1 1 1 1 1 1 1 1 1 1 1 1 1 1 1 1 1 1 1 1 1 1\n",
      " 1 1 1 1 1 1 1 1 1 1 1 1 1 1 1 1 1 1 1 1 1 1 1 1 1 1 1 1 1 1 1 1 1 1 1 1 1\n",
      " 1 1 1 1 1 1 1 1 1 1 1 1 1 1 1 1 1 1 1 1 1 1 1 1 1 1 1 1 1 1 1 1 1 1 1 1 1\n",
      " 1 1 1 1 1 1 1 1 1 1 1 1 1 1 1 1 1 1 1 1 1 1 1 1 1 1 1 1 1 1 1 1 1 1 1 1 1\n",
      " 1 1 1 1 1 1 1 1 1 1 1 1 1 1 1 1 1 1 1 1 1 1 1 1 1 1 1 1 1 1 1 1 1 1 1 1 1\n",
      " 1 1 1 1 1 1 1 1 1 1 1 1 1 1 1 1 1 1 1 1 1 1 1 1 1 1 1 1 1 1 1 1 1 1 1 1 1\n",
      " 1 1 1 1]\n",
      "Accuracy with Linear SVM after PCA = 65.0%\n",
      "Precision with Linear SVM after PCA = 89.5%\n",
      "Recall with Linear SVM after PCA = 65.0%\n",
      "F1_score with Linear SVM after PCA = 69.9%\n"
     ]
    },
    {
     "data": {
      "text/html": [
       "<div>\n",
       "<style scoped>\n",
       "    .dataframe tbody tr th:only-of-type {\n",
       "        vertical-align: middle;\n",
       "    }\n",
       "\n",
       "    .dataframe tbody tr th {\n",
       "        vertical-align: top;\n",
       "    }\n",
       "\n",
       "    .dataframe thead th {\n",
       "        text-align: right;\n",
       "    }\n",
       "</style>\n",
       "<table border=\"1\" class=\"dataframe\">\n",
       "  <thead>\n",
       "    <tr style=\"text-align: right;\">\n",
       "      <th>col_0</th>\n",
       "      <th>0</th>\n",
       "      <th>1</th>\n",
       "    </tr>\n",
       "    <tr>\n",
       "      <th>row_0</th>\n",
       "      <th></th>\n",
       "      <th></th>\n",
       "    </tr>\n",
       "  </thead>\n",
       "  <tbody>\n",
       "    <tr>\n",
       "      <th>0</th>\n",
       "      <td>45</td>\n",
       "      <td>0</td>\n",
       "    </tr>\n",
       "    <tr>\n",
       "      <th>1</th>\n",
       "      <td>105</td>\n",
       "      <td>150</td>\n",
       "    </tr>\n",
       "  </tbody>\n",
       "</table>\n",
       "</div>"
      ],
      "text/plain": [
       "col_0    0    1\n",
       "row_0          \n",
       "0       45    0\n",
       "1      105  150"
      ]
     },
     "execution_count": 84,
     "metadata": {},
     "output_type": "execute_result"
    }
   ],
   "source": [
    "# Linear SVM\n",
    "model = SVC(C=0.1,degree=1, random_state=0,gamma='auto', kernel='linear',probability=True)\n",
    "model.fit(X_train_2D, y_train) \n",
    "y_predict_2D = model.predict(X_test_2D)\n",
    "print(\"Y_Predict =\",y_predict_2D)\n",
    "accuracy = metrics.accuracy_score(y_predict_2D, y_test) * 100\n",
    "print(\"Accuracy with Linear SVM after PCA = {0:.1f}%\".format(accuracy))\n",
    "precision = metrics.precision_score(y_predict_2D, y_test,average='weighted') * 100\n",
    "print(\"Precision with Linear SVM after PCA = {0:.1f}%\".format(precision))\n",
    "recall = metrics.recall_score(y_predict_2D, y_test,average='weighted') * 100\n",
    "print(\"Recall with Linear SVM after PCA = {0:.1f}%\".format(recall))\n",
    "f1_score = metrics.f1_score(y_predict_2D, y_test,average='weighted') * 100\n",
    "print(\"F1_score with Linear SVM after PCA = {0:.1f}%\".format(f1_score))\n",
    "pd.crosstab(y_predict_2D,y_test)"
   ]
  },
  {
   "cell_type": "code",
   "execution_count": 85,
   "metadata": {},
   "outputs": [
    {
     "name": "stdout",
     "output_type": "stream",
     "text": [
      "Y_Predict = [0 0 0 0 0 0 0 0 0 0 0 0 0 0 0 0 0 0 0 0 0 0 0 0 0 0 0 0 0 0 0 0 0 0 0 0 0\n",
      " 0 0 0 0 0 0 0 0 0 0 0 0 0 0 0 0 0 0 0 0 0 0 0 0 0 0 0 0 0 0 0 0 0 0 0 0 0\n",
      " 0 0 0 0 0 0 0 0 0 0 0 0 0 0 0 0 0 0 0 0 0 0 0 0 0 0 0 0 0 0 0 0 0 0 0 0 0\n",
      " 0 0 0 0 0 0 0 0 0 0 0 0 0 0 0 0 0 0 0 0 0 0 0 0 0 0 0 0 0 0 0 0 0 0 0 0 0\n",
      " 0 0 0 0 0 0 0 0 0 0 0 0 0 0 0 0 0 0 0 0 0 0 0 0 0 0 0 0 0 0 0 0 0 0 0 0 0\n",
      " 0 0 0 0 0 0 0 0 0 0 0 0 0 0 0 0 0 0 0 0 0 0 0 0 0 0 0 0 0 0 0 0 0 0 0 0 0\n",
      " 0 0 0 0 0 0 0 0 0 0 0 0 0 0 0 0 0 0 0 0 0 0 0 0 0 0 0 0 0 0 0 0 0 0 0 0 0\n",
      " 0 0 0 0 0 0 0 0 0 0 0 0 0 0 0 0 0 0 0 0 0 0 0 0 0 0 0 0 0 0 0 0 0 0 0 0 0\n",
      " 0 0 0 0]\n",
      "Accuracy with Kernel RBF SVM after PCA = 50.0%\n",
      "Precision with Kernel RBF SVM after PCA = 100.0%\n",
      "Recall with Kernel RBF SVM after PCA = 50.0%\n",
      "F1_score with Kernel RBF SVM after PCA = 66.7%\n"
     ]
    },
    {
     "data": {
      "text/html": [
       "<div>\n",
       "<style scoped>\n",
       "    .dataframe tbody tr th:only-of-type {\n",
       "        vertical-align: middle;\n",
       "    }\n",
       "\n",
       "    .dataframe tbody tr th {\n",
       "        vertical-align: top;\n",
       "    }\n",
       "\n",
       "    .dataframe thead th {\n",
       "        text-align: right;\n",
       "    }\n",
       "</style>\n",
       "<table border=\"1\" class=\"dataframe\">\n",
       "  <thead>\n",
       "    <tr style=\"text-align: right;\">\n",
       "      <th>col_0</th>\n",
       "      <th>0</th>\n",
       "      <th>1</th>\n",
       "    </tr>\n",
       "    <tr>\n",
       "      <th>row_0</th>\n",
       "      <th></th>\n",
       "      <th></th>\n",
       "    </tr>\n",
       "  </thead>\n",
       "  <tbody>\n",
       "    <tr>\n",
       "      <th>0</th>\n",
       "      <td>150</td>\n",
       "      <td>150</td>\n",
       "    </tr>\n",
       "  </tbody>\n",
       "</table>\n",
       "</div>"
      ],
      "text/plain": [
       "col_0    0    1\n",
       "row_0          \n",
       "0      150  150"
      ]
     },
     "execution_count": 85,
     "metadata": {},
     "output_type": "execute_result"
    }
   ],
   "source": [
    "# Kernel RBF SVM\n",
    "model = SVC(C=0.1,degree=1, random_state=0,gamma='auto', kernel='rbf',probability=True)\n",
    "model.fit(X_train_2D, y_train) \n",
    "y_predict_2D = model.predict(X_test_2D)\n",
    "print(\"Y_Predict =\",y_predict_2D)\n",
    "accuracy = metrics.accuracy_score(y_predict_2D, y_test) * 100\n",
    "print(\"Accuracy with Kernel RBF SVM after PCA = {0:.1f}%\".format(accuracy))\n",
    "precision = metrics.precision_score(y_predict_2D, y_test,average='weighted') * 100\n",
    "print(\"Precision with Kernel RBF SVM after PCA = {0:.1f}%\".format(precision))\n",
    "recall = metrics.recall_score(y_predict_2D, y_test,average='weighted') * 100\n",
    "print(\"Recall with Kernel RBF SVM after PCA = {0:.1f}%\".format(recall))\n",
    "f1_score = metrics.f1_score(y_predict_2D, y_test,average='weighted') * 100\n",
    "print(\"F1_score with Kernel RBF SVM after PCA = {0:.1f}%\".format(f1_score))\n",
    "pd.crosstab(y_predict_2D,y_test)"
   ]
  },
  {
   "cell_type": "code",
   "execution_count": 86,
   "metadata": {},
   "outputs": [
    {
     "name": "stdout",
     "output_type": "stream",
     "text": [
      "Y_Predict = [0 0 0 0 0 0 0 0 0 0 0 0 0 0 0 0 0 0 0 0 0 0 0 0 0 0 0 0 0 0 0 0 0 0 0 0 0\n",
      " 0 0 0 0 0 0 0 0 1 1 1 1 1 1 1 1 1 1 1 1 1 1 1 1 1 1 1 1 1 1 1 1 1 1 1 1 1\n",
      " 1 1 1 1 1 1 1 1 1 1 1 1 1 1 1 1 1 1 1 1 1 1 1 1 1 1 1 1 1 1 1 1 1 1 1 1 1\n",
      " 1 1 1 1 1 1 1 1 1 1 1 1 1 1 1 1 1 1 1 1 1 1 1 1 1 1 1 1 1 1 1 1 1 1 1 1 1\n",
      " 1 1 1 1 1 1 1 1 1 1 1 1 1 1 1 1 1 1 1 1 1 1 1 1 1 1 1 1 1 1 1 1 1 1 1 1 1\n",
      " 1 1 1 1 1 1 1 1 1 1 1 1 1 1 1 1 1 1 1 1 1 1 1 1 1 1 1 1 1 1 1 1 1 1 1 1 1\n",
      " 1 1 1 1 1 1 1 1 1 1 1 1 1 1 1 1 1 1 1 1 1 1 1 1 1 1 1 1 1 1 1 1 1 1 1 1 1\n",
      " 1 1 1 1 1 1 1 1 1 1 1 1 1 1 1 1 1 1 1 1 1 1 1 1 1 1 1 1 1 1 1 1 1 1 1 1 1\n",
      " 1 1 1 1]\n",
      "Accuracy with Kernel poly SVM after PCA = 65.0%\n",
      "Precision with Kernel poly SVM after PCA = 89.5%\n",
      "Recall with Kernel poly SVM after PCA = 65.0%\n",
      "F1_score with Kernel poly SVM after PCA = 69.9%\n"
     ]
    },
    {
     "data": {
      "text/html": [
       "<div>\n",
       "<style scoped>\n",
       "    .dataframe tbody tr th:only-of-type {\n",
       "        vertical-align: middle;\n",
       "    }\n",
       "\n",
       "    .dataframe tbody tr th {\n",
       "        vertical-align: top;\n",
       "    }\n",
       "\n",
       "    .dataframe thead th {\n",
       "        text-align: right;\n",
       "    }\n",
       "</style>\n",
       "<table border=\"1\" class=\"dataframe\">\n",
       "  <thead>\n",
       "    <tr style=\"text-align: right;\">\n",
       "      <th>col_0</th>\n",
       "      <th>0</th>\n",
       "      <th>1</th>\n",
       "    </tr>\n",
       "    <tr>\n",
       "      <th>row_0</th>\n",
       "      <th></th>\n",
       "      <th></th>\n",
       "    </tr>\n",
       "  </thead>\n",
       "  <tbody>\n",
       "    <tr>\n",
       "      <th>0</th>\n",
       "      <td>45</td>\n",
       "      <td>0</td>\n",
       "    </tr>\n",
       "    <tr>\n",
       "      <th>1</th>\n",
       "      <td>105</td>\n",
       "      <td>150</td>\n",
       "    </tr>\n",
       "  </tbody>\n",
       "</table>\n",
       "</div>"
      ],
      "text/plain": [
       "col_0    0    1\n",
       "row_0          \n",
       "0       45    0\n",
       "1      105  150"
      ]
     },
     "execution_count": 86,
     "metadata": {},
     "output_type": "execute_result"
    }
   ],
   "source": [
    "# Kernel poly SVM\n",
    "model = SVC(C=0.1,degree=1, random_state=0,gamma='auto', kernel='poly',probability=True)\n",
    "model.fit(X_train_2D, y_train) \n",
    "y_predict_2D = model.predict(X_test_2D)\n",
    "print(\"Y_Predict =\",y_predict_2D)\n",
    "accuracy = metrics.accuracy_score(y_predict_2D, y_test) * 100\n",
    "print(\"Accuracy with Kernel poly SVM after PCA = {0:.1f}%\".format(accuracy))\n",
    "precision = metrics.precision_score(y_predict_2D, y_test,average='weighted') * 100\n",
    "print(\"Precision with Kernel poly SVM after PCA = {0:.1f}%\".format(precision))\n",
    "recall = metrics.recall_score(y_predict_2D, y_test,average='weighted') * 100\n",
    "print(\"Recall with Kernel poly SVM after PCA = {0:.1f}%\".format(recall))\n",
    "f1_score = metrics.f1_score(y_predict_2D, y_test,average='weighted') * 100\n",
    "print(\"F1_score with Kernel poly SVM after PCA = {0:.1f}%\".format(f1_score))\n",
    "pd.crosstab(y_predict_2D,y_test)"
   ]
  },
  {
   "cell_type": "code",
   "execution_count": 87,
   "metadata": {},
   "outputs": [
    {
     "name": "stdout",
     "output_type": "stream",
     "text": [
      "Y_Predict = [0 0 0 0 0 0 0 0 0 0 0 0 0 0 0 0 0 0 0 0 0 0 0 0 0 0 0 0 0 0 0 0 0 0 0 0 0\n",
      " 0 0 0 0 0 0 0 0 1 1 1 1 1 1 1 1 1 1 1 1 1 1 1 1 1 1 1 1 1 1 1 1 1 1 1 1 1\n",
      " 1 1 1 1 1 1 1 1 1 1 1 1 1 1 1 1 1 1 1 1 1 1 1 1 1 1 1 1 1 1 1 1 1 1 1 1 1\n",
      " 1 1 1 1 1 1 1 1 1 1 1 1 1 1 1 1 1 1 1 1 1 1 1 1 1 1 1 1 1 1 1 1 1 1 1 1 1\n",
      " 1 1 0 0 0 0 0 0 0 0 0 0 0 0 0 0 0 0 0 0 0 0 0 0 0 0 0 0 0 0 0 0 0 0 0 0 0\n",
      " 0 0 0 0 0 1 1 1 1 1 1 1 1 1 1 1 1 1 1 1 1 1 1 1 1 1 1 1 1 1 1 1 1 1 1 1 1\n",
      " 1 1 1 1 1 1 1 1 1 1 1 1 1 1 1 1 1 1 1 1 1 1 1 1 1 1 1 1 1 1 1 1 1 1 1 1 1\n",
      " 1 1 1 1 1 1 1 1 1 1 1 1 1 1 1 1 1 1 1 1 1 1 1 1 1 1 1 1 1 1 1 1 1 1 1 1 1\n",
      " 1 1 1 1]\n",
      "Accuracy with Kernel sigmoid SVM after PCA = 51.7%\n",
      "Precision with Kernel sigmoid SVM after PCA = 61.1%\n",
      "Recall with Kernel sigmoid SVM after PCA = 51.7%\n",
      "F1_score with Kernel sigmoid SVM after PCA = 54.0%\n"
     ]
    },
    {
     "data": {
      "text/html": [
       "<div>\n",
       "<style scoped>\n",
       "    .dataframe tbody tr th:only-of-type {\n",
       "        vertical-align: middle;\n",
       "    }\n",
       "\n",
       "    .dataframe tbody tr th {\n",
       "        vertical-align: top;\n",
       "    }\n",
       "\n",
       "    .dataframe thead th {\n",
       "        text-align: right;\n",
       "    }\n",
       "</style>\n",
       "<table border=\"1\" class=\"dataframe\">\n",
       "  <thead>\n",
       "    <tr style=\"text-align: right;\">\n",
       "      <th>col_0</th>\n",
       "      <th>0</th>\n",
       "      <th>1</th>\n",
       "    </tr>\n",
       "    <tr>\n",
       "      <th>row_0</th>\n",
       "      <th></th>\n",
       "      <th></th>\n",
       "    </tr>\n",
       "  </thead>\n",
       "  <tbody>\n",
       "    <tr>\n",
       "      <th>0</th>\n",
       "      <td>45</td>\n",
       "      <td>40</td>\n",
       "    </tr>\n",
       "    <tr>\n",
       "      <th>1</th>\n",
       "      <td>105</td>\n",
       "      <td>110</td>\n",
       "    </tr>\n",
       "  </tbody>\n",
       "</table>\n",
       "</div>"
      ],
      "text/plain": [
       "col_0    0    1\n",
       "row_0          \n",
       "0       45   40\n",
       "1      105  110"
      ]
     },
     "execution_count": 87,
     "metadata": {},
     "output_type": "execute_result"
    }
   ],
   "source": [
    "# Kernel sigmoid SVM\n",
    "model = SVC(C=0.1,degree=1, random_state=0,gamma='auto', kernel='sigmoid',probability=True)\n",
    "model.fit(X_train_2D, y_train) \n",
    "y_predict_2D = model.predict(X_test_2D)\n",
    "print(\"Y_Predict =\",y_predict_2D)\n",
    "accuracy = metrics.accuracy_score(y_predict_2D, y_test) * 100\n",
    "print(\"Accuracy with Kernel sigmoid SVM after PCA = {0:.1f}%\".format(accuracy))\n",
    "precision = metrics.precision_score(y_predict_2D, y_test,average='weighted') * 100\n",
    "print(\"Precision with Kernel sigmoid SVM after PCA = {0:.1f}%\".format(precision))\n",
    "recall = metrics.recall_score(y_predict_2D, y_test,average='weighted') * 100\n",
    "print(\"Recall with Kernel sigmoid SVM after PCA = {0:.1f}%\".format(recall))\n",
    "f1_score = metrics.f1_score(y_predict_2D, y_test,average='weighted') * 100\n",
    "print(\"F1_score with Kernel sigmoid SVM after PCA = {0:.1f}%\".format(f1_score))\n",
    "pd.crosstab(y_predict_2D,y_test)"
   ]
  },
  {
   "cell_type": "markdown",
   "metadata": {},
   "source": [
    "## 3) Using K-NN on the testing data "
   ]
  },
  {
   "cell_type": "code",
   "execution_count": 88,
   "metadata": {},
   "outputs": [
    {
     "name": "stdout",
     "output_type": "stream",
     "text": [
      "Y_Predict = [0 0 0 0 0 0 0 0 0 0 0 0 0 0 0 0 0 0 0 0 0 0 0 0 0 0 0 0 0 0 0 0 0 0 0 0 0\n",
      " 0 0 0 0 0 0 0 0 0 0 0 0 0 0 0 0 0 0 0 0 0 0 0 0 0 0 0 0 0 0 0 0 0 0 0 0 0\n",
      " 0 0 0 0 0 0 0 0 0 0 0 0 0 0 0 0 0 0 0 0 0 0 0 0 0 0 0 0 0 0 0 0 0 0 0 0 0\n",
      " 0 0 0 0 0 0 0 0 0 0 0 0 0 0 0 0 0 0 0 0 0 0 0 0 0 0 0 0 0 0 0 0 0 0 0 0 0\n",
      " 0 0 0 0 0 0 0 0 0 0 0 0 0 0 0 0 0 0 0 0 0 0 0 0 0 0 0 0 0 0 0 0 0 0 0 0 0\n",
      " 0 0 0 0 0 0 0 0 0 0 0 0 0 0 0 0 0 0 0 0 0 0 0 0 0 0 0 0 0 0 0 0 0 0 0 0 0\n",
      " 0 0 0 0 0 0 0 0 1 1 1 1 1 1 1 1 1 1 1 1 1 1 1 1 1 1 1 1 1 1 1 1 1 1 1 1 1\n",
      " 1 1 1 1 1 1 1 1 1 1 1 1 1 1 1 1 1 1 1 1 1 1 1 1 1 1 1 1 1 1 1 1 1 1 1 1 1\n",
      " 1 1 1 1]\n",
      "Accuracy with K-NN = 73.3%\n",
      "Precision with K-NN = 87.6%\n",
      "Recall with K-NN = 73.3%\n",
      "F1_score with K-NN = 75.4%\n"
     ]
    },
    {
     "data": {
      "text/html": [
       "<div>\n",
       "<style scoped>\n",
       "    .dataframe tbody tr th:only-of-type {\n",
       "        vertical-align: middle;\n",
       "    }\n",
       "\n",
       "    .dataframe tbody tr th {\n",
       "        vertical-align: top;\n",
       "    }\n",
       "\n",
       "    .dataframe thead th {\n",
       "        text-align: right;\n",
       "    }\n",
       "</style>\n",
       "<table border=\"1\" class=\"dataframe\">\n",
       "  <thead>\n",
       "    <tr style=\"text-align: right;\">\n",
       "      <th>col_0</th>\n",
       "      <th>0</th>\n",
       "      <th>1</th>\n",
       "    </tr>\n",
       "    <tr>\n",
       "      <th>row_0</th>\n",
       "      <th></th>\n",
       "      <th></th>\n",
       "    </tr>\n",
       "  </thead>\n",
       "  <tbody>\n",
       "    <tr>\n",
       "      <th>0</th>\n",
       "      <td>150</td>\n",
       "      <td>80</td>\n",
       "    </tr>\n",
       "    <tr>\n",
       "      <th>1</th>\n",
       "      <td>0</td>\n",
       "      <td>70</td>\n",
       "    </tr>\n",
       "  </tbody>\n",
       "</table>\n",
       "</div>"
      ],
      "text/plain": [
       "col_0    0   1\n",
       "row_0         \n",
       "0      150  80\n",
       "1        0  70"
      ]
     },
     "execution_count": 88,
     "metadata": {},
     "output_type": "execute_result"
    }
   ],
   "source": [
    "# K-NN\n",
    "model = KNeighborsClassifier(n_neighbors=1,weights='uniform',metric='minkowski')\n",
    "model.fit(X_train, y) \n",
    "y_predict = model.predict(X_test)\n",
    "print(\"Y_Predict =\",y_predict)\n",
    "accuracy = metrics.accuracy_score(y_predict, y_test) * 100\n",
    "print(\"Accuracy with K-NN = {0:.1f}%\".format(accuracy))\n",
    "precision = metrics.precision_score(y_predict, y_test,average='weighted') * 100\n",
    "print(\"Precision with K-NN = {0:.1f}%\".format(precision))\n",
    "recall = metrics.recall_score(y_predict, y_test,average='weighted') * 100\n",
    "print(\"Recall with K-NN = {0:.1f}%\".format(recall))\n",
    "f1_score = metrics.f1_score(y_predict, y_test,average='weighted') * 100\n",
    "print(\"F1_score with K-NN = {0:.1f}%\".format(f1_score))\n",
    "pd.crosstab(y_predict,y_test)"
   ]
  },
  {
   "cell_type": "code",
   "execution_count": 89,
   "metadata": {},
   "outputs": [
    {
     "name": "stdout",
     "output_type": "stream",
     "text": [
      "KNN: precision =  [0.5 1.  1. ]\n",
      "KNN: recall =  [1.         0.46666667 0.        ]\n"
     ]
    },
    {
     "data": {
      "image/png": "[encoded data removed]",
      "text/plain": [
       "<Figure size 432x288 with 1 Axes>"
      ]
     },
     "metadata": {
      "needs_background": "light"
     },
     "output_type": "display_data"
    }
   ],
   "source": [
    "## Precision-Recall Curve\n",
    "from sklearn.metrics import precision_recall_curve\n",
    "knn_probs = model.predict_proba(X_test)\n",
    "# keep probabilities for the positive outcome only\n",
    "knn_probs = knn_probs[:, 1]\n",
    "y_predict=model.predict(X_test)\n",
    "knn_precision, knn_recall, _ = precision_recall_curve(y_test, knn_probs)\n",
    "# summarize scores\n",
    "print(\"KNN: precision = \",knn_precision)\n",
    "print(\"KNN: recall = \",knn_recall)\n",
    "# plot the precision-recall curves\n",
    "no_skill = len(y_test[y_test==1]) / len(y_test)\n",
    "pyplot.plot([0, 1], [no_skill, no_skill], linestyle='--', label='No Skill')\n",
    "pyplot.plot(knn_recall, knn_precision, marker='.', label='KNN')\n",
    "# axis labels\n",
    "pyplot.xlabel('Recall')\n",
    "pyplot.ylabel('Precision')\n",
    "# show the legend\n",
    "pyplot.legend()\n",
    "# show the plot\n",
    "pyplot.show()"
   ]
  },
  {
   "cell_type": "code",
   "execution_count": 90,
   "metadata": {},
   "outputs": [
    {
     "name": "stdout",
     "output_type": "stream",
     "text": [
      "No Skill: ROC AUC = 0.5\n",
      "KNN : ROC AUC = 0.7333333333333334\n",
      "ns_fpr = [0. 1.]\n",
      "ns_tpr = [0. 1.]\n",
      "knn_fpr = [0. 0. 1.]\n",
      "knn_tpr = [0. 0. 1.]\n"
     ]
    },
    {
     "data": {
      "image/png": "[encoded data removed]",
      "text/plain": [
       "<Figure size 432x288 with 1 Axes>"
      ]
     },
     "metadata": {
      "needs_background": "light"
     },
     "output_type": "display_data"
    }
   ],
   "source": [
    "# ROC AUC Curve\n",
    "from sklearn.metrics import roc_curve,roc_auc_score\n",
    "ns_probs = [0 for _ in range(len(y_test))]\n",
    "ns_auc=roc_auc_score(y_test,ns_probs)\n",
    "knn_auc=roc_auc_score(y_test,knn_probs)\n",
    "print('No Skill: ROC AUC =' ,ns_auc)\n",
    "print('KNN : ROC AUC =',knn_auc)\n",
    "ns_fpr, ns_tpr, _ = roc_curve(y_test, ns_probs)\n",
    "knn_fpr, knn_tpr, _ = roc_curve(y_test, knn_probs)\n",
    "print('ns_fpr =',ns_fpr)\n",
    "print('ns_tpr =',ns_tpr)\n",
    "print('knn_fpr =',knn_fpr)\n",
    "print('knn_tpr =',knn_fpr)\n",
    "# plot the roc curve for the model\n",
    "pyplot.plot(ns_fpr, ns_tpr, linestyle='--', label='No Skill')\n",
    "pyplot.plot(knn_fpr, knn_fpr, marker='.', label='KNN')\n",
    "# axis labels\n",
    "pyplot.xlabel('False Positive Rate')\n",
    "pyplot.ylabel('True Positive Rate')\n",
    "# show the legend\n",
    "pyplot.legend()\n",
    "# show the plot\n",
    "pyplot.show()"
   ]
  },
  {
   "cell_type": "markdown",
   "metadata": {},
   "source": [
    "## 4) Using PCA for K-NN on the testing data"
   ]
  },
  {
   "cell_type": "code",
   "execution_count": 91,
   "metadata": {},
   "outputs": [
    {
     "name": "stdout",
     "output_type": "stream",
     "text": [
      "Y_Predict = [0 0 0 0 0 0 0 0 0 0 0 0 0 0 0 0 0 0 0 0 0 0 0 0 0 0 0 0 0 0 0 0 0 0 0 0 0\n",
      " 0 0 0 0 0 0 0 0 0 0 0 0 0 0 0 0 0 0 0 0 0 0 0 0 0 0 0 0 0 0 0 0 0 0 0 0 0\n",
      " 0 0 0 0 0 0 0 0 0 0 0 0 0 0 0 0 0 0 0 0 0 0 0 0 0 0 0 0 0 0 0 0 0 0 0 0 0\n",
      " 0 0 0 0 0 0 0 0 0 0 0 0 0 0 0 0 0 0 0 0 0 0 0 0 0 0 0 0 0 0 0 0 0 0 0 0 0\n",
      " 0 0 1 1 1 1 1 1 1 1 1 1 1 1 1 1 1 1 1 1 1 1 1 1 1 1 1 1 1 1 1 1 1 1 1 1 1\n",
      " 1 1 1 1 1 1 1 1 1 1 1 1 1 1 1 1 1 1 1 1 1 1 1 1 1 1 1 1 1 1 1 1 1 1 1 1 1\n",
      " 1 1 1 1 1 1 1 1 0 0 0 0 0 0 0 0 0 0 0 0 0 0 0 0 0 0 0 0 0 0 0 0 0 0 0 0 0\n",
      " 0 0 0 0 0 0 0 0 0 0 0 0 0 0 0 0 0 0 0 0 0 0 0 0 0 0 0 0 0 0 0 0 0 0 0 0 0\n",
      " 0 0 0 0]\n",
      "Accuracy with K-NN after PCA = 76.7%\n",
      "Precision with K-NN after PCA = 87.6%\n",
      "Recall with K-NN after PCA = 76.7%\n",
      "F1_score with K-NN after PCA = 78.0%\n"
     ]
    },
    {
     "data": {
      "text/html": [
       "<div>\n",
       "<style scoped>\n",
       "    .dataframe tbody tr th:only-of-type {\n",
       "        vertical-align: middle;\n",
       "    }\n",
       "\n",
       "    .dataframe tbody tr th {\n",
       "        vertical-align: top;\n",
       "    }\n",
       "\n",
       "    .dataframe thead th {\n",
       "        text-align: right;\n",
       "    }\n",
       "</style>\n",
       "<table border=\"1\" class=\"dataframe\">\n",
       "  <thead>\n",
       "    <tr style=\"text-align: right;\">\n",
       "      <th>col_0</th>\n",
       "      <th>0</th>\n",
       "      <th>1</th>\n",
       "    </tr>\n",
       "    <tr>\n",
       "      <th>row_0</th>\n",
       "      <th></th>\n",
       "      <th></th>\n",
       "    </tr>\n",
       "  </thead>\n",
       "  <tbody>\n",
       "    <tr>\n",
       "      <th>0</th>\n",
       "      <td>150</td>\n",
       "      <td>70</td>\n",
       "    </tr>\n",
       "    <tr>\n",
       "      <th>1</th>\n",
       "      <td>0</td>\n",
       "      <td>80</td>\n",
       "    </tr>\n",
       "  </tbody>\n",
       "</table>\n",
       "</div>"
      ],
      "text/plain": [
       "col_0    0   1\n",
       "row_0         \n",
       "0      150  70\n",
       "1        0  80"
      ]
     },
     "execution_count": 91,
     "metadata": {},
     "output_type": "execute_result"
    }
   ],
   "source": [
    "model = KNeighborsClassifier(n_neighbors=1,weights='uniform',metric='minkowski')\n",
    "model.fit(X_train_2D, y_train) \n",
    "y_predict_2D = model.predict(X_test_2D)\n",
    "print(\"Y_Predict =\",y_predict_2D)\n",
    "accuracy = metrics.accuracy_score(y_predict_2D, y_test) * 100\n",
    "print(\"Accuracy with K-NN after PCA = {0:.1f}%\".format(accuracy))\n",
    "precision = metrics.precision_score(y_predict_2D, y_test,average='weighted') * 100\n",
    "print(\"Precision with K-NN after PCA = {0:.1f}%\".format(precision))\n",
    "recall = metrics.recall_score(y_predict_2D, y_test,average='weighted') * 100\n",
    "print(\"Recall with K-NN after PCA = {0:.1f}%\".format(recall))\n",
    "f1_score = metrics.f1_score(y_predict_2D, y_test,average='weighted') * 100\n",
    "print(\"F1_score with K-NN after PCA = {0:.1f}%\".format(f1_score))\n",
    "pd.crosstab(y_predict_2D,y_test)"
   ]
  },
  {
   "cell_type": "markdown",
   "metadata": {},
   "source": [
    "## 5) Using Logistic Regression on the testing data"
   ]
  },
  {
   "cell_type": "code",
   "execution_count": 92,
   "metadata": {},
   "outputs": [
    {
     "name": "stdout",
     "output_type": "stream",
     "text": [
      "Y_Predict = [0 0 0 0 0 0 0 0 0 0 0 0 0 0 0 0 0 0 0 0 0 0 0 0 0 0 0 0 0 0 0 0 0 0 0 0 0\n",
      " 0 0 0 0 0 0 0 0 0 0 0 0 0 0 0 0 0 0 0 0 0 0 0 0 0 0 0 0 0 0 0 0 0 0 0 0 0\n",
      " 0 0 0 0 0 0 0 0 0 0 0 0 0 0 0 0 0 0 0 0 0 0 0 0 0 0 0 0 0 0 0 0 0 0 0 0 0\n",
      " 0 0 0 0 0 0 0 0 0 0 0 0 0 0 0 0 0 0 0 0 0 0 0 0 0 0 0 0 0 0 0 0 0 0 0 0 0\n",
      " 0 0 0 0 0 0 0 0 0 0 0 0 0 0 0 0 0 0 0 0 0 0 0 0 0 0 0 0 0 0 0 0 0 0 0 0 0\n",
      " 0 0 0 0 0 0 0 0 0 0 0 0 0 0 0 0 0 0 0 0 0 0 0 0 0 0 0 0 0 0 0 0 0 0 0 0 0\n",
      " 0 0 0 0 0 0 0 0 1 1 1 1 1 1 1 1 1 1 1 1 1 1 1 1 1 1 1 1 1 1 1 1 1 1 1 1 1\n",
      " 1 1 1 1 1 1 1 1 1 1 1 1 1 1 1 1 1 1 1 1 1 1 1 1 1 1 1 1 1 1 1 1 1 1 1 1 1\n",
      " 1 1 1 1]\n",
      "Accuracy with Logistic Regression = 73.3%\n",
      "Precision with Logistic Regression = 87.6%\n",
      "Recall with Logistic Regression = 73.3%\n",
      "F1_score with Logistic Regression = 75.4%\n"
     ]
    },
    {
     "data": {
      "text/html": [
       "<div>\n",
       "<style scoped>\n",
       "    .dataframe tbody tr th:only-of-type {\n",
       "        vertical-align: middle;\n",
       "    }\n",
       "\n",
       "    .dataframe tbody tr th {\n",
       "        vertical-align: top;\n",
       "    }\n",
       "\n",
       "    .dataframe thead th {\n",
       "        text-align: right;\n",
       "    }\n",
       "</style>\n",
       "<table border=\"1\" class=\"dataframe\">\n",
       "  <thead>\n",
       "    <tr style=\"text-align: right;\">\n",
       "      <th>col_0</th>\n",
       "      <th>0</th>\n",
       "      <th>1</th>\n",
       "    </tr>\n",
       "    <tr>\n",
       "      <th>row_0</th>\n",
       "      <th></th>\n",
       "      <th></th>\n",
       "    </tr>\n",
       "  </thead>\n",
       "  <tbody>\n",
       "    <tr>\n",
       "      <th>0</th>\n",
       "      <td>150</td>\n",
       "      <td>80</td>\n",
       "    </tr>\n",
       "    <tr>\n",
       "      <th>1</th>\n",
       "      <td>0</td>\n",
       "      <td>70</td>\n",
       "    </tr>\n",
       "  </tbody>\n",
       "</table>\n",
       "</div>"
      ],
      "text/plain": [
       "col_0    0   1\n",
       "row_0         \n",
       "0      150  80\n",
       "1        0  70"
      ]
     },
     "execution_count": 92,
     "metadata": {},
     "output_type": "execute_result"
    }
   ],
   "source": [
    "model = LogisticRegression()\n",
    "model.fit(X_train, y) \n",
    "y_predict = model.predict(X_test)\n",
    "print(\"Y_Predict =\",y_predict)\n",
    "accuracy = metrics.accuracy_score(y_predict, y_test) * 100\n",
    "print(\"Accuracy with Logistic Regression = {0:.1f}%\".format(accuracy))\n",
    "precision = metrics.precision_score(y_predict, y_test,average='weighted') * 100\n",
    "print(\"Precision with Logistic Regression = {0:.1f}%\".format(precision))\n",
    "recall = metrics.recall_score(y_predict, y_test,average='weighted') * 100\n",
    "print(\"Recall with Logistic Regression = {0:.1f}%\".format(recall))\n",
    "f1_score = metrics.f1_score(y_predict, y_test,average='weighted') * 100\n",
    "print(\"F1_score with Logistic Regression = {0:.1f}%\".format(f1_score))\n",
    "pd.crosstab(y_predict,y_test)"
   ]
  },
  {
   "cell_type": "code",
   "execution_count": 93,
   "metadata": {},
   "outputs": [
    {
     "name": "stdout",
     "output_type": "stream",
     "text": [
      "LR: precision =  [1. 1. 1. 1. 1.]\n",
      "LR: recall =  [1.         0.73333333 0.46666667 0.3        0.        ]\n"
     ]
    },
    {
     "data": {
      "image/png": "[encoded data removed]",
      "text/plain": [
       "<Figure size 432x288 with 1 Axes>"
      ]
     },
     "metadata": {
      "needs_background": "light"
     },
     "output_type": "display_data"
    }
   ],
   "source": [
    "## Precision-Recall Curve\n",
    "from sklearn.metrics import precision_recall_curve\n",
    "lr_probs = model.predict_proba(X_test)\n",
    "# keep probabilities for the positive outcome only\n",
    "lr_probs = lr_probs[:, 1]\n",
    "y_predict=model.predict(X_test)\n",
    "lr_precision, lr_recall, _ = precision_recall_curve(y_test, lr_probs)\n",
    "# summarize scores\n",
    "print(\"LR: precision = \",lr_precision)\n",
    "print(\"LR: recall = \",lr_recall)\n",
    "# plot the precision-recall curves\n",
    "no_skill = len(y_test[y_test==1]) / len(y_test)\n",
    "pyplot.plot([0, 1], [no_skill, no_skill], linestyle='--', label='No Skill')\n",
    "pyplot.plot(lr_recall, lr_precision, marker='.', label='LR')\n",
    "# axis labels\n",
    "pyplot.xlabel('Recall')\n",
    "pyplot.ylabel('Precision')\n",
    "# show the legend\n",
    "pyplot.legend()\n",
    "# show the plot\n",
    "pyplot.show()"
   ]
  },
  {
   "cell_type": "code",
   "execution_count": 94,
   "metadata": {},
   "outputs": [
    {
     "name": "stdout",
     "output_type": "stream",
     "text": [
      "No Skill: ROC AUC = 0.5\n",
      "LR : ROC AUC = 1.0\n",
      "ns_fpr = [0. 1.]\n",
      "ns_tpr = [0. 1.]\n",
      "lr_fpr = [0.         0.         0.         0.         0.23333333 0.48\n",
      " 0.51333333 0.7        1.        ]\n",
      "lr_tpr = [0.         0.3        0.46666667 1.         1.         1.\n",
      " 1.         1.         1.        ]\n"
     ]
    },
    {
     "data": {
      "image/png": "[encoded data removed]",
      "text/plain": [
       "<Figure size 432x288 with 1 Axes>"
      ]
     },
     "metadata": {
      "needs_background": "light"
     },
     "output_type": "display_data"
    }
   ],
   "source": [
    "# ROC AUC Curve\n",
    "from sklearn.metrics import roc_curve,roc_auc_score\n",
    "ns_probs = [0 for _ in range(len(y_test))]\n",
    "ns_auc=roc_auc_score(y_test,ns_probs)\n",
    "lr_auc=roc_auc_score(y_test,lr_probs)\n",
    "print('No Skill: ROC AUC =' ,ns_auc)\n",
    "print('LR : ROC AUC =',lr_auc)\n",
    "ns_fpr, ns_tpr, _ = roc_curve(y_test, ns_probs)\n",
    "lr_fpr, lr_tpr, _ = roc_curve(y_test, lr_probs)\n",
    "print('ns_fpr =',ns_fpr)\n",
    "print('ns_tpr =',ns_tpr)\n",
    "print('lr_fpr =',lr_fpr)\n",
    "print('lr_tpr =',lr_tpr)\n",
    "# plot the roc curve for the model\n",
    "pyplot.plot(ns_fpr, ns_tpr, linestyle='--', label='No Skill')\n",
    "pyplot.plot(lr_fpr, lr_tpr, marker='.', label='LR')\n",
    "# axis labels\n",
    "pyplot.xlabel('False Positive Rate')\n",
    "pyplot.ylabel('True Positive Rate')\n",
    "# show the legend\n",
    "pyplot.legend()\n",
    "# show the plot\n",
    "pyplot.show()"
   ]
  },
  {
   "cell_type": "markdown",
   "metadata": {},
   "source": [
    "## 6) Using ANN on the testing data"
   ]
  },
  {
   "cell_type": "code",
   "execution_count": 95,
   "metadata": {},
   "outputs": [
    {
     "name": "stdout",
     "output_type": "stream",
     "text": [
      "Y_Predict = [0 0 0 0 0 0 0 0 0 0 0 0 0 0 0 0 0 0 0 0 0 0 0 0 0 0 0 0 0 0 0 0 0 0 0 0 0\n",
      " 0 0 0 0 0 0 0 0 0 0 0 0 0 0 0 0 0 0 0 0 0 0 0 0 0 0 0 0 0 0 0 0 0 0 0 0 0\n",
      " 0 0 0 0 0 0 0 0 0 0 0 0 0 0 0 0 0 0 0 0 0 0 0 0 0 0 0 0 0 0 0 0 0 0 0 0 0\n",
      " 0 0 0 0 0 0 0 0 0 0 0 0 0 0 0 0 0 0 0 0 0 0 0 0 0 0 0 0 0 0 0 0 0 0 0 0 0\n",
      " 0 0 0 0 0 0 0 0 0 0 0 0 0 0 0 0 0 0 0 0 0 0 0 0 0 0 0 0 0 0 0 0 0 0 0 0 0\n",
      " 0 0 0 0 0 0 0 0 0 0 0 0 0 0 0 0 0 0 0 0 0 0 0 0 0 0 0 0 0 0 0 0 0 0 0 0 0\n",
      " 0 0 0 0 0 0 0 0 1 1 1 1 1 1 1 1 1 1 1 1 1 1 1 1 1 1 1 1 1 1 1 1 1 1 1 1 1\n",
      " 1 1 1 1 1 1 1 1 1 1 1 1 1 1 1 1 1 1 1 1 1 1 1 1 1 1 1 1 1 1 1 1 1 1 1 1 1\n",
      " 1 1 1 1]\n",
      "Accuracy with MLP Classifier = 73.3%\n",
      "Precision with MLP Classifier = 87.6%\n",
      "Recall with MLP Classifier = 73.3%\n",
      "F1_score with MLP Classifier = 75.4%\n"
     ]
    },
    {
     "data": {
      "text/html": [
       "<div>\n",
       "<style scoped>\n",
       "    .dataframe tbody tr th:only-of-type {\n",
       "        vertical-align: middle;\n",
       "    }\n",
       "\n",
       "    .dataframe tbody tr th {\n",
       "        vertical-align: top;\n",
       "    }\n",
       "\n",
       "    .dataframe thead th {\n",
       "        text-align: right;\n",
       "    }\n",
       "</style>\n",
       "<table border=\"1\" class=\"dataframe\">\n",
       "  <thead>\n",
       "    <tr style=\"text-align: right;\">\n",
       "      <th>col_0</th>\n",
       "      <th>0</th>\n",
       "      <th>1</th>\n",
       "    </tr>\n",
       "    <tr>\n",
       "      <th>row_0</th>\n",
       "      <th></th>\n",
       "      <th></th>\n",
       "    </tr>\n",
       "  </thead>\n",
       "  <tbody>\n",
       "    <tr>\n",
       "      <th>0</th>\n",
       "      <td>150</td>\n",
       "      <td>80</td>\n",
       "    </tr>\n",
       "    <tr>\n",
       "      <th>1</th>\n",
       "      <td>0</td>\n",
       "      <td>70</td>\n",
       "    </tr>\n",
       "  </tbody>\n",
       "</table>\n",
       "</div>"
      ],
      "text/plain": [
       "col_0    0   1\n",
       "row_0         \n",
       "0      150  80\n",
       "1        0  70"
      ]
     },
     "execution_count": 95,
     "metadata": {},
     "output_type": "execute_result"
    }
   ],
   "source": [
    "model = MLPClassifier(hidden_layer_sizes=(10,10),activation='relu',solver='adam',alpha=0.01,batch_size='auto',\n",
    "                      learning_rate='constant',learning_rate_init=0.001,random_state=0)\n",
    "model.fit(X_train, y) \n",
    "y_predict = model.predict(X_test)\n",
    "print(\"Y_Predict =\",y_predict)\n",
    "accuracy = metrics.accuracy_score(y_predict, y_test) * 100\n",
    "print(\"Accuracy with MLP Classifier = {0:.1f}%\".format(accuracy))\n",
    "precision = metrics.precision_score(y_predict, y_test,average='weighted') * 100\n",
    "print(\"Precision with MLP Classifier = {0:.1f}%\".format(precision))\n",
    "recall = metrics.recall_score(y_predict, y_test,average='weighted') * 100\n",
    "print(\"Recall with MLP Classifier = {0:.1f}%\".format(recall))\n",
    "f1_score = metrics.f1_score(y_predict, y_test,average='weighted') * 100\n",
    "print(\"F1_score with MLP Classifier = {0:.1f}%\".format(f1_score))\n",
    "pd.crosstab(y_predict,y_test)"
   ]
  },
  {
   "cell_type": "code",
   "execution_count": 96,
   "metadata": {},
   "outputs": [
    {
     "name": "stdout",
     "output_type": "stream",
     "text": [
      "ANN: precision =  [0.84269663 0.84180791 0.79710145 0.99099099 1.         1.\n",
      " 1.        ]\n",
      "ANN: recall =  [1.         0.99333333 0.73333333 0.73333333 0.73333333 0.46666667\n",
      " 0.        ]\n"
     ]
    },
    {
     "data": {
      "image/png": "[encoded data removed]",
      "text/plain": [
       "<Figure size 432x288 with 1 Axes>"
      ]
     },
     "metadata": {
      "needs_background": "light"
     },
     "output_type": "display_data"
    }
   ],
   "source": [
    "## Precision-Recall Curve\n",
    "from sklearn.metrics import precision_recall_curve\n",
    "ann_probs = model.predict_proba(X_test)\n",
    "# keep probabilities for the positive outcome only\n",
    "ann_probs = ann_probs[:, 1]\n",
    "y_predict=model.predict(X_test)\n",
    "ann_precision, ann_recall, _ = precision_recall_curve(y_test, ann_probs)\n",
    "# summarize scores\n",
    "print(\"ANN: precision = \",ann_precision)\n",
    "print(\"ANN: recall = \",ann_recall)\n",
    "# plot the precision-recall curves\n",
    "no_skill = len(y_test[y_test==1]) / len(y_test)\n",
    "pyplot.plot([0, 1], [no_skill, no_skill], linestyle='--', label='No Skill')\n",
    "pyplot.plot(ann_recall, ann_precision, marker='.', label='ANN')\n",
    "# axis labels\n",
    "pyplot.xlabel('Recall')\n",
    "pyplot.ylabel('Precision')\n",
    "# show the legend\n",
    "pyplot.legend()\n",
    "# show the plot\n",
    "pyplot.show()"
   ]
  },
  {
   "cell_type": "code",
   "execution_count": 97,
   "metadata": {},
   "outputs": [
    {
     "name": "stdout",
     "output_type": "stream",
     "text": [
      "No Skill: ROC AUC = 0.5\n",
      "ANN : ROC AUC = 0.6962222222222223\n",
      "ns_fpr = [0. 1.]\n",
      "ns_tpr = [0. 1.]\n",
      "ann_fpr = [0.         0.         0.         0.00666667 0.18666667 0.18666667\n",
      " 0.18666667 0.42       0.45333333 0.75333333 0.99333333 1.        ]\n",
      "ann_tpr = [0.         0.46666667 0.73333333 0.73333333 0.73333333 0.99333333\n",
      " 1.         1.         1.         1.         1.         1.        ]\n"
     ]
    },
    {
     "data": {
      "image/png": "[encoded data removed]",
      "text/plain": [
       "<Figure size 432x288 with 1 Axes>"
      ]
     },
     "metadata": {
      "needs_background": "light"
     },
     "output_type": "display_data"
    }
   ],
   "source": [
    "# ROC AUC Curve\n",
    "from sklearn.metrics import roc_curve,roc_auc_score\n",
    "ns_probs = [0 for _ in range(len(y_test))]\n",
    "ns_auc=roc_auc_score(y_test,ns_probs)\n",
    "ann_auc=roc_auc_score(y_test,ann_probs)\n",
    "print('No Skill: ROC AUC =' ,ns_auc)\n",
    "print('ANN : ROC AUC =',svm_auc)\n",
    "ns_fpr, ns_tpr, _ = roc_curve(y_test, ns_probs)\n",
    "ann_fpr, ann_tpr, _ = roc_curve(y_test, ann_probs)\n",
    "print('ns_fpr =',ns_fpr)\n",
    "print('ns_tpr =',ns_tpr)\n",
    "print('ann_fpr =',ann_fpr)\n",
    "print('ann_tpr =',ann_tpr)\n",
    "# plot the roc curve for the model\n",
    "pyplot.plot(ns_fpr, ns_tpr, linestyle='--', label='No Skill')\n",
    "pyplot.plot(svm_fpr, svm_tpr, marker='.', label='ANN')\n",
    "# axis labels\n",
    "pyplot.xlabel('False Positive Rate')\n",
    "pyplot.ylabel('True Positive Rate')\n",
    "# show the legend\n",
    "pyplot.legend()\n",
    "# show the plot\n",
    "pyplot.show()"
   ]
  },
  {
   "cell_type": "code",
   "execution_count": null,
   "metadata": {},
   "outputs": [],
   "source": []
  }
 ],
 "metadata": {
  "kernelspec": {
   "display_name": "Python 3",
   "language": "python",
   "name": "python3"
  },
  "language_info": {
   "codemirror_mode": {
    "name": "ipython",
    "version": 3
   },
   "file_extension": ".py",
   "mimetype": "text/x-python",
   "name": "python",
   "nbconvert_exporter": "python",
   "pygments_lexer": "ipython3",
   "version": "3.8.5"
  }
 },
 "nbformat": 4,
 "nbformat_minor": 4
}
