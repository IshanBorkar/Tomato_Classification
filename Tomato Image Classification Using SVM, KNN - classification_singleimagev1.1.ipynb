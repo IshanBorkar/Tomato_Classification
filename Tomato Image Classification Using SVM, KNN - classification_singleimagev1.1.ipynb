{
 "cells": [
  {
   "cell_type": "markdown",
   "metadata": {},
   "source": [
    "### Import the packages"
   ]
  },
  {
   "cell_type": "code",
   "execution_count": 1,
   "metadata": {},
   "outputs": [],
   "source": [
    "import numpy as np\n",
    "import pandas as pd\n",
    "import glob\n",
    "import os\n",
    "import matplotlib.pyplot as plt\n",
    "import string\n",
    "import cv2\n",
    "from mlxtend.plotting import plot_decision_regions\n",
    "from mpl_toolkits.mplot3d import Axes3D\n",
    "\n",
    "from sklearn.decomposition import PCA\n",
    "from sklearn.preprocessing import StandardScaler\n",
    "from sklearn.neighbors import KNeighborsClassifier\n",
    "from sklearn.tree import DecisionTreeClassifier \n",
    "from sklearn.model_selection import train_test_split, cross_val_score\n",
    "from sklearn.utils.multiclass import unique_labels\n",
    "from sklearn import metrics\n",
    "from sklearn.svm import SVC\n",
    "import warnings\n",
    "warnings.filterwarnings('ignore')"
   ]
  },
  {
   "cell_type": "code",
   "execution_count": 2,
   "metadata": {},
   "outputs": [
    {
     "name": "stdout",
     "output_type": "stream",
     "text": [
      "['Testing', 'Training']\n"
     ]
    }
   ],
   "source": [
    "print(os.listdir(\"C://Users/Ishan.Borkar/Desktop/Tomato analysis/Kaggle/\"))\n",
    "dim = 1"
   ]
  },
  {
   "cell_type": "code",
   "execution_count": 3,
   "metadata": {},
   "outputs": [],
   "source": [
    "def getTomatoes(tomatoes, data_type, print_n=False, k_fold=False):\n",
    "    images = []\n",
    "    labels = []\n",
    "    val = ['Training', 'Testing']\n",
    "    if not k_fold:\n",
    "        path = \"C://Users/Ishan.Borkar/Desktop/Tomato analysis/Kaggle/\" + data_type + \"/\"\n",
    "        for i,f in enumerate(tomatoes):\n",
    "            p = path + f\n",
    "            j=0\n",
    "            for image_path in glob.glob(os.path.join(p, \"*.jpg\")):\n",
    "                image = cv2.imread(image_path, cv2.IMREAD_COLOR)\n",
    "                image = cv2.resize(image, (dim, dim))\n",
    "                image = cv2.cvtColor(image, cv2.COLOR_RGB2BGR)\n",
    "                images.append(image)\n",
    "                labels.append(i)\n",
    "                j+=1\n",
    "            if(print_n):\n",
    "                print(\"There are \" , j , \" \" , data_type, \"images of \" , tomatoes[i])\n",
    "        labels = np.array(labels)\n",
    "        return images, labels\n",
    "    else:\n",
    "        for v in val:\n",
    "            path = \"C://Users/Ishan.Borkar/Desktop/Tomato analysis/Kaggle/\" + v + \"/\"\n",
    "            for i,f in enumerate(tomatoes):\n",
    "                p = path + f\n",
    "                j=0\n",
    "                for image_path in glob.glob(os.path.join(p, \"*.jpg\")):\n",
    "                    image = cv2.imread(image_path, cv2.IMREAD_COLOR)\n",
    "                    image = cv2.resize(image, (dim, dim))\n",
    "                    image = cv2.cvtColor(image, cv2.COLOR_RGB2BGR)\n",
    "                    images.append(image)\n",
    "                    labels.append(i)\n",
    "                    j+=1\n",
    "        images = np.array(images)\n",
    "        labels = np.array(labels)\n",
    "        return images, labels\n",
    "    \n",
    "def getAllTomatoes(tomatoes, data_type):\n",
    "    tomatoes = []\n",
    "    for tomato_path in glob.glob(\"C://Users/Ishan.Borkar/Desktop/Tomato analysis/Kaggle/Training/*\"):\n",
    "        tomato = tomato_path.split(\"/\")[-1]\n",
    "        tomatoes.append(tomato)\n",
    "    return tomatoes"
   ]
  },
  {
   "cell_type": "markdown",
   "metadata": {},
   "source": [
    "### Training data"
   ]
  },
  {
   "cell_type": "markdown",
   "metadata": {},
   "source": [
    "#### Initialize the tomatoes for training data"
   ]
  },
  {
   "cell_type": "code",
   "execution_count": 4,
   "metadata": {},
   "outputs": [
    {
     "name": "stdout",
     "output_type": "stream",
     "text": [
      "['SingleImage', 'SingleImage1']\n",
      "There are  2   Training images of  SingleImage\n",
      "There are  2   Training images of  SingleImage1\n",
      "There are  2   Testing images of  SingleImage\n",
      "There are  2   Testing images of  SingleImage1\n"
     ]
    }
   ],
   "source": [
    "tomatoes=['SingleImage','SingleImage1']\n",
    "print(tomatoes)\n",
    "X_train, y_train =  getTomatoes(tomatoes, 'Training', print_n=True, k_fold=False)\n",
    "X_test, y_test = getTomatoes(tomatoes, 'Testing', print_n=True, k_fold=False)"
   ]
  },
  {
   "cell_type": "markdown",
   "metadata": {},
   "source": [
    "#### Use K-fold for training data"
   ]
  },
  {
   "cell_type": "code",
   "execution_count": 5,
   "metadata": {},
   "outputs": [
    {
     "name": "stdout",
     "output_type": "stream",
     "text": [
      "X =  [[[[186 112  99]]]\n",
      "\n",
      "\n",
      " [[[171 143 129]]]\n",
      "\n",
      "\n",
      " [[[199  60  37]]]\n",
      "\n",
      "\n",
      " [[[150 112  91]]]\n",
      "\n",
      "\n",
      " [[[182  73  53]]]\n",
      "\n",
      "\n",
      " [[[121 113  66]]]\n",
      "\n",
      "\n",
      " [[[119  46  31]]]\n",
      "\n",
      "\n",
      " [[[187 180 154]]]]\n",
      "y =  [0 0 1 1 0 0 1 1]\n"
     ]
    }
   ],
   "source": [
    "X,y = getTomatoes(tomatoes, '', print_n=True, k_fold=True)\n",
    "print(\"X = \",X)\n",
    "print(\"y = \",y)"
   ]
  },
  {
   "cell_type": "markdown",
   "metadata": {},
   "source": [
    "#### Before using standard scaler "
   ]
  },
  {
   "cell_type": "code",
   "execution_count": 6,
   "metadata": {},
   "outputs": [
    {
     "name": "stdout",
     "output_type": "stream",
     "text": [
      "(1, 1, 3)\n"
     ]
    }
   ],
   "source": [
    "print(X_train[0].shape)"
   ]
  },
  {
   "cell_type": "code",
   "execution_count": 7,
   "metadata": {},
   "outputs": [
    {
     "name": "stdout",
     "output_type": "stream",
     "text": [
      "(1, 1, 3)\n"
     ]
    }
   ],
   "source": [
    "print(X_test[0].shape)"
   ]
  },
  {
   "cell_type": "markdown",
   "metadata": {},
   "source": [
    "#### Scaling the images using Standard Scaler for training data"
   ]
  },
  {
   "cell_type": "code",
   "execution_count": 8,
   "metadata": {},
   "outputs": [
    {
     "name": "stdout",
     "output_type": "stream",
     "text": [
      "X =  [[ 0.74837099  0.17179354  0.40190144]\n",
      " [ 0.22926972  0.91924615  1.13263134]\n",
      " [ 1.19825875 -1.08199793 -1.10827368]\n",
      " [-0.49747204  0.17179354  0.20704014]\n",
      " [ 0.60994398 -0.76855006 -0.71855107]\n",
      " [-1.50106782  0.19590492 -0.40190144]\n",
      " [-1.57028132 -1.41955717 -1.25441966]\n",
      " [ 0.78297774  1.81136701  1.74157292]]\n"
     ]
    }
   ],
   "source": [
    "scaler = StandardScaler()\n",
    "X_train1 = scaler.fit_transform([i.flatten() for i in X_train])\n",
    "X_test = scaler.fit_transform([i.flatten() for i in X_test])\n",
    "X = scaler.fit_transform([i.flatten() for i in X])\n",
    "print(\"X = \",X)"
   ]
  },
  {
   "cell_type": "code",
   "execution_count": 9,
   "metadata": {},
   "outputs": [
    {
     "name": "stdout",
     "output_type": "stream",
     "text": [
      "(1, 1, 3)\n"
     ]
    }
   ],
   "source": [
    "print(X_train[0].shape)"
   ]
  },
  {
   "cell_type": "code",
   "execution_count": 10,
   "metadata": {},
   "outputs": [
    {
     "name": "stdout",
     "output_type": "stream",
     "text": [
      "(1, 3)\n"
     ]
    }
   ],
   "source": [
    "print(X_test[0:1].shape)"
   ]
  },
  {
   "cell_type": "code",
   "execution_count": 11,
   "metadata": {},
   "outputs": [
    {
     "name": "stdout",
     "output_type": "stream",
     "text": [
      "(4,)\n"
     ]
    }
   ],
   "source": [
    "print(y_train.shape)"
   ]
  },
  {
   "cell_type": "code",
   "execution_count": 12,
   "metadata": {},
   "outputs": [
    {
     "name": "stdout",
     "output_type": "stream",
     "text": [
      "(4,)\n"
     ]
    }
   ],
   "source": [
    "print(y_test.shape)"
   ]
  },
  {
   "cell_type": "code",
   "execution_count": 13,
   "metadata": {},
   "outputs": [],
   "source": [
    "def plot_image_grid(images, nb_rows, nb_cols, figsize=(15,15)):\n",
    "    assert len(images) == nb_rows*nb_cols, \"Number of images should be the same as (nb_rows*nb_cols)\"\n",
    "    n = 0\n",
    "    fig, axes = plt.subplots(nb_rows,nb_cols, figsize=figsize)\n",
    "    for i in range(0, nb_rows):\n",
    "        for j in range(0, nb_cols):\n",
    "            axes[i, j].axis('off')\n",
    "            axes[i, j].imshow(images[n])\n",
    "            n += 1   "
   ]
  },
  {
   "cell_type": "markdown",
   "metadata": {},
   "source": [
    "### 1) Trained Mobile Captured Single Image"
   ]
  },
  {
   "cell_type": "code",
   "execution_count": 14,
   "metadata": {
    "scrolled": true
   },
   "outputs": [
    {
     "name": "stdout",
     "output_type": "stream",
     "text": [
      "['SingleImage', 'SingleImage1']\n",
      "SingleImage\n"
     ]
    }
   ],
   "source": [
    "print(tomatoes)\n",
    "print(tomatoes[y_train[1]])\n",
    "# plot_image_grid(X_train[0:1],1,1)"
   ]
  },
  {
   "cell_type": "markdown",
   "metadata": {},
   "source": [
    "### 1) Using Linear SVM for Classification on trained data"
   ]
  },
  {
   "cell_type": "markdown",
   "metadata": {},
   "source": [
    "##### Define the model and evaluate all the metrics"
   ]
  },
  {
   "cell_type": "code",
   "execution_count": 15,
   "metadata": {},
   "outputs": [],
   "source": [
    "tomatoes = ['SingleImage','SingleImage1']\n",
    "\n",
    "#Get Images and Labels\n",
    "X, y =  getTomatoes(tomatoes, 'Training')\n",
    "X_test, y_test = getTomatoes(tomatoes, 'Testing')\n",
    "\n",
    "#Scale Data Images\n",
    "scaler = StandardScaler()\n",
    "X_train = scaler.fit_transform([i.flatten() for i in X])\n",
    "X_test = scaler.fit_transform([i.flatten() for i in X_test])"
   ]
  },
  {
   "cell_type": "code",
   "execution_count": 16,
   "metadata": {
    "scrolled": true
   },
   "outputs": [
    {
     "name": "stdout",
     "output_type": "stream",
     "text": [
      "Y_Predict = [0 1 1 0]\n"
     ]
    }
   ],
   "source": [
    "# Linear SVM\n",
    "model = SVC(gamma='scale', kernel='linear',probability=True)\n",
    "model.fit(X_train, y) \n",
    "y_predict = model.predict(X_test)\n",
    "print(\"Y_Predict =\",y_predict)"
   ]
  },
  {
   "cell_type": "markdown",
   "metadata": {},
   "source": [
    "### 2) Kernel RBF SVM for trained data"
   ]
  },
  {
   "cell_type": "code",
   "execution_count": 17,
   "metadata": {},
   "outputs": [
    {
     "name": "stdout",
     "output_type": "stream",
     "text": [
      "Y_Predict = [0 1 1 0]\n"
     ]
    }
   ],
   "source": [
    "# Kernel RBF SVM\n",
    "model = SVC(gamma='scale', kernel='rbf',probability=True)\n",
    "model.fit(X_train, y) \n",
    "y_predict = model.predict(X_test)\n",
    "print(\"Y_Predict =\",y_predict)"
   ]
  },
  {
   "cell_type": "markdown",
   "metadata": {},
   "source": [
    "### 3) KNN for trained data"
   ]
  },
  {
   "cell_type": "code",
   "execution_count": 18,
   "metadata": {},
   "outputs": [
    {
     "name": "stdout",
     "output_type": "stream",
     "text": [
      "Y_Predict = [0 1 1 0]\n"
     ]
    }
   ],
   "source": [
    "model = KNeighborsClassifier(n_neighbors=1,weights='uniform',metric='minkowski')\n",
    "model.fit(X_train, y) \n",
    "y_predict = model.predict(X_test)\n",
    "print(\"Y_Predict =\",y_predict)"
   ]
  },
  {
   "cell_type": "markdown",
   "metadata": {},
   "source": [
    "## 4) Using Logistic Regression on the training data"
   ]
  },
  {
   "cell_type": "code",
   "execution_count": 19,
   "metadata": {},
   "outputs": [],
   "source": [
    "from sklearn.linear_model import LogisticRegression"
   ]
  },
  {
   "cell_type": "code",
   "execution_count": 20,
   "metadata": {},
   "outputs": [
    {
     "name": "stdout",
     "output_type": "stream",
     "text": [
      "Y_Predict = [1 1 1 0]\n"
     ]
    }
   ],
   "source": [
    "model = LogisticRegression(random_state=10,n_jobs=1,)\n",
    "model.fit(X_train, y) \n",
    "y_predict = model.predict(X_test)\n",
    "print(\"Y_Predict =\",y_predict)"
   ]
  },
  {
   "cell_type": "markdown",
   "metadata": {},
   "source": [
    "## 5) Using ANN on the training data"
   ]
  },
  {
   "cell_type": "code",
   "execution_count": 21,
   "metadata": {},
   "outputs": [],
   "source": [
    "from sklearn.neural_network import MLPClassifier"
   ]
  },
  {
   "cell_type": "code",
   "execution_count": 22,
   "metadata": {},
   "outputs": [
    {
     "name": "stdout",
     "output_type": "stream",
     "text": [
      "Y_Predict = [1 1 1 0]\n"
     ]
    }
   ],
   "source": [
    "model = MLPClassifier(hidden_layer_sizes=(10,),activation='relu',solver='adam',alpha=0.0001,batch_size='auto',\n",
    "                      learning_rate='constant',learning_rate_init=0.001,random_state=10)\n",
    "model.fit(X_train, y) \n",
    "y_predict = model.predict(X_test)\n",
    "print(\"Y_Predict =\",y_predict)"
   ]
  },
  {
   "cell_type": "markdown",
   "metadata": {},
   "source": [
    "### Testing data"
   ]
  },
  {
   "cell_type": "code",
   "execution_count": 23,
   "metadata": {},
   "outputs": [],
   "source": [
    "def getTomatoes(tomatoes, data_type, print_n=False, k_fold=False):\n",
    "    images = []\n",
    "    labels = []\n",
    "    val = ['Testing']\n",
    "    if not k_fold:\n",
    "        path = \"C://Users/Ishan.Borkar/Desktop/Tomato analysis/Kaggle/\" + data_type + \"/\"\n",
    "        for i,f in enumerate(tomatoes):\n",
    "            p = path + f\n",
    "            j=0\n",
    "            for image_path in glob.glob(os.path.join(p, \"*.jpg\")):\n",
    "                image = cv2.imread(image_path, cv2.IMREAD_COLOR)\n",
    "                image = cv2.resize(image, (dim, dim))\n",
    "                image = cv2.cvtColor(image, cv2.COLOR_RGB2BGR)\n",
    "                images.append(image)\n",
    "                labels.append(i)\n",
    "                j+=1\n",
    "            if(print_n):\n",
    "                print(\"There are\" , j , \"\" , data_type, \"images of\" , tomatoes[i])\n",
    "        images = np.array(images)\n",
    "        labels = np.array(labels)\n",
    "        return images, labels\n",
    "    else:\n",
    "        for v in val:\n",
    "            path = \"C://Users/Ishan.Borkar/Desktop/Tomato analysis/Kaggle/\" + v + \"/\"\n",
    "            for i,f in enumerate(tomatoes):\n",
    "                p = path + f\n",
    "                j=0\n",
    "                for image_path in glob.glob(os.path.join(p, \"*.jpg\")):\n",
    "                    image = cv2.imread(image_path, cv2.IMREAD_COLOR)\n",
    "                    image = cv2.resize(image, (dim, dim))\n",
    "                    image = cv2.cvtColor(image, cv2.COLOR_RGB2BGR)\n",
    "                    images.append(image)\n",
    "                    labels.append(i)\n",
    "                    j+=1\n",
    "        images = np.array(images)\n",
    "        labels = np.array(labels)\n",
    "        return images, labels\n",
    "    \n",
    "def getAllTomatoes():\n",
    "    tomatoes = []\n",
    "    for tomato_path in glob.glob(\"C://Users/Ishan.Borkar/Desktop/Tomato analysis/Kaggle/Testing/*\"):\n",
    "        tomato = tomato_path.split(\"/\")[-1]\n",
    "        tomatoes.append(tomato)\n",
    "    return tomatoes"
   ]
  },
  {
   "cell_type": "markdown",
   "metadata": {},
   "source": [
    "#### Initialize the tomatoes for testing data"
   ]
  },
  {
   "cell_type": "code",
   "execution_count": 24,
   "metadata": {},
   "outputs": [
    {
     "name": "stdout",
     "output_type": "stream",
     "text": [
      "['SingleImage', 'SingleImage1']\n",
      "There are 2  Testing images of SingleImage\n",
      "There are 2  Testing images of SingleImage1\n",
      "There are 2  Training images of SingleImage\n",
      "There are 2  Training images of SingleImage1\n"
     ]
    }
   ],
   "source": [
    "tomatoes=['SingleImage','SingleImage1']\n",
    "print(tomatoes)\n",
    "X_train, y_train =  getTomatoes(tomatoes, 'Testing', print_n=True, k_fold=False)\n",
    "X_test, y_test = getTomatoes(tomatoes, 'Training', print_n=True, k_fold=False)"
   ]
  },
  {
   "cell_type": "markdown",
   "metadata": {},
   "source": [
    "#### Use k-fold for testing data"
   ]
  },
  {
   "cell_type": "code",
   "execution_count": 25,
   "metadata": {},
   "outputs": [
    {
     "name": "stdout",
     "output_type": "stream",
     "text": [
      "X =  [[[[182  73  53]]]\n",
      "\n",
      "\n",
      " [[[121 113  66]]]\n",
      "\n",
      "\n",
      " [[[119  46  31]]]\n",
      "\n",
      "\n",
      " [[[187 180 154]]]]\n",
      "y =  [0 0 1 1]\n"
     ]
    }
   ],
   "source": [
    "X,y = getTomatoes(tomatoes, '', print_n=True, k_fold=True)\n",
    "print(\"X = \",X)\n",
    "print(\"y = \",y)"
   ]
  },
  {
   "cell_type": "markdown",
   "metadata": {},
   "source": [
    "#### Using standard scalar for testing data"
   ]
  },
  {
   "cell_type": "code",
   "execution_count": 26,
   "metadata": {},
   "outputs": [
    {
     "name": "stdout",
     "output_type": "stream",
     "text": [
      "X =  [[ 0.92087722 -0.59473025 -0.49209824]\n",
      " [-0.967308    0.19824342 -0.21395576]\n",
      " [-1.02921571 -1.12998747 -0.9628009 ]\n",
      " [ 1.0756465   1.5264743   1.6688549 ]]\n"
     ]
    }
   ],
   "source": [
    "scaler = StandardScaler()\n",
    "X_train1 = scaler.fit_transform([i.flatten() for i in X_train])\n",
    "X_test = scaler.fit_transform([i.flatten() for i in X_test])\n",
    "X = scaler.fit_transform([i.flatten() for i in X])\n",
    "print(\"X = \",X)"
   ]
  },
  {
   "cell_type": "markdown",
   "metadata": {},
   "source": [
    "### 1) Tested Mobile Captured Single Image"
   ]
  },
  {
   "cell_type": "code",
   "execution_count": 27,
   "metadata": {},
   "outputs": [
    {
     "name": "stdout",
     "output_type": "stream",
     "text": [
      "SingleImage\n"
     ]
    }
   ],
   "source": [
    "print(tomatoes[y_train[0]])\n",
    "# plot_image_grid(X_train[0:1], 1, 1)"
   ]
  },
  {
   "cell_type": "markdown",
   "metadata": {},
   "source": [
    "### Multiclass classification for testing data"
   ]
  },
  {
   "cell_type": "code",
   "execution_count": 28,
   "metadata": {},
   "outputs": [],
   "source": [
    "tomatoes = ['SingleImage','SingleImage1']\n",
    "\n",
    "#Get Images and Labels\n",
    "X, y =  getTomatoes(tomatoes, 'Testing')\n",
    "X_test, y_test = getTomatoes(tomatoes, 'Training')\n",
    "\n",
    "#Scale Data Images\n",
    "scaler = StandardScaler()\n",
    "X_train = scaler.fit_transform([i.flatten() for i in X])\n",
    "X_test = scaler.fit_transform([i.flatten() for i in X_test])"
   ]
  },
  {
   "cell_type": "markdown",
   "metadata": {},
   "source": [
    "### 1) Using Linear SVM for testing data"
   ]
  },
  {
   "cell_type": "code",
   "execution_count": 29,
   "metadata": {},
   "outputs": [
    {
     "name": "stdout",
     "output_type": "stream",
     "text": [
      "Y_Predict = [0 1 0 0]\n"
     ]
    }
   ],
   "source": [
    "model = SVC(gamma='scale', kernel='linear',probability=True)\n",
    "model.fit(X_train, y) \n",
    "y_predict = model.predict(X_test)\n",
    "print(\"Y_Predict =\",y_predict)"
   ]
  },
  {
   "cell_type": "markdown",
   "metadata": {},
   "source": [
    "### 2) Using Kernel RBF SVM for testing data"
   ]
  },
  {
   "cell_type": "code",
   "execution_count": 32,
   "metadata": {},
   "outputs": [
    {
     "name": "stdout",
     "output_type": "stream",
     "text": [
      "Y_Predict = [0 1 0 0]\n"
     ]
    }
   ],
   "source": [
    "model = SVC(gamma='scale', kernel='rbf',probability=True)\n",
    "model.fit(X_train, y) \n",
    "y_predict = model.predict(X_test)\n",
    "print(\"Y_Predict =\",y_predict)"
   ]
  },
  {
   "cell_type": "markdown",
   "metadata": {},
   "source": [
    "### 3) Using K-NN for testing data "
   ]
  },
  {
   "cell_type": "code",
   "execution_count": 33,
   "metadata": {},
   "outputs": [
    {
     "name": "stdout",
     "output_type": "stream",
     "text": [
      "Y_Predict = [0 1 0 0]\n"
     ]
    }
   ],
   "source": [
    "model = KNeighborsClassifier(n_neighbors=1,weights='uniform',metric='minkowski')\n",
    "model.fit(X_train, y) \n",
    "y_predict = model.predict(X_test)\n",
    "print(\"Y_Predict =\",y_predict)"
   ]
  },
  {
   "cell_type": "code",
   "execution_count": null,
   "metadata": {},
   "outputs": [],
   "source": []
  }
 ],
 "metadata": {
  "kernelspec": {
   "display_name": "Python 3",
   "language": "python",
   "name": "python3"
  },
  "language_info": {
   "codemirror_mode": {
    "name": "ipython",
    "version": 3
   },
   "file_extension": ".py",
   "mimetype": "text/x-python",
   "name": "python",
   "nbconvert_exporter": "python",
   "pygments_lexer": "ipython3",
   "version": "3.8.5"
  }
 },
 "nbformat": 4,
 "nbformat_minor": 4
}
